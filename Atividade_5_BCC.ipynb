{
  "nbformat": 4,
  "nbformat_minor": 0,
  "metadata": {
    "colab": {
      "name": "Atividade 5 BCC.ipynb",
      "provenance": [],
      "authorship_tag": "ABX9TyOtV8QRrdkBPEtlHjoo9h66",
      "include_colab_link": true
    },
    "kernelspec": {
      "name": "python3",
      "display_name": "Python 3"
    },
    "language_info": {
      "name": "python"
    }
  },
  "cells": [
    {
      "cell_type": "markdown",
      "metadata": {
        "id": "view-in-github",
        "colab_type": "text"
      },
      "source": [
        "<a href=\"https://colab.research.google.com/github/gabsgoms10/UFABCBCC.-2021.3-/blob/main/Atividade_5_BCC.ipynb\" target=\"_parent\"><img src=\"https://colab.research.google.com/assets/colab-badge.svg\" alt=\"Open In Colab\"/></a>"
      ]
    },
    {
      "cell_type": "code",
      "metadata": {
        "colab": {
          "base_uri": "https://localhost:8080/"
        },
        "id": "IFEg8ONKipfy",
        "outputId": "ebfd8787-c0b1-4385-d3ae-d950d9b5ca3b"
      },
      "source": [
        "\"\"\" 1. Faça um programa que lê um número inteiro 𝑛 e imprime a mensagem:\n",
        "• “O numero eh par” (caso 𝑛 seja par)\n",
        "• “O numero eh impar” (caso 𝑛 seja ímpar)\"\"\"\n",
        "x = int(input(\"Digite um número inteiro \"))\n",
        "if x%2==0:\n",
        "  print(\"O número \", x,\"é par\")\n",
        "else:\n",
        "  print(\"O número\", x, \"é impar\")"
      ],
      "execution_count": 5,
      "outputs": [
        {
          "output_type": "stream",
          "name": "stdout",
          "text": [
            "Digite um número inteiro 23\n",
            "O número 23 é impar\n"
          ]
        }
      ]
    },
    {
      "cell_type": "code",
      "metadata": {
        "colab": {
          "base_uri": "https://localhost:8080/"
        },
        "id": "0Esv8l_E4e8G",
        "outputId": "009e005b-2bd3-495e-ec14-c5dbc7dadf03"
      },
      "source": [
        "\"\"\"2. Escreva um programa que solicite ao usuário uma letra MAIÚSCULA e verifique se ela é uma vogal ou não, exibindo uma mensagem correspondente. Exiba:\n",
        "• Caso verdadeiro: “Eh uma vogal”\n",
        "• Caso falso: “Nao eh uma vogal”\"\"\"\n",
        "u = input(\"Manda uma vogal maiuscula ai meu testador \")\n",
        "x = (\"A\", \"E\", \"I\", \"O\", \"U\")\n",
        "if u in x:\n",
        "  print(u,\" é uma vogal sim\")\n",
        "else: \n",
        "  print(\"Esqueceu da vogal maiúscula meu chapa\")"
      ],
      "execution_count": 11,
      "outputs": [
        {
          "output_type": "stream",
          "name": "stdout",
          "text": [
            "Manda uma vogal maiuscula ai meu testador A\n",
            "A  é uma vogal sim\n"
          ]
        }
      ]
    },
    {
      "cell_type": "code",
      "metadata": {
        "colab": {
          "base_uri": "https://localhost:8080/"
        },
        "id": "qFUGItzc4mz-",
        "outputId": "c1d60147-f55d-46e6-9158-3aba20eb73ba"
      },
      "source": [
        "\"\"\"3. Leia 4 valores inteiros, fornecidos pelo usuário na linha de comando, A, B,\n",
        "C e D. A seguir, se todas as três condições abaixo são verdadeiras, escreva\n",
        "a mensagem \"Valores aceitos\", senão escreva \"Valores nao aceitos\":\n",
        "i. B maior do que C\n",
        "ii. D maior do que A\n",
        "iii. a soma de C com D maior que a soma de A com B\"\"\"\n",
        "\n",
        "A = int(input(\"Manda o número pra eu averiguar, por gentileza: \"))\n",
        "B = int(input(\"Manda outro número pra eu averiguar, por gentileza: \"))\n",
        "C = int(input(\"Mais um, por gentileza: \"))\n",
        "D = int(input(\"Mais amor, por favor: \"))\n",
        "print(\"Pra você recordar, o primeiro é \", A, \"o segundo é \", B, \"o terceiro é \", C, \"e o quarto é \", D)\n",
        "if B>C and D>A and (C+D)>(A+B):\n",
        "  print(\"Valores aceitos\")\n",
        "else:\n",
        "  print(\"Deu ruim\")"
      ],
      "execution_count": 17,
      "outputs": [
        {
          "output_type": "stream",
          "name": "stdout",
          "text": [
            "Manda o número pra eu averiguar, por gentileza: 65\n",
            "Manda outro número pra eu averiguar, por gentileza: 54\n",
            "Mais um, por gentileza: 43\n",
            "Mais amor, por favor: 32\n",
            "Pra você recordar, o primeiro é  65 o segundo é  54 o terceiro é  43 e o quarto é  32\n",
            "Deu ruim\n"
          ]
        }
      ]
    },
    {
      "cell_type": "code",
      "metadata": {
        "colab": {
          "base_uri": "https://localhost:8080/"
        },
        "id": "tMzeiWNf4q2E",
        "outputId": "c8b704f3-cb7a-4a7a-e26a-cdc7d9b12511"
      },
      "source": [
        "\"\"\"4. Escreva um programa que calcule a idade de uma pessoa a partir do seu\n",
        "ano de nascimento. O programa deve mostrar na tela a idade e também as\n",
        "seguintes mensagens, quando for o caso:\n",
        "• \"Ja pode votar\" (se tiver 16 anos ou mais)\n",
        "• \"Ja pode solicitar a Carteira de Habilitacao\" (se tiver 18 anos ou mais)\"\"\"\n",
        "\n",
        "y = int(input(\"Em que ano estamos no dia de hoje? \"))\n",
        "x = int(input(\"Em que ano você nasceu? \"))\n",
        "\n",
        "if (y-x) >= 18:\n",
        "  print(\"Vai dirigir\")\n",
        "elif (y-x) >= 16:\n",
        "  print(\"Vai votar\")\n",
        "else:\n",
        "  print(\"Ta novo\")"
      ],
      "execution_count": 25,
      "outputs": [
        {
          "output_type": "stream",
          "name": "stdout",
          "text": [
            "Em que ano estamos no dia de hoje? 403\n",
            "Em que ano você nasceu? 402\n",
            "Ta novo\n"
          ]
        }
      ]
    },
    {
      "cell_type": "code",
      "metadata": {
        "colab": {
          "base_uri": "https://localhost:8080/"
        },
        "id": "z5dquX554xFf",
        "outputId": "2793c8c5-bf69-4fe4-9d39-dd7b234e34ba"
      },
      "source": [
        "\"\"\"5. Escreva um algoritmo que peça como entrada os coeficientes a, b e c\n",
        "(números reais) de uma equação de 2.o grau. Suponha que o usuário sempre\n",
        "digita um número positivo para o coeficiente a. O programa deve fornecer\n",
        "como saída:\n",
        "I. se Δ = 0 : Calcule e imprime a única raiz pela fórmula de Bhaskara\n",
        "II. se Δ < 0 : Imprima a mensagem: \"As duas raizes sao complexas\"\n",
        "III. se Δ > 0 : Calcule e imprime as 2 raízes reais (com duas casas decimais)\n",
        "pela fórmula de Bhaskara\n",
        "onde Δ=𝑏2−4𝑎𝑐\"\"\"\n",
        "a, b, c = float(input(\"Digite o termo um\\n\")), float(input(\"Digite o termo dois\\n\")), float(input(\"Digite o termo três\\n\"))\n",
        "x = ((b**2) - 4*a*c)\n",
        "print(\"O delta é igual a: \", x)\n",
        "if x == 0:\n",
        "    uma_raiz = -b/2*a\n",
        "elif x < 0:\n",
        "  print(\"As duas raizes são complexas\")\n",
        "else:\n",
        "  a_raiz = ((-b)-x)/2*a\n",
        "  b_raiz = ((-b)+x)/2*a\n",
        "  print(\"Primeira raiz:\\n\", a_raiz)\n",
        "  print(\"Segunda raiz:\\n \", b_raiz)"
      ],
      "execution_count": 36,
      "outputs": [
        {
          "output_type": "stream",
          "name": "stdout",
          "text": [
            "Digite o termo um\n",
            "1\n",
            "Digite o termo dois\n",
            "1\n",
            "Digite o termo três\n",
            "1\n",
            "O delta é igual a:  -3.0\n",
            "As duas raizes são complexas\n"
          ]
        }
      ]
    },
    {
      "cell_type": "code",
      "metadata": {
        "colab": {
          "base_uri": "https://localhost:8080/"
        },
        "id": "9fOk8Nof4yYl",
        "outputId": "c2bae911-d36f-4ce8-d984-cfae66073662"
      },
      "source": [
        "\"\"\"6. Escreva um algoritmo que peça como entrada o peso (em kilogramasnúmero\n",
        "inteiro) e a altura (em metros-número com duas casas decimais) da\n",
        "pessoa. O programa deve calcular e exibir o seu IMC – Índice de Massa\n",
        "Corpórea. Adicionalmente, o programa deve emitir a mensagem\n",
        "correspondentes conforme a tabela a seguir:\"\"\"\n",
        "print(\"Vou calculas como ta seu corpo, tranquilo?\")\n",
        "x, y = int(input(\"Me manda seu peso em kilos por gentileza\\n\")), float(input(\"Me manda sua altura em metros com duas casas decimais (use ponto ao invés de vírgula)\\n\"))\n",
        "y = round(y, 2)\n",
        "c = y*y\n",
        "c = round(c, 2)\n",
        "print(\"Só pra te situar, o índice de massa corpórea (IMC) é composto pelo peso dividido pelo quadrado da altura \")\n",
        "IMC = x/c\n",
        "print(IMC)\n",
        "if IMC <= 18.5:\n",
        "  print(\"Você está abaixo do peso ideal\")\n",
        "elif 18.5 <= IMC <= 24.9:\n",
        "  print(\"Você está com o peso ideal\")\n",
        "elif 25.0 <= IMC <= 29.9:\n",
        "  print(\"Você está com sobrepeso\")\n",
        "elif 30.0 <= IMC <= 34.9:\n",
        "  print(\"Obesidade de grau 1\")\n",
        "elif 35.0 <=IMC <= 39.9 :\n",
        "  print(\"Obesidade de grau 2\")\n",
        "else:\n",
        "  print(\"Obesidade de grau 3\") "
      ],
      "execution_count": 48,
      "outputs": [
        {
          "output_type": "stream",
          "name": "stdout",
          "text": [
            "Vou calculas como ta seu corpo, tranquilo?\n",
            "Me manda seu peso em kilos por gentileza\n",
            "120\n",
            "Me manda sua altura em metros com duas casas decimais (use ponto ao invés de vírgula)\n",
            "1.83\n",
            "Só pra te situar, o índice de massa corpórea (IMC) é composto pelo peso dividido pelo quadrado da altura \n",
            "35.82089552238806\n",
            "Obesidade de grau 2\n"
          ]
        }
      ]
    }
  ]
}