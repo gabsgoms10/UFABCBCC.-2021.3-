{
  "nbformat": 4,
  "nbformat_minor": 0,
  "metadata": {
    "colab": {
      "name": "(Gabriel Cipriano BCC) - Bases02_02_BasesdeDados.ipynb",
      "provenance": [],
      "collapsed_sections": [],
      "toc_visible": true,
      "include_colab_link": true
    },
    "kernelspec": {
      "name": "python3",
      "display_name": "Python 3"
    }
  },
  "cells": [
    {
      "cell_type": "markdown",
      "metadata": {
        "id": "view-in-github",
        "colab_type": "text"
      },
      "source": [
        "<a href=\"https://colab.research.google.com/github/gabsgoms10/UFABCBCC.-2021.3-/blob/main/(Gabriel_Cipriano_BCC)_Bases02_02_BasesdeDados.ipynb\" target=\"_parent\"><img src=\"https://colab.research.google.com/assets/colab-badge.svg\" alt=\"Open In Colab\"/></a>"
      ]
    },
    {
      "cell_type": "markdown",
      "metadata": {
        "id": "fUtMA72SE__1"
      },
      "source": [
        "#Bases de Dados (parte 2)\n",
        "\n",
        "```\n",
        "(*) Adaptado de material preparado pela Profa. Cristiane Sato\n",
        "```"
      ]
    },
    {
      "cell_type": "markdown",
      "metadata": {
        "id": "9bAI-PHE1YC3"
      },
      "source": [
        "Neste notebook veremos outras funcionalidades importantes com Bases de Dados.\n",
        "\n",
        "Para executarmos as instruções, vamos importar o _pandas_ e abrir o arquivo de filmes."
      ]
    },
    {
      "cell_type": "code",
      "metadata": {
        "id": "mXa83cEd1sH_",
        "colab": {
          "base_uri": "https://localhost:8080/",
          "height": 351
        },
        "outputId": "96ac5f68-9d4d-45b0-9732-6226108f91a4"
      },
      "source": [
        "import pandas as pd\n",
        "filmes = pd.read_csv(\"https://drive.google.com/u/3/uc?id=1nBYJkh4MTzgB0-zR-HXUGYGiEkc4dK6u&export=download\", sep=\";\")\n",
        "filmes"
      ],
      "execution_count": null,
      "outputs": [
        {
          "output_type": "execute_result",
          "data": {
            "text/html": [
              "<div>\n",
              "<style scoped>\n",
              "    .dataframe tbody tr th:only-of-type {\n",
              "        vertical-align: middle;\n",
              "    }\n",
              "\n",
              "    .dataframe tbody tr th {\n",
              "        vertical-align: top;\n",
              "    }\n",
              "\n",
              "    .dataframe thead th {\n",
              "        text-align: right;\n",
              "    }\n",
              "</style>\n",
              "<table border=\"1\" class=\"dataframe\">\n",
              "  <thead>\n",
              "    <tr style=\"text-align: right;\">\n",
              "      <th></th>\n",
              "      <th>Titulo</th>\n",
              "      <th>Ano</th>\n",
              "      <th>Duracao</th>\n",
              "      <th>Nota</th>\n",
              "    </tr>\n",
              "  </thead>\n",
              "  <tbody>\n",
              "    <tr>\n",
              "      <th>0</th>\n",
              "      <td>Star Wars</td>\n",
              "      <td>1977</td>\n",
              "      <td>121</td>\n",
              "      <td>87</td>\n",
              "    </tr>\n",
              "    <tr>\n",
              "      <th>1</th>\n",
              "      <td>Harry Potter e a Pedra Filosofal</td>\n",
              "      <td>2001</td>\n",
              "      <td>152</td>\n",
              "      <td>75</td>\n",
              "    </tr>\n",
              "    <tr>\n",
              "      <th>2</th>\n",
              "      <td>O Senhor dos Anéis: a Companhia do Anel</td>\n",
              "      <td>2001</td>\n",
              "      <td>178</td>\n",
              "      <td>88</td>\n",
              "    </tr>\n",
              "    <tr>\n",
              "      <th>3</th>\n",
              "      <td>Os Vingadores</td>\n",
              "      <td>2012</td>\n",
              "      <td>143</td>\n",
              "      <td>84</td>\n",
              "    </tr>\n",
              "    <tr>\n",
              "      <th>4</th>\n",
              "      <td>Star Trek</td>\n",
              "      <td>2009</td>\n",
              "      <td>127</td>\n",
              "      <td>80</td>\n",
              "    </tr>\n",
              "    <tr>\n",
              "      <th>5</th>\n",
              "      <td>X-men</td>\n",
              "      <td>2000</td>\n",
              "      <td>104</td>\n",
              "      <td>74</td>\n",
              "    </tr>\n",
              "    <tr>\n",
              "      <th>6</th>\n",
              "      <td>Os Guardiões da Galáxia</td>\n",
              "      <td>2014</td>\n",
              "      <td>121</td>\n",
              "      <td>82</td>\n",
              "    </tr>\n",
              "    <tr>\n",
              "      <th>7</th>\n",
              "      <td>A Origem</td>\n",
              "      <td>2010</td>\n",
              "      <td>148</td>\n",
              "      <td>88</td>\n",
              "    </tr>\n",
              "    <tr>\n",
              "      <th>8</th>\n",
              "      <td>The Matrix</td>\n",
              "      <td>1999</td>\n",
              "      <td>136</td>\n",
              "      <td>87</td>\n",
              "    </tr>\n",
              "    <tr>\n",
              "      <th>9</th>\n",
              "      <td>O Exterminador do Futuro</td>\n",
              "      <td>1984</td>\n",
              "      <td>107</td>\n",
              "      <td>81</td>\n",
              "    </tr>\n",
              "  </tbody>\n",
              "</table>\n",
              "</div>"
            ],
            "text/plain": [
              "                                    Titulo   Ano  Duracao  Nota\n",
              "0                                Star Wars  1977      121    87\n",
              "1         Harry Potter e a Pedra Filosofal  2001      152    75\n",
              "2  O Senhor dos Anéis: a Companhia do Anel  2001      178    88\n",
              "3                            Os Vingadores  2012      143    84\n",
              "4                                Star Trek  2009      127    80\n",
              "5                                    X-men  2000      104    74\n",
              "6                  Os Guardiões da Galáxia  2014      121    82\n",
              "7                                 A Origem  2010      148    88\n",
              "8                               The Matrix  1999      136    87\n",
              "9                 O Exterminador do Futuro  1984      107    81"
            ]
          },
          "metadata": {
            "tags": []
          },
          "execution_count": 1
        }
      ]
    },
    {
      "cell_type": "markdown",
      "metadata": {
        "id": "A1gWTdNnjT5j"
      },
      "source": [
        "## Ordenação da Base de Dados\n",
        "\n",
        "Os dados ficam armazenados no arquivo na ordem em que são inseridos (gravados).\n",
        "\n",
        "Muita vezes, precisamos visualizar esses dados em outras ordens. \n",
        "\n",
        "Considere, por exemplo, que desejamos ver os filmes em ordem de Título.\n",
        "\n"
      ]
    },
    {
      "cell_type": "markdown",
      "metadata": {
        "id": "uQ4X46N44Lor"
      },
      "source": [
        "### Ordenação por um único atributo"
      ]
    },
    {
      "cell_type": "code",
      "metadata": {
        "id": "SUM5QSP-jTJj",
        "colab": {
          "base_uri": "https://localhost:8080/",
          "height": 340
        },
        "outputId": "efc19f5b-8f9a-4848-a661-15bafe987d61"
      },
      "source": [
        "filmes.sort_values(by=\"Titulo\")"
      ],
      "execution_count": null,
      "outputs": [
        {
          "output_type": "execute_result",
          "data": {
            "text/html": [
              "<div>\n",
              "<style scoped>\n",
              "    .dataframe tbody tr th:only-of-type {\n",
              "        vertical-align: middle;\n",
              "    }\n",
              "\n",
              "    .dataframe tbody tr th {\n",
              "        vertical-align: top;\n",
              "    }\n",
              "\n",
              "    .dataframe thead th {\n",
              "        text-align: right;\n",
              "    }\n",
              "</style>\n",
              "<table border=\"1\" class=\"dataframe\">\n",
              "  <thead>\n",
              "    <tr style=\"text-align: right;\">\n",
              "      <th></th>\n",
              "      <th>Titulo</th>\n",
              "      <th>Ano</th>\n",
              "      <th>Duracao</th>\n",
              "      <th>Nota</th>\n",
              "    </tr>\n",
              "  </thead>\n",
              "  <tbody>\n",
              "    <tr>\n",
              "      <th>7</th>\n",
              "      <td>A Origem</td>\n",
              "      <td>2010</td>\n",
              "      <td>148</td>\n",
              "      <td>88</td>\n",
              "    </tr>\n",
              "    <tr>\n",
              "      <th>1</th>\n",
              "      <td>Harry Potter e a Pedra Filosofal</td>\n",
              "      <td>2001</td>\n",
              "      <td>152</td>\n",
              "      <td>75</td>\n",
              "    </tr>\n",
              "    <tr>\n",
              "      <th>9</th>\n",
              "      <td>O Exterminador do Futuro</td>\n",
              "      <td>1984</td>\n",
              "      <td>107</td>\n",
              "      <td>81</td>\n",
              "    </tr>\n",
              "    <tr>\n",
              "      <th>2</th>\n",
              "      <td>O Senhor dos Anéis: a Companhia do Anel</td>\n",
              "      <td>2001</td>\n",
              "      <td>178</td>\n",
              "      <td>88</td>\n",
              "    </tr>\n",
              "    <tr>\n",
              "      <th>6</th>\n",
              "      <td>Os Guardiões da Galáxia</td>\n",
              "      <td>2014</td>\n",
              "      <td>121</td>\n",
              "      <td>82</td>\n",
              "    </tr>\n",
              "    <tr>\n",
              "      <th>3</th>\n",
              "      <td>Os Vingadores</td>\n",
              "      <td>2012</td>\n",
              "      <td>143</td>\n",
              "      <td>84</td>\n",
              "    </tr>\n",
              "    <tr>\n",
              "      <th>4</th>\n",
              "      <td>Star Trek</td>\n",
              "      <td>2009</td>\n",
              "      <td>127</td>\n",
              "      <td>80</td>\n",
              "    </tr>\n",
              "    <tr>\n",
              "      <th>0</th>\n",
              "      <td>Star Wars</td>\n",
              "      <td>1977</td>\n",
              "      <td>121</td>\n",
              "      <td>87</td>\n",
              "    </tr>\n",
              "    <tr>\n",
              "      <th>8</th>\n",
              "      <td>The Matrix</td>\n",
              "      <td>1999</td>\n",
              "      <td>136</td>\n",
              "      <td>87</td>\n",
              "    </tr>\n",
              "    <tr>\n",
              "      <th>5</th>\n",
              "      <td>X-men</td>\n",
              "      <td>2000</td>\n",
              "      <td>104</td>\n",
              "      <td>74</td>\n",
              "    </tr>\n",
              "  </tbody>\n",
              "</table>\n",
              "</div>"
            ],
            "text/plain": [
              "                                    Titulo   Ano  Duracao  Nota\n",
              "7                                 A Origem  2010      148    88\n",
              "1         Harry Potter e a Pedra Filosofal  2001      152    75\n",
              "9                 O Exterminador do Futuro  1984      107    81\n",
              "2  O Senhor dos Anéis: a Companhia do Anel  2001      178    88\n",
              "6                  Os Guardiões da Galáxia  2014      121    82\n",
              "3                            Os Vingadores  2012      143    84\n",
              "4                                Star Trek  2009      127    80\n",
              "0                                Star Wars  1977      121    87\n",
              "8                               The Matrix  1999      136    87\n",
              "5                                    X-men  2000      104    74"
            ]
          },
          "metadata": {
            "tags": []
          },
          "execution_count": 6
        }
      ]
    },
    {
      "cell_type": "markdown",
      "metadata": {
        "id": "0Ey6JC1v2UoG"
      },
      "source": [
        "Note que a função sort_values ordenou os dados por `Título`. \n",
        "Quer dizer, mostrou os dados ordenados por `Título`.\n",
        "De fato, a tabela original continua na mesma ordem (de armazenamento dos dados).\n",
        "\n",
        "Execute a célula abaixo e comprove!"
      ]
    },
    {
      "cell_type": "code",
      "metadata": {
        "id": "iP0I-0t22c5i",
        "colab": {
          "base_uri": "https://localhost:8080/",
          "height": 340
        },
        "outputId": "f4089174-30e7-4ba5-981c-a8071c2dc9ab"
      },
      "source": [
        "filmes"
      ],
      "execution_count": null,
      "outputs": [
        {
          "output_type": "execute_result",
          "data": {
            "text/html": [
              "<div>\n",
              "<style scoped>\n",
              "    .dataframe tbody tr th:only-of-type {\n",
              "        vertical-align: middle;\n",
              "    }\n",
              "\n",
              "    .dataframe tbody tr th {\n",
              "        vertical-align: top;\n",
              "    }\n",
              "\n",
              "    .dataframe thead th {\n",
              "        text-align: right;\n",
              "    }\n",
              "</style>\n",
              "<table border=\"1\" class=\"dataframe\">\n",
              "  <thead>\n",
              "    <tr style=\"text-align: right;\">\n",
              "      <th></th>\n",
              "      <th>Titulo</th>\n",
              "      <th>Ano</th>\n",
              "      <th>Duracao</th>\n",
              "      <th>Nota</th>\n",
              "    </tr>\n",
              "  </thead>\n",
              "  <tbody>\n",
              "    <tr>\n",
              "      <th>0</th>\n",
              "      <td>Star Wars</td>\n",
              "      <td>1977</td>\n",
              "      <td>121</td>\n",
              "      <td>87</td>\n",
              "    </tr>\n",
              "    <tr>\n",
              "      <th>1</th>\n",
              "      <td>Harry Potter e a Pedra Filosofal</td>\n",
              "      <td>2001</td>\n",
              "      <td>152</td>\n",
              "      <td>75</td>\n",
              "    </tr>\n",
              "    <tr>\n",
              "      <th>2</th>\n",
              "      <td>O Senhor dos Anéis: a Companhia do Anel</td>\n",
              "      <td>2001</td>\n",
              "      <td>178</td>\n",
              "      <td>88</td>\n",
              "    </tr>\n",
              "    <tr>\n",
              "      <th>3</th>\n",
              "      <td>Os Vingadores</td>\n",
              "      <td>2012</td>\n",
              "      <td>143</td>\n",
              "      <td>84</td>\n",
              "    </tr>\n",
              "    <tr>\n",
              "      <th>4</th>\n",
              "      <td>Star Trek</td>\n",
              "      <td>2009</td>\n",
              "      <td>127</td>\n",
              "      <td>80</td>\n",
              "    </tr>\n",
              "    <tr>\n",
              "      <th>5</th>\n",
              "      <td>X-men</td>\n",
              "      <td>2000</td>\n",
              "      <td>104</td>\n",
              "      <td>74</td>\n",
              "    </tr>\n",
              "    <tr>\n",
              "      <th>6</th>\n",
              "      <td>Os Guardiões da Galáxia</td>\n",
              "      <td>2014</td>\n",
              "      <td>121</td>\n",
              "      <td>82</td>\n",
              "    </tr>\n",
              "    <tr>\n",
              "      <th>7</th>\n",
              "      <td>A Origem</td>\n",
              "      <td>2010</td>\n",
              "      <td>148</td>\n",
              "      <td>88</td>\n",
              "    </tr>\n",
              "    <tr>\n",
              "      <th>8</th>\n",
              "      <td>The Matrix</td>\n",
              "      <td>1999</td>\n",
              "      <td>136</td>\n",
              "      <td>87</td>\n",
              "    </tr>\n",
              "    <tr>\n",
              "      <th>9</th>\n",
              "      <td>O Exterminador do Futuro</td>\n",
              "      <td>1984</td>\n",
              "      <td>107</td>\n",
              "      <td>81</td>\n",
              "    </tr>\n",
              "  </tbody>\n",
              "</table>\n",
              "</div>"
            ],
            "text/plain": [
              "                                    Titulo   Ano  Duracao  Nota\n",
              "0                                Star Wars  1977      121    87\n",
              "1         Harry Potter e a Pedra Filosofal  2001      152    75\n",
              "2  O Senhor dos Anéis: a Companhia do Anel  2001      178    88\n",
              "3                            Os Vingadores  2012      143    84\n",
              "4                                Star Trek  2009      127    80\n",
              "5                                    X-men  2000      104    74\n",
              "6                  Os Guardiões da Galáxia  2014      121    82\n",
              "7                                 A Origem  2010      148    88\n",
              "8                               The Matrix  1999      136    87\n",
              "9                 O Exterminador do Futuro  1984      107    81"
            ]
          },
          "metadata": {
            "tags": []
          },
          "execution_count": 7
        }
      ]
    },
    {
      "cell_type": "markdown",
      "metadata": {
        "id": "uwCrrcr9231j"
      },
      "source": [
        "Assim, o `sort_values` é uma função de visualização.\n",
        "É possível ordenar a tabela por qualquer atributo. Também é possível ordenar na ordem inversa (decrescente). Vejamos."
      ]
    },
    {
      "cell_type": "code",
      "metadata": {
        "id": "3-erGLYb3LXU",
        "colab": {
          "base_uri": "https://localhost:8080/",
          "height": 340
        },
        "outputId": "0f6636f7-aae6-4aa1-bb36-7d2e73906588"
      },
      "source": [
        "filmes.sort_values(by=\"Titulo\", ascending=False)"
      ],
      "execution_count": null,
      "outputs": [
        {
          "output_type": "execute_result",
          "data": {
            "text/html": [
              "<div>\n",
              "<style scoped>\n",
              "    .dataframe tbody tr th:only-of-type {\n",
              "        vertical-align: middle;\n",
              "    }\n",
              "\n",
              "    .dataframe tbody tr th {\n",
              "        vertical-align: top;\n",
              "    }\n",
              "\n",
              "    .dataframe thead th {\n",
              "        text-align: right;\n",
              "    }\n",
              "</style>\n",
              "<table border=\"1\" class=\"dataframe\">\n",
              "  <thead>\n",
              "    <tr style=\"text-align: right;\">\n",
              "      <th></th>\n",
              "      <th>Titulo</th>\n",
              "      <th>Ano</th>\n",
              "      <th>Duracao</th>\n",
              "      <th>Nota</th>\n",
              "    </tr>\n",
              "  </thead>\n",
              "  <tbody>\n",
              "    <tr>\n",
              "      <th>5</th>\n",
              "      <td>X-men</td>\n",
              "      <td>2000</td>\n",
              "      <td>104</td>\n",
              "      <td>74</td>\n",
              "    </tr>\n",
              "    <tr>\n",
              "      <th>8</th>\n",
              "      <td>The Matrix</td>\n",
              "      <td>1999</td>\n",
              "      <td>136</td>\n",
              "      <td>87</td>\n",
              "    </tr>\n",
              "    <tr>\n",
              "      <th>0</th>\n",
              "      <td>Star Wars</td>\n",
              "      <td>1977</td>\n",
              "      <td>121</td>\n",
              "      <td>87</td>\n",
              "    </tr>\n",
              "    <tr>\n",
              "      <th>4</th>\n",
              "      <td>Star Trek</td>\n",
              "      <td>2009</td>\n",
              "      <td>127</td>\n",
              "      <td>80</td>\n",
              "    </tr>\n",
              "    <tr>\n",
              "      <th>3</th>\n",
              "      <td>Os Vingadores</td>\n",
              "      <td>2012</td>\n",
              "      <td>143</td>\n",
              "      <td>84</td>\n",
              "    </tr>\n",
              "    <tr>\n",
              "      <th>6</th>\n",
              "      <td>Os Guardiões da Galáxia</td>\n",
              "      <td>2014</td>\n",
              "      <td>121</td>\n",
              "      <td>82</td>\n",
              "    </tr>\n",
              "    <tr>\n",
              "      <th>2</th>\n",
              "      <td>O Senhor dos Anéis: a Companhia do Anel</td>\n",
              "      <td>2001</td>\n",
              "      <td>178</td>\n",
              "      <td>88</td>\n",
              "    </tr>\n",
              "    <tr>\n",
              "      <th>9</th>\n",
              "      <td>O Exterminador do Futuro</td>\n",
              "      <td>1984</td>\n",
              "      <td>107</td>\n",
              "      <td>81</td>\n",
              "    </tr>\n",
              "    <tr>\n",
              "      <th>1</th>\n",
              "      <td>Harry Potter e a Pedra Filosofal</td>\n",
              "      <td>2001</td>\n",
              "      <td>152</td>\n",
              "      <td>75</td>\n",
              "    </tr>\n",
              "    <tr>\n",
              "      <th>7</th>\n",
              "      <td>A Origem</td>\n",
              "      <td>2010</td>\n",
              "      <td>148</td>\n",
              "      <td>88</td>\n",
              "    </tr>\n",
              "  </tbody>\n",
              "</table>\n",
              "</div>"
            ],
            "text/plain": [
              "                                    Titulo   Ano  Duracao  Nota\n",
              "5                                    X-men  2000      104    74\n",
              "8                               The Matrix  1999      136    87\n",
              "0                                Star Wars  1977      121    87\n",
              "4                                Star Trek  2009      127    80\n",
              "3                            Os Vingadores  2012      143    84\n",
              "6                  Os Guardiões da Galáxia  2014      121    82\n",
              "2  O Senhor dos Anéis: a Companhia do Anel  2001      178    88\n",
              "9                 O Exterminador do Futuro  1984      107    81\n",
              "1         Harry Potter e a Pedra Filosofal  2001      152    75\n",
              "7                                 A Origem  2010      148    88"
            ]
          },
          "metadata": {
            "tags": []
          },
          "execution_count": 8
        }
      ]
    },
    {
      "cell_type": "markdown",
      "metadata": {
        "id": "tKC9EDlf3UOp"
      },
      "source": [
        "O parâmetro `ascending=False` fez com que os dados fossem exibidos na ordem decrescente (descending)."
      ]
    },
    {
      "cell_type": "markdown",
      "metadata": {
        "id": "pkyrjq-hzaLV"
      },
      "source": [
        "#### Exercício\n",
        "\n",
        "Escreva uma instrução para listar os dados em ordem crescente de ano."
      ]
    },
    {
      "cell_type": "code",
      "metadata": {
        "id": "fCZ5cd4t0iBp"
      },
      "source": [
        "# Sua resposta\n"
      ],
      "execution_count": null,
      "outputs": []
    },
    {
      "cell_type": "markdown",
      "metadata": {
        "id": "PTkyRklf348F"
      },
      "source": [
        "#### Exercício\n",
        "\n",
        "Agora, escreva uma instrução para listar os dados em ordem decrescente de ano."
      ]
    },
    {
      "cell_type": "code",
      "metadata": {
        "id": "fPvsTZ4O38j-"
      },
      "source": [
        "# Sua resposta"
      ],
      "execution_count": null,
      "outputs": []
    },
    {
      "cell_type": "markdown",
      "metadata": {
        "id": "Wj8fv_Iv3-C0"
      },
      "source": [
        "### Ordenação por mais de um atributo\n",
        "\n",
        "É possível ordenar a tabela por mais de um atributo.\n",
        "\n",
        "A instrução a seguir ordena os dados por `Ano` e `Título`. Ou seja, se houver mais de um filme do mesmo `Ano`, eles serão exibidos em ordem de `Título` dentro do mesmo `Ano`."
      ]
    },
    {
      "cell_type": "code",
      "metadata": {
        "id": "RBV6eGOj48XV",
        "colab": {
          "base_uri": "https://localhost:8080/",
          "height": 340
        },
        "outputId": "20f15ab2-bbd1-4de6-fc1c-dd5bf41935e1"
      },
      "source": [
        "filmes.sort_values(by=[\"Ano\",\"Titulo\"])"
      ],
      "execution_count": null,
      "outputs": [
        {
          "output_type": "execute_result",
          "data": {
            "text/html": [
              "<div>\n",
              "<style scoped>\n",
              "    .dataframe tbody tr th:only-of-type {\n",
              "        vertical-align: middle;\n",
              "    }\n",
              "\n",
              "    .dataframe tbody tr th {\n",
              "        vertical-align: top;\n",
              "    }\n",
              "\n",
              "    .dataframe thead th {\n",
              "        text-align: right;\n",
              "    }\n",
              "</style>\n",
              "<table border=\"1\" class=\"dataframe\">\n",
              "  <thead>\n",
              "    <tr style=\"text-align: right;\">\n",
              "      <th></th>\n",
              "      <th>Titulo</th>\n",
              "      <th>Ano</th>\n",
              "      <th>Duracao</th>\n",
              "      <th>Nota</th>\n",
              "    </tr>\n",
              "  </thead>\n",
              "  <tbody>\n",
              "    <tr>\n",
              "      <th>0</th>\n",
              "      <td>Star Wars</td>\n",
              "      <td>1977</td>\n",
              "      <td>121</td>\n",
              "      <td>87</td>\n",
              "    </tr>\n",
              "    <tr>\n",
              "      <th>9</th>\n",
              "      <td>O Exterminador do Futuro</td>\n",
              "      <td>1984</td>\n",
              "      <td>107</td>\n",
              "      <td>81</td>\n",
              "    </tr>\n",
              "    <tr>\n",
              "      <th>8</th>\n",
              "      <td>The Matrix</td>\n",
              "      <td>1999</td>\n",
              "      <td>136</td>\n",
              "      <td>87</td>\n",
              "    </tr>\n",
              "    <tr>\n",
              "      <th>5</th>\n",
              "      <td>X-men</td>\n",
              "      <td>2000</td>\n",
              "      <td>104</td>\n",
              "      <td>74</td>\n",
              "    </tr>\n",
              "    <tr>\n",
              "      <th>1</th>\n",
              "      <td>Harry Potter e a Pedra Filosofal</td>\n",
              "      <td>2001</td>\n",
              "      <td>152</td>\n",
              "      <td>75</td>\n",
              "    </tr>\n",
              "    <tr>\n",
              "      <th>2</th>\n",
              "      <td>O Senhor dos Anéis: a Companhia do Anel</td>\n",
              "      <td>2001</td>\n",
              "      <td>178</td>\n",
              "      <td>88</td>\n",
              "    </tr>\n",
              "    <tr>\n",
              "      <th>4</th>\n",
              "      <td>Star Trek</td>\n",
              "      <td>2009</td>\n",
              "      <td>127</td>\n",
              "      <td>80</td>\n",
              "    </tr>\n",
              "    <tr>\n",
              "      <th>7</th>\n",
              "      <td>A Origem</td>\n",
              "      <td>2010</td>\n",
              "      <td>148</td>\n",
              "      <td>88</td>\n",
              "    </tr>\n",
              "    <tr>\n",
              "      <th>3</th>\n",
              "      <td>Os Vingadores</td>\n",
              "      <td>2012</td>\n",
              "      <td>143</td>\n",
              "      <td>84</td>\n",
              "    </tr>\n",
              "    <tr>\n",
              "      <th>6</th>\n",
              "      <td>Os Guardiões da Galáxia</td>\n",
              "      <td>2014</td>\n",
              "      <td>121</td>\n",
              "      <td>82</td>\n",
              "    </tr>\n",
              "  </tbody>\n",
              "</table>\n",
              "</div>"
            ],
            "text/plain": [
              "                                    Titulo   Ano  Duracao  Nota\n",
              "0                                Star Wars  1977      121    87\n",
              "9                 O Exterminador do Futuro  1984      107    81\n",
              "8                               The Matrix  1999      136    87\n",
              "5                                    X-men  2000      104    74\n",
              "1         Harry Potter e a Pedra Filosofal  2001      152    75\n",
              "2  O Senhor dos Anéis: a Companhia do Anel  2001      178    88\n",
              "4                                Star Trek  2009      127    80\n",
              "7                                 A Origem  2010      148    88\n",
              "3                            Os Vingadores  2012      143    84\n",
              "6                  Os Guardiões da Galáxia  2014      121    82"
            ]
          },
          "metadata": {
            "tags": []
          },
          "execution_count": 15
        }
      ]
    },
    {
      "cell_type": "markdown",
      "metadata": {
        "id": "-ex2oY0z5WQz"
      },
      "source": [
        "Veja acima que o `Ano` de 2001 possui dois filmes. Eles foram exibidos em ordem de `Título`."
      ]
    },
    {
      "cell_type": "markdown",
      "metadata": {
        "id": "GoNPfIb95lYs"
      },
      "source": [
        "Vamos agora exbir os dados por `Nota` (decrescente) e `Ano` (Crescente). \n",
        "Ou seja, se mais de um filme tiver a mesma `Nota`, eles serão exibidos em ordem crescente de `Ano`."
      ]
    },
    {
      "cell_type": "code",
      "metadata": {
        "id": "eezbVcTj6Bjo",
        "colab": {
          "base_uri": "https://localhost:8080/",
          "height": 340
        },
        "outputId": "38519eb5-429f-4910-bb25-8da6e2a47615"
      },
      "source": [
        "filmes.sort_values(by=[\"Nota\",\"Ano\"],ascending=[False, True])"
      ],
      "execution_count": null,
      "outputs": [
        {
          "output_type": "execute_result",
          "data": {
            "text/html": [
              "<div>\n",
              "<style scoped>\n",
              "    .dataframe tbody tr th:only-of-type {\n",
              "        vertical-align: middle;\n",
              "    }\n",
              "\n",
              "    .dataframe tbody tr th {\n",
              "        vertical-align: top;\n",
              "    }\n",
              "\n",
              "    .dataframe thead th {\n",
              "        text-align: right;\n",
              "    }\n",
              "</style>\n",
              "<table border=\"1\" class=\"dataframe\">\n",
              "  <thead>\n",
              "    <tr style=\"text-align: right;\">\n",
              "      <th></th>\n",
              "      <th>Titulo</th>\n",
              "      <th>Ano</th>\n",
              "      <th>Duracao</th>\n",
              "      <th>Nota</th>\n",
              "    </tr>\n",
              "  </thead>\n",
              "  <tbody>\n",
              "    <tr>\n",
              "      <th>2</th>\n",
              "      <td>O Senhor dos Anéis: a Companhia do Anel</td>\n",
              "      <td>2001</td>\n",
              "      <td>178</td>\n",
              "      <td>88</td>\n",
              "    </tr>\n",
              "    <tr>\n",
              "      <th>7</th>\n",
              "      <td>A Origem</td>\n",
              "      <td>2010</td>\n",
              "      <td>148</td>\n",
              "      <td>88</td>\n",
              "    </tr>\n",
              "    <tr>\n",
              "      <th>0</th>\n",
              "      <td>Star Wars</td>\n",
              "      <td>1977</td>\n",
              "      <td>121</td>\n",
              "      <td>87</td>\n",
              "    </tr>\n",
              "    <tr>\n",
              "      <th>8</th>\n",
              "      <td>The Matrix</td>\n",
              "      <td>1999</td>\n",
              "      <td>136</td>\n",
              "      <td>87</td>\n",
              "    </tr>\n",
              "    <tr>\n",
              "      <th>3</th>\n",
              "      <td>Os Vingadores</td>\n",
              "      <td>2012</td>\n",
              "      <td>143</td>\n",
              "      <td>84</td>\n",
              "    </tr>\n",
              "    <tr>\n",
              "      <th>6</th>\n",
              "      <td>Os Guardiões da Galáxia</td>\n",
              "      <td>2014</td>\n",
              "      <td>121</td>\n",
              "      <td>82</td>\n",
              "    </tr>\n",
              "    <tr>\n",
              "      <th>9</th>\n",
              "      <td>O Exterminador do Futuro</td>\n",
              "      <td>1984</td>\n",
              "      <td>107</td>\n",
              "      <td>81</td>\n",
              "    </tr>\n",
              "    <tr>\n",
              "      <th>4</th>\n",
              "      <td>Star Trek</td>\n",
              "      <td>2009</td>\n",
              "      <td>127</td>\n",
              "      <td>80</td>\n",
              "    </tr>\n",
              "    <tr>\n",
              "      <th>1</th>\n",
              "      <td>Harry Potter e a Pedra Filosofal</td>\n",
              "      <td>2001</td>\n",
              "      <td>152</td>\n",
              "      <td>75</td>\n",
              "    </tr>\n",
              "    <tr>\n",
              "      <th>5</th>\n",
              "      <td>X-men</td>\n",
              "      <td>2000</td>\n",
              "      <td>104</td>\n",
              "      <td>74</td>\n",
              "    </tr>\n",
              "  </tbody>\n",
              "</table>\n",
              "</div>"
            ],
            "text/plain": [
              "                                    Titulo   Ano  Duracao  Nota\n",
              "2  O Senhor dos Anéis: a Companhia do Anel  2001      178    88\n",
              "7                                 A Origem  2010      148    88\n",
              "0                                Star Wars  1977      121    87\n",
              "8                               The Matrix  1999      136    87\n",
              "3                            Os Vingadores  2012      143    84\n",
              "6                  Os Guardiões da Galáxia  2014      121    82\n",
              "9                 O Exterminador do Futuro  1984      107    81\n",
              "4                                Star Trek  2009      127    80\n",
              "1         Harry Potter e a Pedra Filosofal  2001      152    75\n",
              "5                                    X-men  2000      104    74"
            ]
          },
          "metadata": {
            "tags": []
          },
          "execution_count": 16
        }
      ]
    },
    {
      "cell_type": "markdown",
      "metadata": {
        "id": "ZysOccGr6u1z"
      },
      "source": [
        "Note que tanto a `Nota=88` quanto a `Nota=87 `foram obtidas por mais de um filme. Estes estão ordenados por `Ano`.\n",
        "\n",
        "O parâmetro ascending [False, True] possibilitou ordens distintas para cada atributo. O primeiro descrescente (_False_) e o segundo em ordem crescente (_True_)"
      ]
    },
    {
      "cell_type": "markdown",
      "metadata": {
        "id": "v9ncReF67-ff"
      },
      "source": [
        "### Guardando a Ordenação em Memória\n",
        "\n",
        "Como dissermos anteriormente o `sort_values` apenas mostra os dados ordenados mas não modifica o dataframe em memória.\n",
        "\n",
        "Mas existe uma maneira de fazer isso, por meio do parâmetro `inplace=True`.\n",
        "\n",
        "Vejamos!\n",
        "\n"
      ]
    },
    {
      "cell_type": "code",
      "metadata": {
        "id": "r0SQoHUh8hzk",
        "colab": {
          "base_uri": "https://localhost:8080/",
          "height": 340
        },
        "outputId": "e341a011-40e7-44b6-87b8-9e7b6671ae9b"
      },
      "source": [
        "filmes.sort_values(by=\"Titulo\", inplace=True)\n",
        "filmes"
      ],
      "execution_count": null,
      "outputs": [
        {
          "output_type": "execute_result",
          "data": {
            "text/html": [
              "<div>\n",
              "<style scoped>\n",
              "    .dataframe tbody tr th:only-of-type {\n",
              "        vertical-align: middle;\n",
              "    }\n",
              "\n",
              "    .dataframe tbody tr th {\n",
              "        vertical-align: top;\n",
              "    }\n",
              "\n",
              "    .dataframe thead th {\n",
              "        text-align: right;\n",
              "    }\n",
              "</style>\n",
              "<table border=\"1\" class=\"dataframe\">\n",
              "  <thead>\n",
              "    <tr style=\"text-align: right;\">\n",
              "      <th></th>\n",
              "      <th>Titulo</th>\n",
              "      <th>Ano</th>\n",
              "      <th>Duracao</th>\n",
              "      <th>Nota</th>\n",
              "    </tr>\n",
              "  </thead>\n",
              "  <tbody>\n",
              "    <tr>\n",
              "      <th>7</th>\n",
              "      <td>A Origem</td>\n",
              "      <td>2010</td>\n",
              "      <td>148</td>\n",
              "      <td>88</td>\n",
              "    </tr>\n",
              "    <tr>\n",
              "      <th>1</th>\n",
              "      <td>Harry Potter e a Pedra Filosofal</td>\n",
              "      <td>2001</td>\n",
              "      <td>152</td>\n",
              "      <td>75</td>\n",
              "    </tr>\n",
              "    <tr>\n",
              "      <th>9</th>\n",
              "      <td>O Exterminador do Futuro</td>\n",
              "      <td>1984</td>\n",
              "      <td>107</td>\n",
              "      <td>81</td>\n",
              "    </tr>\n",
              "    <tr>\n",
              "      <th>2</th>\n",
              "      <td>O Senhor dos Anéis: a Companhia do Anel</td>\n",
              "      <td>2001</td>\n",
              "      <td>178</td>\n",
              "      <td>88</td>\n",
              "    </tr>\n",
              "    <tr>\n",
              "      <th>6</th>\n",
              "      <td>Os Guardiões da Galáxia</td>\n",
              "      <td>2014</td>\n",
              "      <td>121</td>\n",
              "      <td>82</td>\n",
              "    </tr>\n",
              "    <tr>\n",
              "      <th>3</th>\n",
              "      <td>Os Vingadores</td>\n",
              "      <td>2012</td>\n",
              "      <td>143</td>\n",
              "      <td>84</td>\n",
              "    </tr>\n",
              "    <tr>\n",
              "      <th>4</th>\n",
              "      <td>Star Trek</td>\n",
              "      <td>2009</td>\n",
              "      <td>127</td>\n",
              "      <td>80</td>\n",
              "    </tr>\n",
              "    <tr>\n",
              "      <th>0</th>\n",
              "      <td>Star Wars</td>\n",
              "      <td>1977</td>\n",
              "      <td>121</td>\n",
              "      <td>87</td>\n",
              "    </tr>\n",
              "    <tr>\n",
              "      <th>8</th>\n",
              "      <td>The Matrix</td>\n",
              "      <td>1999</td>\n",
              "      <td>136</td>\n",
              "      <td>87</td>\n",
              "    </tr>\n",
              "    <tr>\n",
              "      <th>5</th>\n",
              "      <td>X-men</td>\n",
              "      <td>2000</td>\n",
              "      <td>104</td>\n",
              "      <td>74</td>\n",
              "    </tr>\n",
              "  </tbody>\n",
              "</table>\n",
              "</div>"
            ],
            "text/plain": [
              "                                    Titulo   Ano  Duracao  Nota\n",
              "7                                 A Origem  2010      148    88\n",
              "1         Harry Potter e a Pedra Filosofal  2001      152    75\n",
              "9                 O Exterminador do Futuro  1984      107    81\n",
              "2  O Senhor dos Anéis: a Companhia do Anel  2001      178    88\n",
              "6                  Os Guardiões da Galáxia  2014      121    82\n",
              "3                            Os Vingadores  2012      143    84\n",
              "4                                Star Trek  2009      127    80\n",
              "0                                Star Wars  1977      121    87\n",
              "8                               The Matrix  1999      136    87\n",
              "5                                    X-men  2000      104    74"
            ]
          },
          "metadata": {
            "tags": []
          },
          "execution_count": 19
        }
      ]
    },
    {
      "cell_type": "markdown",
      "metadata": {
        "id": "E5kgba3W8uZv"
      },
      "source": [
        "Note que agora, os dados mudaram de ordem. Se mandarmos exibir novamente o dataframe filmes, os dados continuam ordenados por título.\n"
      ]
    },
    {
      "cell_type": "code",
      "metadata": {
        "id": "9LIPLEP188SN",
        "colab": {
          "base_uri": "https://localhost:8080/",
          "height": 340
        },
        "outputId": "a5827b82-43f6-4187-8c23-7dd51c127b87"
      },
      "source": [
        "filmes"
      ],
      "execution_count": null,
      "outputs": [
        {
          "output_type": "execute_result",
          "data": {
            "text/html": [
              "<div>\n",
              "<style scoped>\n",
              "    .dataframe tbody tr th:only-of-type {\n",
              "        vertical-align: middle;\n",
              "    }\n",
              "\n",
              "    .dataframe tbody tr th {\n",
              "        vertical-align: top;\n",
              "    }\n",
              "\n",
              "    .dataframe thead th {\n",
              "        text-align: right;\n",
              "    }\n",
              "</style>\n",
              "<table border=\"1\" class=\"dataframe\">\n",
              "  <thead>\n",
              "    <tr style=\"text-align: right;\">\n",
              "      <th></th>\n",
              "      <th>Titulo</th>\n",
              "      <th>Ano</th>\n",
              "      <th>Duracao</th>\n",
              "      <th>Nota</th>\n",
              "    </tr>\n",
              "  </thead>\n",
              "  <tbody>\n",
              "    <tr>\n",
              "      <th>7</th>\n",
              "      <td>A Origem</td>\n",
              "      <td>2010</td>\n",
              "      <td>148</td>\n",
              "      <td>88</td>\n",
              "    </tr>\n",
              "    <tr>\n",
              "      <th>1</th>\n",
              "      <td>Harry Potter e a Pedra Filosofal</td>\n",
              "      <td>2001</td>\n",
              "      <td>152</td>\n",
              "      <td>75</td>\n",
              "    </tr>\n",
              "    <tr>\n",
              "      <th>9</th>\n",
              "      <td>O Exterminador do Futuro</td>\n",
              "      <td>1984</td>\n",
              "      <td>107</td>\n",
              "      <td>81</td>\n",
              "    </tr>\n",
              "    <tr>\n",
              "      <th>2</th>\n",
              "      <td>O Senhor dos Anéis: a Companhia do Anel</td>\n",
              "      <td>2001</td>\n",
              "      <td>178</td>\n",
              "      <td>88</td>\n",
              "    </tr>\n",
              "    <tr>\n",
              "      <th>6</th>\n",
              "      <td>Os Guardiões da Galáxia</td>\n",
              "      <td>2014</td>\n",
              "      <td>121</td>\n",
              "      <td>82</td>\n",
              "    </tr>\n",
              "    <tr>\n",
              "      <th>3</th>\n",
              "      <td>Os Vingadores</td>\n",
              "      <td>2012</td>\n",
              "      <td>143</td>\n",
              "      <td>84</td>\n",
              "    </tr>\n",
              "    <tr>\n",
              "      <th>4</th>\n",
              "      <td>Star Trek</td>\n",
              "      <td>2009</td>\n",
              "      <td>127</td>\n",
              "      <td>80</td>\n",
              "    </tr>\n",
              "    <tr>\n",
              "      <th>0</th>\n",
              "      <td>Star Wars</td>\n",
              "      <td>1977</td>\n",
              "      <td>121</td>\n",
              "      <td>87</td>\n",
              "    </tr>\n",
              "    <tr>\n",
              "      <th>8</th>\n",
              "      <td>The Matrix</td>\n",
              "      <td>1999</td>\n",
              "      <td>136</td>\n",
              "      <td>87</td>\n",
              "    </tr>\n",
              "    <tr>\n",
              "      <th>5</th>\n",
              "      <td>X-men</td>\n",
              "      <td>2000</td>\n",
              "      <td>104</td>\n",
              "      <td>74</td>\n",
              "    </tr>\n",
              "  </tbody>\n",
              "</table>\n",
              "</div>"
            ],
            "text/plain": [
              "                                    Titulo   Ano  Duracao  Nota\n",
              "7                                 A Origem  2010      148    88\n",
              "1         Harry Potter e a Pedra Filosofal  2001      152    75\n",
              "9                 O Exterminador do Futuro  1984      107    81\n",
              "2  O Senhor dos Anéis: a Companhia do Anel  2001      178    88\n",
              "6                  Os Guardiões da Galáxia  2014      121    82\n",
              "3                            Os Vingadores  2012      143    84\n",
              "4                                Star Trek  2009      127    80\n",
              "0                                Star Wars  1977      121    87\n",
              "8                               The Matrix  1999      136    87\n",
              "5                                    X-men  2000      104    74"
            ]
          },
          "metadata": {
            "tags": []
          },
          "execution_count": 20
        }
      ]
    },
    {
      "cell_type": "markdown",
      "metadata": {
        "id": "lvH2wRbI8_0h"
      },
      "source": [
        "Outra forma de guarda os dados ordenados, sem usar o `inplace=True` é gerando uma cópia ordenada com uma instrução como esta abaixo.\n"
      ]
    },
    {
      "cell_type": "code",
      "metadata": {
        "id": "QTwZbxxM9Y9d",
        "colab": {
          "base_uri": "https://localhost:8080/",
          "height": 340
        },
        "outputId": "b8dc81e0-d175-4f11-8628-2782bfc7f891"
      },
      "source": [
        "filmesAno = filmes.sort_values(by=\"Ano\")\n",
        "filmesAno"
      ],
      "execution_count": null,
      "outputs": [
        {
          "output_type": "execute_result",
          "data": {
            "text/html": [
              "<div>\n",
              "<style scoped>\n",
              "    .dataframe tbody tr th:only-of-type {\n",
              "        vertical-align: middle;\n",
              "    }\n",
              "\n",
              "    .dataframe tbody tr th {\n",
              "        vertical-align: top;\n",
              "    }\n",
              "\n",
              "    .dataframe thead th {\n",
              "        text-align: right;\n",
              "    }\n",
              "</style>\n",
              "<table border=\"1\" class=\"dataframe\">\n",
              "  <thead>\n",
              "    <tr style=\"text-align: right;\">\n",
              "      <th></th>\n",
              "      <th>Titulo</th>\n",
              "      <th>Ano</th>\n",
              "      <th>Duracao</th>\n",
              "      <th>Nota</th>\n",
              "    </tr>\n",
              "  </thead>\n",
              "  <tbody>\n",
              "    <tr>\n",
              "      <th>0</th>\n",
              "      <td>Star Wars</td>\n",
              "      <td>1977</td>\n",
              "      <td>121</td>\n",
              "      <td>87</td>\n",
              "    </tr>\n",
              "    <tr>\n",
              "      <th>9</th>\n",
              "      <td>O Exterminador do Futuro</td>\n",
              "      <td>1984</td>\n",
              "      <td>107</td>\n",
              "      <td>81</td>\n",
              "    </tr>\n",
              "    <tr>\n",
              "      <th>8</th>\n",
              "      <td>The Matrix</td>\n",
              "      <td>1999</td>\n",
              "      <td>136</td>\n",
              "      <td>87</td>\n",
              "    </tr>\n",
              "    <tr>\n",
              "      <th>5</th>\n",
              "      <td>X-men</td>\n",
              "      <td>2000</td>\n",
              "      <td>104</td>\n",
              "      <td>74</td>\n",
              "    </tr>\n",
              "    <tr>\n",
              "      <th>1</th>\n",
              "      <td>Harry Potter e a Pedra Filosofal</td>\n",
              "      <td>2001</td>\n",
              "      <td>152</td>\n",
              "      <td>75</td>\n",
              "    </tr>\n",
              "    <tr>\n",
              "      <th>2</th>\n",
              "      <td>O Senhor dos Anéis: a Companhia do Anel</td>\n",
              "      <td>2001</td>\n",
              "      <td>178</td>\n",
              "      <td>88</td>\n",
              "    </tr>\n",
              "    <tr>\n",
              "      <th>4</th>\n",
              "      <td>Star Trek</td>\n",
              "      <td>2009</td>\n",
              "      <td>127</td>\n",
              "      <td>80</td>\n",
              "    </tr>\n",
              "    <tr>\n",
              "      <th>7</th>\n",
              "      <td>A Origem</td>\n",
              "      <td>2010</td>\n",
              "      <td>148</td>\n",
              "      <td>88</td>\n",
              "    </tr>\n",
              "    <tr>\n",
              "      <th>3</th>\n",
              "      <td>Os Vingadores</td>\n",
              "      <td>2012</td>\n",
              "      <td>143</td>\n",
              "      <td>84</td>\n",
              "    </tr>\n",
              "    <tr>\n",
              "      <th>6</th>\n",
              "      <td>Os Guardiões da Galáxia</td>\n",
              "      <td>2014</td>\n",
              "      <td>121</td>\n",
              "      <td>82</td>\n",
              "    </tr>\n",
              "  </tbody>\n",
              "</table>\n",
              "</div>"
            ],
            "text/plain": [
              "                                    Titulo   Ano  Duracao  Nota\n",
              "0                                Star Wars  1977      121    87\n",
              "9                 O Exterminador do Futuro  1984      107    81\n",
              "8                               The Matrix  1999      136    87\n",
              "5                                    X-men  2000      104    74\n",
              "1         Harry Potter e a Pedra Filosofal  2001      152    75\n",
              "2  O Senhor dos Anéis: a Companhia do Anel  2001      178    88\n",
              "4                                Star Trek  2009      127    80\n",
              "7                                 A Origem  2010      148    88\n",
              "3                            Os Vingadores  2012      143    84\n",
              "6                  Os Guardiões da Galáxia  2014      121    82"
            ]
          },
          "metadata": {
            "tags": []
          },
          "execution_count": 22
        }
      ]
    },
    {
      "cell_type": "markdown",
      "metadata": {
        "id": "o5kTuErQ8iK_"
      },
      "source": [
        "O segundo caso é computacionalmente mais \"oneroso\", pois gera uma cópia dos dados, ou seja, duplica os dados. Agora tempos dois dataframes com os mesmos dados em memória. Um ordenado por `Ano` (filmesAno) e o outro na ordem de Título (filmes).\n",
        "\n",
        "Isto (dados duplicados) pode não ser um problema para tabelas pequenas, com poucas linhas e poucas colunas. Portanto, use apenas se for necessário e houver recursos computacionais disponíveis.\n"
      ]
    },
    {
      "cell_type": "markdown",
      "metadata": {
        "id": "f07Y8ZW17ajN"
      },
      "source": [
        "## Estatísticas do Dataframe\n",
        "\n",
        "A biblioteca _pandas_ possui funções estatísticas prontas que nos permitem ter uma fotografia dos dados armazenados.\n",
        "\n",
        "Vejamos algumas!"
      ]
    },
    {
      "cell_type": "markdown",
      "metadata": {
        "id": "Q-UdVU9SGiY8"
      },
      "source": [
        "`mean `: retorna a média dos valores de cada atributo numérico."
      ]
    },
    {
      "cell_type": "code",
      "metadata": {
        "id": "puDaq_I6Fu9O",
        "colab": {
          "base_uri": "https://localhost:8080/",
          "height": 88
        },
        "outputId": "cb1c6ebb-38f0-43b9-cb50-62e2bd22e0b1"
      },
      "source": [
        "filmes.mean()"
      ],
      "execution_count": null,
      "outputs": [
        {
          "output_type": "execute_result",
          "data": {
            "text/plain": [
              "Ano        2000.7\n",
              "Duracao     133.7\n",
              "Nota         82.6\n",
              "dtype: float64"
            ]
          },
          "metadata": {
            "tags": []
          },
          "execution_count": 27
        }
      ]
    },
    {
      "cell_type": "markdown",
      "metadata": {
        "id": "bn_SeF0DGyCD"
      },
      "source": [
        "Podemos obter a média de um único atributo conforme abaixo."
      ]
    },
    {
      "cell_type": "code",
      "metadata": {
        "id": "Pr8UggdoFf9R",
        "colab": {
          "base_uri": "https://localhost:8080/",
          "height": 35
        },
        "outputId": "5f7d20f0-0254-4745-9155-04b94841d105"
      },
      "source": [
        "filmes[\"Duracao\"].mean()"
      ],
      "execution_count": null,
      "outputs": [
        {
          "output_type": "execute_result",
          "data": {
            "text/plain": [
              "133.7"
            ]
          },
          "metadata": {
            "tags": []
          },
          "execution_count": 24
        }
      ]
    },
    {
      "cell_type": "markdown",
      "metadata": {
        "id": "65jAJisbG8d1"
      },
      "source": [
        "`max` : retorna o maior valor de cada atributo númerico."
      ]
    },
    {
      "cell_type": "code",
      "metadata": {
        "id": "mf7ESeJVHGNu",
        "colab": {
          "base_uri": "https://localhost:8080/",
          "height": 106
        },
        "outputId": "88d0b877-ce25-437a-b12e-761417f941fe"
      },
      "source": [
        "filmes.max()"
      ],
      "execution_count": null,
      "outputs": [
        {
          "output_type": "execute_result",
          "data": {
            "text/plain": [
              "Titulo     X-men\n",
              "Ano         2014\n",
              "Duracao      178\n",
              "Nota          88\n",
              "dtype: object"
            ]
          },
          "metadata": {
            "tags": []
          },
          "execution_count": 31
        }
      ]
    },
    {
      "cell_type": "markdown",
      "metadata": {
        "id": "DEEc64p7HVMf"
      },
      "source": [
        "Também podemos obter o maior valor de um único atributo numérico conforme abaixo."
      ]
    },
    {
      "cell_type": "code",
      "metadata": {
        "id": "y7uEg4NKHlUF",
        "colab": {
          "base_uri": "https://localhost:8080/",
          "height": 35
        },
        "outputId": "4796bf2c-6636-4b5e-cdb3-6224735dd166"
      },
      "source": [
        "filmes[\"Nota\"].max()"
      ],
      "execution_count": null,
      "outputs": [
        {
          "output_type": "execute_result",
          "data": {
            "text/plain": [
              "88"
            ]
          },
          "metadata": {
            "tags": []
          },
          "execution_count": 32
        }
      ]
    },
    {
      "cell_type": "markdown",
      "metadata": {
        "id": "G7KIzp1iHqCK"
      },
      "source": [
        "A função `min` retorna o menor valor de atributos numéricos.\n",
        "Experimente! "
      ]
    },
    {
      "cell_type": "markdown",
      "metadata": {
        "id": "MznY9Za4IAX_"
      },
      "source": [
        "###Exercício 01\n",
        "\n",
        "Escreva uma instrução para retornar o menor valor dos atributos numéricos."
      ]
    },
    {
      "cell_type": "code",
      "metadata": {
        "id": "9trYji04Iglf"
      },
      "source": [
        "# sua resposta"
      ],
      "execution_count": null,
      "outputs": []
    },
    {
      "cell_type": "markdown",
      "metadata": {
        "id": "rdjxkBWfIbiu"
      },
      "source": [
        "### Exercício 02\n",
        "Escreva uma instrução para retornar o menor valor do atributo `Nota`."
      ]
    },
    {
      "cell_type": "code",
      "metadata": {
        "id": "g17xTJQLIFGw"
      },
      "source": [
        "# sua resposta"
      ],
      "execution_count": null,
      "outputs": []
    },
    {
      "cell_type": "markdown",
      "metadata": {
        "id": "P93xiX4FIz1Y"
      },
      "source": [
        "Outras funções disponíveis que podem ser úteis são:\n",
        "* count() - retorna a contagem de valores em cada atributo.\n",
        "* sum() - retorna a soma de valores numéricos em cada atributo."
      ]
    },
    {
      "cell_type": "code",
      "metadata": {
        "id": "IJCIL7qKJM7T",
        "colab": {
          "base_uri": "https://localhost:8080/",
          "height": 106
        },
        "outputId": "0cde5458-b69c-43a5-d2b1-80313f292eef"
      },
      "source": [
        "filmes.count()"
      ],
      "execution_count": null,
      "outputs": [
        {
          "output_type": "execute_result",
          "data": {
            "text/plain": [
              "Titulo     10\n",
              "Ano        10\n",
              "Duracao    10\n",
              "Nota       10\n",
              "dtype: int64"
            ]
          },
          "metadata": {
            "tags": []
          },
          "execution_count": 35
        }
      ]
    },
    {
      "cell_type": "code",
      "metadata": {
        "id": "EYNiCtJmJP1C",
        "colab": {
          "base_uri": "https://localhost:8080/",
          "height": 106
        },
        "outputId": "e7a4c271-046f-4d4a-e320-d012cf181cec"
      },
      "source": [
        "filmes.sum()"
      ],
      "execution_count": null,
      "outputs": [
        {
          "output_type": "execute_result",
          "data": {
            "text/plain": [
              "Titulo     A OrigemHarry Potter e a Pedra FilosofalO Exte...\n",
              "Ano                                                    20007\n",
              "Duracao                                                 1337\n",
              "Nota                                                     826\n",
              "dtype: object"
            ]
          },
          "metadata": {
            "tags": []
          },
          "execution_count": 34
        }
      ]
    },
    {
      "cell_type": "markdown",
      "metadata": {
        "id": "8DnHSUbRJV3e"
      },
      "source": [
        "## Agrupamentos de Dados\n",
        "\n",
        "Suponha que você precisa saber quantos filmes existem na base de dados, por `Ano`(de lançamento).\n",
        "\n",
        "Sabemos que a função `count()` nos retorna a quantidade geral. Mas como saber a quantidade por `Ano`?\n",
        "\n"
      ]
    },
    {
      "cell_type": "markdown",
      "metadata": {
        "id": "wyIXa8WtJ5oD"
      },
      "source": [
        "Este problema envolve o **agrupamento de dados**, ou seja, precisamos agrupar os dados por `Ano` e então \"mandar\" contar (`count()`).\n",
        "\n",
        "Veja a instrução a seguir."
      ]
    },
    {
      "cell_type": "markdown",
      "metadata": {
        "id": "_VUQSL_kzH-a"
      },
      "source": [
        "### Contar"
      ]
    },
    {
      "cell_type": "code",
      "metadata": {
        "id": "KuEh68dBFYrp",
        "colab": {
          "base_uri": "https://localhost:8080/",
          "height": 340
        },
        "outputId": "e7881d72-bfff-4dec-ba45-33a48f8b3157"
      },
      "source": [
        "filmes.groupby(\"Ano\").count()"
      ],
      "execution_count": null,
      "outputs": [
        {
          "output_type": "execute_result",
          "data": {
            "text/html": [
              "<div>\n",
              "<style scoped>\n",
              "    .dataframe tbody tr th:only-of-type {\n",
              "        vertical-align: middle;\n",
              "    }\n",
              "\n",
              "    .dataframe tbody tr th {\n",
              "        vertical-align: top;\n",
              "    }\n",
              "\n",
              "    .dataframe thead th {\n",
              "        text-align: right;\n",
              "    }\n",
              "</style>\n",
              "<table border=\"1\" class=\"dataframe\">\n",
              "  <thead>\n",
              "    <tr style=\"text-align: right;\">\n",
              "      <th></th>\n",
              "      <th>Titulo</th>\n",
              "      <th>Duracao</th>\n",
              "      <th>Nota</th>\n",
              "    </tr>\n",
              "    <tr>\n",
              "      <th>Ano</th>\n",
              "      <th></th>\n",
              "      <th></th>\n",
              "      <th></th>\n",
              "    </tr>\n",
              "  </thead>\n",
              "  <tbody>\n",
              "    <tr>\n",
              "      <th>1977</th>\n",
              "      <td>1</td>\n",
              "      <td>1</td>\n",
              "      <td>1</td>\n",
              "    </tr>\n",
              "    <tr>\n",
              "      <th>1984</th>\n",
              "      <td>1</td>\n",
              "      <td>1</td>\n",
              "      <td>1</td>\n",
              "    </tr>\n",
              "    <tr>\n",
              "      <th>1999</th>\n",
              "      <td>1</td>\n",
              "      <td>1</td>\n",
              "      <td>1</td>\n",
              "    </tr>\n",
              "    <tr>\n",
              "      <th>2000</th>\n",
              "      <td>1</td>\n",
              "      <td>1</td>\n",
              "      <td>1</td>\n",
              "    </tr>\n",
              "    <tr>\n",
              "      <th>2001</th>\n",
              "      <td>2</td>\n",
              "      <td>2</td>\n",
              "      <td>2</td>\n",
              "    </tr>\n",
              "    <tr>\n",
              "      <th>2009</th>\n",
              "      <td>1</td>\n",
              "      <td>1</td>\n",
              "      <td>1</td>\n",
              "    </tr>\n",
              "    <tr>\n",
              "      <th>2010</th>\n",
              "      <td>1</td>\n",
              "      <td>1</td>\n",
              "      <td>1</td>\n",
              "    </tr>\n",
              "    <tr>\n",
              "      <th>2012</th>\n",
              "      <td>1</td>\n",
              "      <td>1</td>\n",
              "      <td>1</td>\n",
              "    </tr>\n",
              "    <tr>\n",
              "      <th>2014</th>\n",
              "      <td>1</td>\n",
              "      <td>1</td>\n",
              "      <td>1</td>\n",
              "    </tr>\n",
              "  </tbody>\n",
              "</table>\n",
              "</div>"
            ],
            "text/plain": [
              "      Titulo  Duracao  Nota\n",
              "Ano                        \n",
              "1977       1        1     1\n",
              "1984       1        1     1\n",
              "1999       1        1     1\n",
              "2000       1        1     1\n",
              "2001       2        2     2\n",
              "2009       1        1     1\n",
              "2010       1        1     1\n",
              "2012       1        1     1\n",
              "2014       1        1     1"
            ]
          },
          "metadata": {
            "tags": []
          },
          "execution_count": 36
        }
      ]
    },
    {
      "cell_type": "markdown",
      "metadata": {
        "id": "SaM-u7fILX-t"
      },
      "source": [
        "Note que o `groupby(\"Ano\")` foi usado para agrupar por Ano e depois usamos o `count()`.\n",
        "\n",
        "Mas o resultado não foi bem o que esperávamos. Basta exibir a contagem de um atributo e não de todos.\n",
        "\n",
        "A instrução a seguir resolve o problema, indicando apenas um atributo para contar. \n",
        "\n",
        "Usamos o próprio `Ano`, mas poderíamos usar qualquer outro atributo."
      ]
    },
    {
      "cell_type": "code",
      "metadata": {
        "id": "2xswi_QdLErp",
        "colab": {
          "base_uri": "https://localhost:8080/",
          "height": 212
        },
        "outputId": "8ead88a7-8aab-4541-9642-ac8b50beb4ca"
      },
      "source": [
        "# Agrupando por Ano e contando pelo atributo Ano\n",
        "filmes.groupby(\"Ano\")[\"Ano\"].count()"
      ],
      "execution_count": null,
      "outputs": [
        {
          "output_type": "execute_result",
          "data": {
            "text/plain": [
              "Ano\n",
              "1977    1\n",
              "1984    1\n",
              "1999    1\n",
              "2000    1\n",
              "2001    2\n",
              "2009    1\n",
              "2010    1\n",
              "2012    1\n",
              "2014    1\n",
              "Name: Ano, dtype: int64"
            ]
          },
          "metadata": {
            "tags": []
          },
          "execution_count": 37
        }
      ]
    },
    {
      "cell_type": "code",
      "metadata": {
        "id": "muG4ZbiMLkOd",
        "colab": {
          "base_uri": "https://localhost:8080/",
          "height": 212
        },
        "outputId": "42bf6b8f-2e28-4c87-a86b-8dfacae8197c"
      },
      "source": [
        "# Agrupando por Ano e contando pelo atributo Nota\n",
        "filmes.groupby(\"Ano\")[\"Nota\"].count()"
      ],
      "execution_count": null,
      "outputs": [
        {
          "output_type": "execute_result",
          "data": {
            "text/plain": [
              "Ano\n",
              "1977    1\n",
              "1984    1\n",
              "1999    1\n",
              "2000    1\n",
              "2001    2\n",
              "2009    1\n",
              "2010    1\n",
              "2012    1\n",
              "2014    1\n",
              "Name: Nota, dtype: int64"
            ]
          },
          "metadata": {
            "tags": []
          },
          "execution_count": 38
        }
      ]
    },
    {
      "cell_type": "markdown",
      "metadata": {
        "id": "lCqtreMhL5Pf"
      },
      "source": [
        "E se invertermos a instrução acima, trocando o `Ano` por `Nota` e vice-versa?"
      ]
    },
    {
      "cell_type": "code",
      "metadata": {
        "id": "_jybF6CJMFaq",
        "colab": {
          "base_uri": "https://localhost:8080/",
          "height": 195
        },
        "outputId": "f92cfad4-964d-4672-dd8b-9b638bd74789"
      },
      "source": [
        "# Agrupando por Nota e contando pelo atributo Ano\n",
        "filmes.groupby(\"Nota\")[\"Ano\"].count()"
      ],
      "execution_count": null,
      "outputs": [
        {
          "output_type": "execute_result",
          "data": {
            "text/plain": [
              "Nota\n",
              "74    1\n",
              "75    1\n",
              "80    1\n",
              "81    1\n",
              "82    1\n",
              "84    1\n",
              "87    2\n",
              "88    2\n",
              "Name: Ano, dtype: int64"
            ]
          },
          "metadata": {
            "tags": []
          },
          "execution_count": 39
        }
      ]
    },
    {
      "cell_type": "markdown",
      "metadata": {
        "id": "NBmAbG8QMPKR"
      },
      "source": [
        "Note que o resultado agora foi a quantidade de filmes que receberam cada nota.\n",
        "Poderíamos contar por qualquer atributo, inclusive pelo `Título`."
      ]
    },
    {
      "cell_type": "code",
      "metadata": {
        "id": "NH92MUWkMOo6",
        "colab": {
          "base_uri": "https://localhost:8080/",
          "height": 193
        },
        "outputId": "5f05898b-5557-4aab-d4f3-6fb060711b9f"
      },
      "source": [
        "# Agrupando por Nota e contando pelo atributo Título\n",
        "filmes.groupby(\"Nota\")[\"Titulo\"].count()"
      ],
      "execution_count": null,
      "outputs": [
        {
          "output_type": "execute_result",
          "data": {
            "text/plain": [
              "Nota\n",
              "74    1\n",
              "75    1\n",
              "80    1\n",
              "81    1\n",
              "82    1\n",
              "84    1\n",
              "87    2\n",
              "88    2\n",
              "Name: Titulo, dtype: int64"
            ]
          },
          "metadata": {
            "tags": []
          },
          "execution_count": 2
        }
      ]
    },
    {
      "cell_type": "markdown",
      "metadata": {
        "id": "-wgEWIgGw-Ci"
      },
      "source": [
        "Note que a ordem de exibição é sempre pelo campo de agrupamento. Isto ocorre, porque para agrupar, ocorre um processo interno de ORDENAÇÃO dos dados (pelo atributo do agrupamento."
      ]
    },
    {
      "cell_type": "markdown",
      "metadata": {
        "id": "eg286Fv6xV4C"
      },
      "source": [
        "#### Agrupamento em Ordem Inversa\n",
        "Mas e se quisermos exibir os dados em ordem decrescente de Nota?\n",
        "\n",
        "O primeiro passo é \"guardar\" o resultado do agrupamento em uma variável. Vide abaixo."
      ]
    },
    {
      "cell_type": "code",
      "metadata": {
        "id": "HUJpHl6CxnfK",
        "colab": {
          "base_uri": "https://localhost:8080/",
          "height": 193
        },
        "outputId": "1f695091-c04c-4860-cf77-65b8c20901ea"
      },
      "source": [
        "dNotas = filmes.groupby(\"Nota\")[\"Nota\"].count()\n",
        "print(dNotas)"
      ],
      "execution_count": null,
      "outputs": [
        {
          "output_type": "stream",
          "text": [
            "Nota\n",
            "74    1\n",
            "75    1\n",
            "80    1\n",
            "81    1\n",
            "82    1\n",
            "84    1\n",
            "87    2\n",
            "88    2\n",
            "Name: Nota, dtype: int64\n"
          ],
          "name": "stdout"
        }
      ]
    },
    {
      "cell_type": "markdown",
      "metadata": {
        "id": "ZPsioAWYyw58"
      },
      "source": [
        "Em seguida podemos usar a função de ordenação sort"
      ]
    },
    {
      "cell_type": "code",
      "metadata": {
        "id": "yMT2gOuI0Pyh",
        "colab": {
          "base_uri": "https://localhost:8080/",
          "height": 193
        },
        "outputId": "7795dae5-3420-4b8a-a51e-2dbdff0aeb61"
      },
      "source": [
        "dNotas.sort_values(ascending=False)"
      ],
      "execution_count": null,
      "outputs": [
        {
          "output_type": "execute_result",
          "data": {
            "text/plain": [
              "Nota\n",
              "88    2\n",
              "87    2\n",
              "84    1\n",
              "82    1\n",
              "81    1\n",
              "80    1\n",
              "75    1\n",
              "74    1\n",
              "Name: Nota, dtype: int64"
            ]
          },
          "metadata": {
            "tags": []
          },
          "execution_count": 16
        }
      ]
    },
    {
      "cell_type": "markdown",
      "metadata": {
        "id": "2lua3ybZM3ZD"
      },
      "source": [
        "Além de contar (`count`), podemos usar outras funções como: `sum, mean, max, min`.\n"
      ]
    },
    {
      "cell_type": "markdown",
      "metadata": {
        "id": "kgF1CNLizU_-"
      },
      "source": [
        "### Somar\n",
        "\n",
        "A instrução abaixo exibe a soma da `duração` dos filmes (Por `Ano`)"
      ]
    },
    {
      "cell_type": "code",
      "metadata": {
        "id": "zuhiDNV1NGiJ",
        "colab": {
          "base_uri": "https://localhost:8080/",
          "height": 212
        },
        "outputId": "2df2537d-d151-48c7-ff7a-50fc636fd975"
      },
      "source": [
        "filmes.groupby(\"Ano\")[\"Duracao\"].sum()"
      ],
      "execution_count": null,
      "outputs": [
        {
          "output_type": "execute_result",
          "data": {
            "text/plain": [
              "Ano\n",
              "1977    121\n",
              "1984    107\n",
              "1999    136\n",
              "2000    104\n",
              "2001    330\n",
              "2009    127\n",
              "2010    148\n",
              "2012    143\n",
              "2014    121\n",
              "Name: Duracao, dtype: int64"
            ]
          },
          "metadata": {
            "tags": []
          },
          "execution_count": 43
        }
      ]
    },
    {
      "cell_type": "markdown",
      "metadata": {
        "id": "xOgzvY87NsFk"
      },
      "source": [
        "### Média\n",
        "Agora vejamos a média da `duração` dos filmes (por `Ano`).\n",
        "\n",
        "Como apenas o `Ano` de 2001, tem mais de 1 filme, note que para os outros anos, soma e média são iguais."
      ]
    },
    {
      "cell_type": "code",
      "metadata": {
        "id": "mLpZSij7Nwaf",
        "colab": {
          "base_uri": "https://localhost:8080/",
          "height": 212
        },
        "outputId": "073df2d1-3202-42ba-bcce-048042db92d7"
      },
      "source": [
        "filmes.groupby(\"Ano\")[\"Duracao\"].mean()"
      ],
      "execution_count": null,
      "outputs": [
        {
          "output_type": "execute_result",
          "data": {
            "text/plain": [
              "Ano\n",
              "1977    121\n",
              "1984    107\n",
              "1999    136\n",
              "2000    104\n",
              "2001    165\n",
              "2009    127\n",
              "2010    148\n",
              "2012    143\n",
              "2014    121\n",
              "Name: Duracao, dtype: int64"
            ]
          },
          "metadata": {
            "tags": []
          },
          "execution_count": 44
        }
      ]
    },
    {
      "cell_type": "markdown",
      "metadata": {
        "id": "yKrlH177OH1u"
      },
      "source": [
        "### Exercício 01\n",
        "\n",
        "Mostre a menor duração para cada Nota."
      ]
    },
    {
      "cell_type": "code",
      "metadata": {
        "id": "tVRZ5QXqOmVe"
      },
      "source": [
        "# sua resposta"
      ],
      "execution_count": null,
      "outputs": []
    },
    {
      "cell_type": "markdown",
      "metadata": {
        "id": "XWl6eeW_OowT"
      },
      "source": [
        "### Exercício 02\n",
        "\n",
        "Para todos os filmes do mesmo ano, mostre a nota do filme melhor avaliado (maior nota)."
      ]
    },
    {
      "cell_type": "markdown",
      "metadata": {
        "id": "8-My2NAQ2RW3"
      },
      "source": [
        "## Extra\n",
        "\n",
        "O python possui também a função `value_counts` que é similar ao `count()`. A principal diferença é que não há um \"agrupamento explícito\"."
      ]
    },
    {
      "cell_type": "code",
      "metadata": {
        "id": "iFoUm4s72bV3",
        "colab": {
          "base_uri": "https://localhost:8080/",
          "height": 175
        },
        "outputId": "ab25ecc7-0015-481d-aa3c-79ad66c10ea5"
      },
      "source": [
        "filmes.Nota.value_counts()"
      ],
      "execution_count": null,
      "outputs": [
        {
          "output_type": "execute_result",
          "data": {
            "text/plain": [
              "88    2\n",
              "87    2\n",
              "75    1\n",
              "74    1\n",
              "84    1\n",
              "82    1\n",
              "81    1\n",
              "80    1\n",
              "Name: Nota, dtype: int64"
            ]
          },
          "metadata": {
            "tags": []
          },
          "execution_count": 15
        }
      ]
    },
    {
      "cell_type": "code",
      "metadata": {
        "id": "M71bY6PYO9iU"
      },
      "source": [
        "# sua resposta"
      ],
      "execution_count": null,
      "outputs": []
    }
  ]
}