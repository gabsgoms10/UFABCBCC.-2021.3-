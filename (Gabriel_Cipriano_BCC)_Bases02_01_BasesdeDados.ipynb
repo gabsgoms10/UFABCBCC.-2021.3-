{
  "nbformat": 4,
  "nbformat_minor": 0,
  "metadata": {
    "colab": {
      "name": "(Gabriel Cipriano BCC) - Bases02_01_BasesdeDados.ipynb",
      "provenance": [],
      "collapsed_sections": [],
      "toc_visible": true,
      "include_colab_link": true
    },
    "kernelspec": {
      "name": "python3",
      "display_name": "Python 3"
    }
  },
  "cells": [
    {
      "cell_type": "markdown",
      "metadata": {
        "id": "view-in-github",
        "colab_type": "text"
      },
      "source": [
        "<a href=\"https://colab.research.google.com/github/gabsgoms10/UFABCBCC.-2021.3-/blob/main/(Gabriel_Cipriano_BCC)_Bases02_01_BasesdeDados.ipynb\" target=\"_parent\"><img src=\"https://colab.research.google.com/assets/colab-badge.svg\" alt=\"Open In Colab\"/></a>"
      ]
    },
    {
      "cell_type": "markdown",
      "metadata": {
        "id": "fUtMA72SE__1"
      },
      "source": [
        "#Bases de Dados (parte 1)\n",
        "\n",
        "```\n",
        "(*) Adaptado de material preparado pela Profa. Cristiane Sato\n",
        "```"
      ]
    },
    {
      "cell_type": "markdown",
      "metadata": {
        "id": "qs_jTEBTI-Jv"
      },
      "source": [
        ""
      ]
    },
    {
      "cell_type": "markdown",
      "metadata": {
        "id": "TbNHw9sk2HIa"
      },
      "source": [
        "## Bibliotecas de Software\n",
        "\n",
        "A linguagem _Python_, como outras linguagens ou ambientes de programação, possuem diversas bibliotecas de software.\n",
        "\n",
        "Bibliotecas (de funções) são repositórios onde são armazenados comandos, operações ou instruções, que alguém criou e podemos utilizar sem ter que programar novamente. \n",
        "\n",
        "Da mesma forma que muitas vezes recorremos às nossas bibliotecas (de livros) para consultar ou relembrar coisas, podemos usar as bibliotecas de software como as do Python. \n",
        "\n",
        "Quando vamos buscar um livro na biblioteca precisamos saber o seu título para encontrá-lo. Em Python, também precisamos saber o nome da biblioteca que queremos usar.\n",
        "\n",
        "Um sinônimo para biblioteca de software é o termo \"pacote\".\n",
        "\n",
        "Vamos então, conhecer a biblioteca ou pacote _Pandas_."
      ]
    },
    {
      "cell_type": "markdown",
      "metadata": {
        "id": "W3lb-EqTB11B"
      },
      "source": [
        "## Biblioteca Pandas\n",
        "\n",
        "_Pandas_ é uma biblioteca de software criada para a linguagem Python para manipulação e análise de dados. Em particular, oferece estruturas e operações para manipular tabelas.\n",
        "\n",
        "Por exemplo, se precisamos usar um arquivo que temos gravado para mostrar os dados ou ordenar os dados, a biblioteca _Pandas_ possui instruções \"prontas\" para isso. Nós precisamos então, aprender como usá-las.\n"
      ]
    },
    {
      "cell_type": "markdown",
      "metadata": {
        "id": "8WBy-d92DX50"
      },
      "source": [
        "## Importanto a biblioteca pandas\n",
        "\n",
        "O primeiro passo para utilizar uma biblioteca (pacote) é importar.\n",
        "Imagine que esses pacotes são \"externos\" ao Python e precisamos importar, ou seja, trazê-los para dentro.\n",
        "\n",
        "O comando _import_ do Python permite importar bibliotecas (pacotes).\n",
        "\n",
        "A instrução a seguir importa o pacote pandas."
      ]
    },
    {
      "cell_type": "code",
      "metadata": {
        "id": "OcvcZUMB2QFd"
      },
      "source": [
        "import pandas as pd"
      ],
      "execution_count": null,
      "outputs": []
    },
    {
      "cell_type": "markdown",
      "metadata": {
        "id": "tvCGLQGX8Gs6"
      },
      "source": [
        "```pd``` é o \"apelido\" que demos para o pandas. Podíamos escolher outro apelido!\n",
        "\n",
        "Para acessar qualquer instrução da bibloteca que importamos teremos que usar o seu nome. Isso porque, podemos ter mais de uma biblioteca carregada.\n",
        "\n",
        "Assim, um apelido (mais curto) ajuda na manipulação, ou seja, daqui pra frente ao invés de usar o termo  _pandas_ para acessar as instruções desta biblioteca usaremos apenas ```pd```.\n",
        "\n",
        " "
      ]
    },
    {
      "cell_type": "markdown",
      "metadata": {
        "id": "dHoUKGn0Exzt"
      },
      "source": [
        "## Carregando um arquivo CSV\n",
        "\n"
      ]
    },
    {
      "cell_type": "markdown",
      "metadata": {
        "id": "xdndUouC6bZm"
      },
      "source": [
        "Considere que precisamos processar os dados presentes no arquivo `filmes.csv`, ou seja, visualizar, fazer consultas, cálculos, etc."
      ]
    },
    {
      "cell_type": "markdown",
      "metadata": {
        "id": "pdEnvUVuJ9yy"
      },
      "source": [
        "Clicando no link abaixo você pode ter uma visão dos dados do arquivo `filmes.csv`. Note que o caracter \";\" separa os dados de cada colujna.\n",
        "\n",
        "https://drive.google.com/file/d/1nBYJkh4MTzgB0-zR-HXUGYGiEkc4dK6u/view?usp=sharing\n"
      ]
    },
    {
      "cell_type": "markdown",
      "metadata": {
        "id": "GEy5TW6K6kEa"
      },
      "source": [
        "Para processarmos dados em um computador, precisamos trazer (carregar) esses dados para a **memória** do computador. \n",
        "\n",
        "Estes dados geralmente estão gravados em algum lugar (disco, pen-drive, ou na nuvem). Por exemplo, o arquivo acima (`filmes.csv`) está armazenado na nuvem, em uma pasta do google drive.\n"
      ]
    },
    {
      "cell_type": "markdown",
      "metadata": {
        "id": "zjB76-l084pi"
      },
      "source": [
        "O primeiro passo para manipular os dados de um arquivo de dados é \"abrir\" este arquivo. Por exemplo, carregamos um documento, num editor de texto, usando a opção \"abrir arquivo\". \n",
        "\n",
        "O processo de \"abrir um arquivo\" é também conhecido como \"ler um arquivo\", ou seja, ordenamos ao computador \"leia os dados que estão gravados\". Neste caso, \"ler um arquivo\" é o similar a \"carregar os dados para a memória do computador.\n"
      ]
    },
    {
      "cell_type": "markdown",
      "metadata": {
        "id": "FzUjL0yeICGc"
      },
      "source": [
        "_Pandas_ possui uma função para ler  (abrir um arquivo) que está gravado em algum lugar, seja no seu computador ou em algum lugar da \"nuvem\". A instrução **`read_csv`** abre e lê (carrega para a memória) um arquivo do tipo `CSV`. \n"
      ]
    },
    {
      "cell_type": "markdown",
      "metadata": {
        "id": "uoopUPon9ol0"
      },
      "source": [
        "A instrução a seguir abre o arquivo filmes.csv\n",
        "\n",
        "`pd.read_csv(\"filmes.csv\")`"
      ]
    },
    {
      "cell_type": "markdown",
      "metadata": {
        "id": "xGO1uSme9LZD"
      },
      "source": [
        "Note que usamos _pd_ antes de _read.csv_. Isto é necessário pois _read_csv é uma instrução (função) que faz parte da biblioteca _pandas_ que carregamos.\n",
        "\n",
        "Entre parênteses informamos o **nome do arquivo** que queremos abrir. \n",
        "\n",
        "Caso o arquivo utilize um separador (dos atributos) que seja diferente de vírgula, precisamos adicionar o parâmetro `sep`, conforme instrução a seguir:\n",
        "\n",
        "`pd.read_csv(\"filmes.csv\", sep = \";\")`"
      ]
    },
    {
      "cell_type": "markdown",
      "metadata": {
        "id": "Zh88kG4k5fgc"
      },
      "source": [
        "Não vamos tentar executar a instrução acima, pois estamos usando este `notebook ` na \"nuvem\" (na internet). Ou seja, não temos o arquivo `filmes.csv` localmente, mas podemos acessá-lo diretamente na nuvem."
      ]
    },
    {
      "cell_type": "markdown",
      "metadata": {
        "id": "8xMHSmbQ_tNw"
      },
      "source": [
        "Note que na instrução da próxima célula, informamos o _link_ do arquivo que está gravado em uma pasta do \"google drive\". \n",
        "\n",
        "Mais adiante explicaremos melhor como obter esse _link_ do arquivo. \n",
        "\n",
        "Note que além do _link_ do arquivo a ser aberto, usamos também o parâmetro `sep = \";\"`. Isto foi necessário porque as colunas (atributos) do arquivo estão separados por \";\" e não por \",\". Se o separador for uma \",\" podemos omitir esse parâmetro `sep = \";\"`.\n",
        "\n",
        "Execute a célula abaixo para ver o conteúdo do arquivo (uma tabela ou planilha).\n",
        "\n",
        "**Atenção!** É importante que você tenha executado (*play*) a célula anterior para importar a biblioteca pandas. Se não fez isso, ao tentar executar a célula a seguir aparecerá uma mensagem de erro."
      ]
    },
    {
      "cell_type": "code",
      "metadata": {
        "id": "LpwlXoRR4FM_",
        "colab": {
          "base_uri": "https://localhost:8080/",
          "height": 357
        },
        "outputId": "38f7deca-9649-4bfb-f998-e46e3f3d6967"
      },
      "source": [
        "  pd.read_csv(\"https://drive.google.com/u/3/uc?id=1nBYJkh4MTzgB0-zR-HXUGYGiEkc4dK6u&export=download\", sep=\";\") "
      ],
      "execution_count": null,
      "outputs": [
        {
          "output_type": "execute_result",
          "data": {
            "text/html": [
              "<div>\n",
              "<style scoped>\n",
              "    .dataframe tbody tr th:only-of-type {\n",
              "        vertical-align: middle;\n",
              "    }\n",
              "\n",
              "    .dataframe tbody tr th {\n",
              "        vertical-align: top;\n",
              "    }\n",
              "\n",
              "    .dataframe thead th {\n",
              "        text-align: right;\n",
              "    }\n",
              "</style>\n",
              "<table border=\"1\" class=\"dataframe\">\n",
              "  <thead>\n",
              "    <tr style=\"text-align: right;\">\n",
              "      <th></th>\n",
              "      <th>Titulo</th>\n",
              "      <th>Ano</th>\n",
              "      <th>Duracao</th>\n",
              "      <th>Nota</th>\n",
              "    </tr>\n",
              "  </thead>\n",
              "  <tbody>\n",
              "    <tr>\n",
              "      <th>0</th>\n",
              "      <td>Star Wars</td>\n",
              "      <td>1977</td>\n",
              "      <td>121</td>\n",
              "      <td>87</td>\n",
              "    </tr>\n",
              "    <tr>\n",
              "      <th>1</th>\n",
              "      <td>Harry Potter e a Pedra Filosofal</td>\n",
              "      <td>2001</td>\n",
              "      <td>152</td>\n",
              "      <td>75</td>\n",
              "    </tr>\n",
              "    <tr>\n",
              "      <th>2</th>\n",
              "      <td>O Senhor dos Anéis: a Companhia do Anel</td>\n",
              "      <td>2001</td>\n",
              "      <td>178</td>\n",
              "      <td>88</td>\n",
              "    </tr>\n",
              "    <tr>\n",
              "      <th>3</th>\n",
              "      <td>Os Vingadores</td>\n",
              "      <td>2012</td>\n",
              "      <td>143</td>\n",
              "      <td>84</td>\n",
              "    </tr>\n",
              "    <tr>\n",
              "      <th>4</th>\n",
              "      <td>Star Trek</td>\n",
              "      <td>2009</td>\n",
              "      <td>127</td>\n",
              "      <td>80</td>\n",
              "    </tr>\n",
              "    <tr>\n",
              "      <th>5</th>\n",
              "      <td>X-men</td>\n",
              "      <td>2000</td>\n",
              "      <td>104</td>\n",
              "      <td>74</td>\n",
              "    </tr>\n",
              "    <tr>\n",
              "      <th>6</th>\n",
              "      <td>Os Guardiões da Galáxia</td>\n",
              "      <td>2014</td>\n",
              "      <td>121</td>\n",
              "      <td>82</td>\n",
              "    </tr>\n",
              "    <tr>\n",
              "      <th>7</th>\n",
              "      <td>A Origem</td>\n",
              "      <td>2010</td>\n",
              "      <td>148</td>\n",
              "      <td>88</td>\n",
              "    </tr>\n",
              "    <tr>\n",
              "      <th>8</th>\n",
              "      <td>The Matrix</td>\n",
              "      <td>1999</td>\n",
              "      <td>136</td>\n",
              "      <td>87</td>\n",
              "    </tr>\n",
              "    <tr>\n",
              "      <th>9</th>\n",
              "      <td>O Exterminador do Futuro</td>\n",
              "      <td>1984</td>\n",
              "      <td>107</td>\n",
              "      <td>81</td>\n",
              "    </tr>\n",
              "  </tbody>\n",
              "</table>\n",
              "</div>"
            ],
            "text/plain": [
              "                                    Titulo   Ano  Duracao  Nota\n",
              "0                                Star Wars  1977      121    87\n",
              "1         Harry Potter e a Pedra Filosofal  2001      152    75\n",
              "2  O Senhor dos Anéis: a Companhia do Anel  2001      178    88\n",
              "3                            Os Vingadores  2012      143    84\n",
              "4                                Star Trek  2009      127    80\n",
              "5                                    X-men  2000      104    74\n",
              "6                  Os Guardiões da Galáxia  2014      121    82\n",
              "7                                 A Origem  2010      148    88\n",
              "8                               The Matrix  1999      136    87\n",
              "9                 O Exterminador do Futuro  1984      107    81"
            ]
          },
          "metadata": {},
          "execution_count": 2
        }
      ]
    },
    {
      "cell_type": "markdown",
      "metadata": {
        "id": "64A35oImobSg"
      },
      "source": [
        "Note que a **tabela** acima possui **quatro colunas** (ou atributos): Título, Ano, Duração, Nota. A primeira coluna exibida (0 a 9) é a numeração das linhas, ou seja, não faz parte dos dados.\n",
        "\n",
        "Atenção: Note que no título das colunas os nomes estão sem acentos (`Titulo` ao invés de `Título` e Duracao ao invés de `Duração`). O Python até aceita estes \"acentos\", mas o melhor padrão é não usá-lo para manter uma compatibilidade com outros ambientes ou linguagens que podem ter \"problemas\" com acentos. Este cuidado com \"acentos\" são apenas para os TÍTULOS DAS COLUNAS e não para os DADOS dentro da tabela. Por exemplo: `O Senhor dos Anéis `(com acento)."
      ]
    },
    {
      "cell_type": "markdown",
      "metadata": {
        "id": "C0fJhMA09_Nu"
      },
      "source": [
        "### Dataframe e Variáveis\n",
        "\n",
        "Para que possamos manipular a tabela (planilha) que foi aberta, ou seja, carregada para a memória, precisamos fazer uso de uma variável.\n",
        "\n",
        "De forma simplista, uma variável, é uma região de memória que armazena dados temporariamente. Em _Python_ a forma da variável (tamanho, valores, etc) depende do que atribuímos a ela. O fato é que uma variável precisa ter um nome.\n",
        "\n",
        "A instrução a seguir, armazena o resultado da \"abertura e leitura do arquivo CSV\" em uma variável chamada `df` (poderia ser outro nome).\n",
        "\n",
        "Escolhemos o nome `df` porque é uma abreviação de *dataframe*.\n",
        "\n",
        "**DataFrame** é uma estrutura de dados bidimensional com os dados alinhados de forma tabular em linhas e colunas. Ou seja, quando atribuímos o resultado de um _read_csv_ para uma variável, `df` por exemplo, a variável `df` é um _dataframe_. Mas isso é só uma informação adicional. Fique tranquilo(a).\n"
      ]
    },
    {
      "cell_type": "code",
      "metadata": {
        "id": "KVb5DB-E-cnr"
      },
      "source": [
        "  df = pd.read_csv(\"https://drive.google.com/u/3/uc?id=1nBYJkh4MTzgB0-zR-HXUGYGiEkc4dK6u&export=download\", sep=\";\")"
      ],
      "execution_count": null,
      "outputs": []
    },
    {
      "cell_type": "markdown",
      "metadata": {
        "id": "liN8rKJT_srQ"
      },
      "source": [
        "Note que ao executar a célula acima, parece que nada aconteceu, ou seja, a tabela (planilha) não foi exibida. \n",
        "\n",
        "Mas ela está \"armazenada\" em `df`. Para vêla basta digitar df e executar. \n",
        "\n",
        "Execute a célula abaixo e veja.\n"
      ]
    },
    {
      "cell_type": "code",
      "metadata": {
        "id": "gehpISVZ_wEJ",
        "colab": {
          "base_uri": "https://localhost:8080/",
          "height": 357
        },
        "outputId": "4c5090bc-7ece-4003-8c59-cecaf935cc2c"
      },
      "source": [
        "df"
      ],
      "execution_count": null,
      "outputs": [
        {
          "output_type": "execute_result",
          "data": {
            "text/html": [
              "<div>\n",
              "<style scoped>\n",
              "    .dataframe tbody tr th:only-of-type {\n",
              "        vertical-align: middle;\n",
              "    }\n",
              "\n",
              "    .dataframe tbody tr th {\n",
              "        vertical-align: top;\n",
              "    }\n",
              "\n",
              "    .dataframe thead th {\n",
              "        text-align: right;\n",
              "    }\n",
              "</style>\n",
              "<table border=\"1\" class=\"dataframe\">\n",
              "  <thead>\n",
              "    <tr style=\"text-align: right;\">\n",
              "      <th></th>\n",
              "      <th>Titulo</th>\n",
              "      <th>Ano</th>\n",
              "      <th>Duracao</th>\n",
              "      <th>Nota</th>\n",
              "    </tr>\n",
              "  </thead>\n",
              "  <tbody>\n",
              "    <tr>\n",
              "      <th>0</th>\n",
              "      <td>Star Wars</td>\n",
              "      <td>1977</td>\n",
              "      <td>121</td>\n",
              "      <td>87</td>\n",
              "    </tr>\n",
              "    <tr>\n",
              "      <th>1</th>\n",
              "      <td>Harry Potter e a Pedra Filosofal</td>\n",
              "      <td>2001</td>\n",
              "      <td>152</td>\n",
              "      <td>75</td>\n",
              "    </tr>\n",
              "    <tr>\n",
              "      <th>2</th>\n",
              "      <td>O Senhor dos Anéis: a Companhia do Anel</td>\n",
              "      <td>2001</td>\n",
              "      <td>178</td>\n",
              "      <td>88</td>\n",
              "    </tr>\n",
              "    <tr>\n",
              "      <th>3</th>\n",
              "      <td>Os Vingadores</td>\n",
              "      <td>2012</td>\n",
              "      <td>143</td>\n",
              "      <td>84</td>\n",
              "    </tr>\n",
              "    <tr>\n",
              "      <th>4</th>\n",
              "      <td>Star Trek</td>\n",
              "      <td>2009</td>\n",
              "      <td>127</td>\n",
              "      <td>80</td>\n",
              "    </tr>\n",
              "    <tr>\n",
              "      <th>5</th>\n",
              "      <td>X-men</td>\n",
              "      <td>2000</td>\n",
              "      <td>104</td>\n",
              "      <td>74</td>\n",
              "    </tr>\n",
              "    <tr>\n",
              "      <th>6</th>\n",
              "      <td>Os Guardiões da Galáxia</td>\n",
              "      <td>2014</td>\n",
              "      <td>121</td>\n",
              "      <td>82</td>\n",
              "    </tr>\n",
              "    <tr>\n",
              "      <th>7</th>\n",
              "      <td>A Origem</td>\n",
              "      <td>2010</td>\n",
              "      <td>148</td>\n",
              "      <td>88</td>\n",
              "    </tr>\n",
              "    <tr>\n",
              "      <th>8</th>\n",
              "      <td>The Matrix</td>\n",
              "      <td>1999</td>\n",
              "      <td>136</td>\n",
              "      <td>87</td>\n",
              "    </tr>\n",
              "    <tr>\n",
              "      <th>9</th>\n",
              "      <td>O Exterminador do Futuro</td>\n",
              "      <td>1984</td>\n",
              "      <td>107</td>\n",
              "      <td>81</td>\n",
              "    </tr>\n",
              "  </tbody>\n",
              "</table>\n",
              "</div>"
            ],
            "text/plain": [
              "                                    Titulo   Ano  Duracao  Nota\n",
              "0                                Star Wars  1977      121    87\n",
              "1         Harry Potter e a Pedra Filosofal  2001      152    75\n",
              "2  O Senhor dos Anéis: a Companhia do Anel  2001      178    88\n",
              "3                            Os Vingadores  2012      143    84\n",
              "4                                Star Trek  2009      127    80\n",
              "5                                    X-men  2000      104    74\n",
              "6                  Os Guardiões da Galáxia  2014      121    82\n",
              "7                                 A Origem  2010      148    88\n",
              "8                               The Matrix  1999      136    87\n",
              "9                 O Exterminador do Futuro  1984      107    81"
            ]
          },
          "metadata": {},
          "execution_count": 4
        }
      ]
    },
    {
      "cell_type": "markdown",
      "metadata": {
        "id": "h25VveuyjxDv"
      },
      "source": [
        "Outra opção é usar o comando _print_ conforme abaixo.\n",
        "Mais adiante veremos que o _print_ será obrigatório para visualizar os resultados em outros ambientes (que não o Colab).\n",
        "\n",
        "Execute a célula a seguir."
      ]
    },
    {
      "cell_type": "code",
      "metadata": {
        "id": "d4I2UcxNjxMl",
        "colab": {
          "base_uri": "https://localhost:8080/"
        },
        "outputId": "f4da6047-0f4c-45f2-e3c0-d346858014d6"
      },
      "source": [
        "print(df)"
      ],
      "execution_count": null,
      "outputs": [
        {
          "output_type": "stream",
          "name": "stdout",
          "text": [
            "                                    Titulo   Ano  Duracao  Nota\n",
            "0                                Star Wars  1977      121    87\n",
            "1         Harry Potter e a Pedra Filosofal  2001      152    75\n",
            "2  O Senhor dos Anéis: a Companhia do Anel  2001      178    88\n",
            "3                            Os Vingadores  2012      143    84\n",
            "4                                Star Trek  2009      127    80\n",
            "5                                    X-men  2000      104    74\n",
            "6                  Os Guardiões da Galáxia  2014      121    82\n",
            "7                                 A Origem  2010      148    88\n",
            "8                               The Matrix  1999      136    87\n",
            "9                 O Exterminador do Futuro  1984      107    81\n"
          ]
        }
      ]
    },
    {
      "cell_type": "markdown",
      "metadata": {
        "id": "9QWVcFZ5nCGi"
      },
      "source": [
        "### Nome do Dataframe\n",
        "\n",
        "Apesar de `df` ser um bom nome para a variável do tipo _dataframe_, muitas vezes precisamos carregar mais de um arquivo de dados ao mesmo para a memória. Então teríamos que usar coisas do tipo df1, df2, etc.\n",
        "\n",
        "Então, sugerimos usar um nome de variável afinado com o conteúdo do arquivo. Por exemplo, o arquivo que carregamos acima possui dados de filmes. Então, `filmes` pode ser um nome mais adequado para a variável. Essa é a estratégia que vamos usar daqui por diante. Execute a célula abaixo."
      ]
    },
    {
      "cell_type": "code",
      "metadata": {
        "id": "_ovkiMxrnyIu",
        "colab": {
          "base_uri": "https://localhost:8080/",
          "height": 357
        },
        "outputId": "73575a9e-a71a-43e7-cc7b-4ace3f7cd2d2"
      },
      "source": [
        "filmes = pd.read_csv(\"https://drive.google.com/u/3/uc?id=1nBYJkh4MTzgB0-zR-HXUGYGiEkc4dK6u&export=download\", sep=\";\")\n",
        "filmes"
      ],
      "execution_count": null,
      "outputs": [
        {
          "output_type": "execute_result",
          "data": {
            "text/html": [
              "<div>\n",
              "<style scoped>\n",
              "    .dataframe tbody tr th:only-of-type {\n",
              "        vertical-align: middle;\n",
              "    }\n",
              "\n",
              "    .dataframe tbody tr th {\n",
              "        vertical-align: top;\n",
              "    }\n",
              "\n",
              "    .dataframe thead th {\n",
              "        text-align: right;\n",
              "    }\n",
              "</style>\n",
              "<table border=\"1\" class=\"dataframe\">\n",
              "  <thead>\n",
              "    <tr style=\"text-align: right;\">\n",
              "      <th></th>\n",
              "      <th>Titulo</th>\n",
              "      <th>Ano</th>\n",
              "      <th>Duracao</th>\n",
              "      <th>Nota</th>\n",
              "    </tr>\n",
              "  </thead>\n",
              "  <tbody>\n",
              "    <tr>\n",
              "      <th>0</th>\n",
              "      <td>Star Wars</td>\n",
              "      <td>1977</td>\n",
              "      <td>121</td>\n",
              "      <td>87</td>\n",
              "    </tr>\n",
              "    <tr>\n",
              "      <th>1</th>\n",
              "      <td>Harry Potter e a Pedra Filosofal</td>\n",
              "      <td>2001</td>\n",
              "      <td>152</td>\n",
              "      <td>75</td>\n",
              "    </tr>\n",
              "    <tr>\n",
              "      <th>2</th>\n",
              "      <td>O Senhor dos Anéis: a Companhia do Anel</td>\n",
              "      <td>2001</td>\n",
              "      <td>178</td>\n",
              "      <td>88</td>\n",
              "    </tr>\n",
              "    <tr>\n",
              "      <th>3</th>\n",
              "      <td>Os Vingadores</td>\n",
              "      <td>2012</td>\n",
              "      <td>143</td>\n",
              "      <td>84</td>\n",
              "    </tr>\n",
              "    <tr>\n",
              "      <th>4</th>\n",
              "      <td>Star Trek</td>\n",
              "      <td>2009</td>\n",
              "      <td>127</td>\n",
              "      <td>80</td>\n",
              "    </tr>\n",
              "    <tr>\n",
              "      <th>5</th>\n",
              "      <td>X-men</td>\n",
              "      <td>2000</td>\n",
              "      <td>104</td>\n",
              "      <td>74</td>\n",
              "    </tr>\n",
              "    <tr>\n",
              "      <th>6</th>\n",
              "      <td>Os Guardiões da Galáxia</td>\n",
              "      <td>2014</td>\n",
              "      <td>121</td>\n",
              "      <td>82</td>\n",
              "    </tr>\n",
              "    <tr>\n",
              "      <th>7</th>\n",
              "      <td>A Origem</td>\n",
              "      <td>2010</td>\n",
              "      <td>148</td>\n",
              "      <td>88</td>\n",
              "    </tr>\n",
              "    <tr>\n",
              "      <th>8</th>\n",
              "      <td>The Matrix</td>\n",
              "      <td>1999</td>\n",
              "      <td>136</td>\n",
              "      <td>87</td>\n",
              "    </tr>\n",
              "    <tr>\n",
              "      <th>9</th>\n",
              "      <td>O Exterminador do Futuro</td>\n",
              "      <td>1984</td>\n",
              "      <td>107</td>\n",
              "      <td>81</td>\n",
              "    </tr>\n",
              "  </tbody>\n",
              "</table>\n",
              "</div>"
            ],
            "text/plain": [
              "                                    Titulo   Ano  Duracao  Nota\n",
              "0                                Star Wars  1977      121    87\n",
              "1         Harry Potter e a Pedra Filosofal  2001      152    75\n",
              "2  O Senhor dos Anéis: a Companhia do Anel  2001      178    88\n",
              "3                            Os Vingadores  2012      143    84\n",
              "4                                Star Trek  2009      127    80\n",
              "5                                    X-men  2000      104    74\n",
              "6                  Os Guardiões da Galáxia  2014      121    82\n",
              "7                                 A Origem  2010      148    88\n",
              "8                               The Matrix  1999      136    87\n",
              "9                 O Exterminador do Futuro  1984      107    81"
            ]
          },
          "metadata": {},
          "execution_count": 7
        }
      ]
    },
    {
      "cell_type": "markdown",
      "metadata": {
        "id": "TYIbVFkEky-w"
      },
      "source": [
        "## Conhecendo os dados\n",
        "\n",
        "Para uma manipulação adequada da base de dados é importante conhecer algumas informações:\n",
        "* Quantas linhas e colunas existem na tabela (dataframe)? `(shape)`\n",
        "* Quais são as colunas (atributos) presentes na tabela? `(columns)`\n",
        "* Quais as informações gerais da tabela? (`info()`)\n",
        "* Existem atributos com dados nulos (ausência de informação)? `(count())`\n"
      ]
    },
    {
      "cell_type": "code",
      "metadata": {
        "id": "4YmqPeUlk5DW",
        "colab": {
          "base_uri": "https://localhost:8080/"
        },
        "outputId": "c295a1bf-8ad4-4a6c-91a4-9b7dde87127c"
      },
      "source": [
        "#Quantidade de linhas e colunas do DataFrame\n",
        "filmes.shape"
      ],
      "execution_count": null,
      "outputs": [
        {
          "output_type": "execute_result",
          "data": {
            "text/plain": [
              "(10, 4)"
            ]
          },
          "metadata": {},
          "execution_count": 8
        }
      ]
    },
    {
      "cell_type": "code",
      "metadata": {
        "id": "0rDXZp2ylH53",
        "colab": {
          "base_uri": "https://localhost:8080/"
        },
        "outputId": "8097b640-0c87-4ffe-fbda-12d117e4e8ec"
      },
      "source": [
        "#Colunas presentes no DataFrame\n",
        "filmes.columns"
      ],
      "execution_count": null,
      "outputs": [
        {
          "output_type": "execute_result",
          "data": {
            "text/plain": [
              "Index(['Titulo', 'Ano', 'Duracao', 'Nota'], dtype='object')"
            ]
          },
          "metadata": {},
          "execution_count": 9
        }
      ]
    },
    {
      "cell_type": "code",
      "metadata": {
        "id": "4w78sJ7z7w8y",
        "colab": {
          "base_uri": "https://localhost:8080/"
        },
        "outputId": "7d5df1b7-201c-489b-c319-eb2e3471814d"
      },
      "source": [
        "# Quais as informações do DataFrame ?\n",
        "filmes.info()"
      ],
      "execution_count": null,
      "outputs": [
        {
          "output_type": "stream",
          "name": "stdout",
          "text": [
            "<class 'pandas.core.frame.DataFrame'>\n",
            "RangeIndex: 10 entries, 0 to 9\n",
            "Data columns (total 4 columns):\n",
            " #   Column   Non-Null Count  Dtype \n",
            "---  ------   --------------  ----- \n",
            " 0   Titulo   10 non-null     object\n",
            " 1   Ano      10 non-null     int64 \n",
            " 2   Duracao  10 non-null     int64 \n",
            " 3   Nota     10 non-null     int64 \n",
            "dtypes: int64(3), object(1)\n",
            "memory usage: 448.0+ bytes\n"
          ]
        }
      ]
    },
    {
      "cell_type": "code",
      "metadata": {
        "id": "SmCgtZMGlTXB",
        "colab": {
          "base_uri": "https://localhost:8080/"
        },
        "outputId": "2ce27219-ebce-4a8f-92fd-a109985e93ee"
      },
      "source": [
        "#Quantas linhas com dados (não nulos) existem na tabela para cada atributo\n",
        "filmes.count()"
      ],
      "execution_count": null,
      "outputs": [
        {
          "output_type": "execute_result",
          "data": {
            "text/plain": [
              "Titulo     10\n",
              "Ano        10\n",
              "Duracao    10\n",
              "Nota       10\n",
              "dtype: int64"
            ]
          },
          "metadata": {},
          "execution_count": 11
        }
      ]
    },
    {
      "cell_type": "markdown",
      "metadata": {
        "id": "qtmf8zpzwt0m"
      },
      "source": [
        "Note que cada atributo tem exatamente a quantidade = 10. Como a tabela tem exatamente 10 linhas (10 _entries_) pode-se afirmar que nenhuma coluna tem dados \"vazios\" (ausência de valores)."
      ]
    },
    {
      "cell_type": "code",
      "metadata": {
        "id": "WBIZsXNC7MsF",
        "colab": {
          "base_uri": "https://localhost:8080/"
        },
        "outputId": "19845549-f0ea-4af9-c7fa-63f7c63945f8"
      },
      "source": [
        "# Alternativamente podemos somar os atributos isnull (valores vazios)\n",
        "filmes.isnull().sum()"
      ],
      "execution_count": null,
      "outputs": [
        {
          "output_type": "execute_result",
          "data": {
            "text/plain": [
              "Titulo     0\n",
              "Ano        0\n",
              "Duracao    0\n",
              "Nota       0\n",
              "dtype: int64"
            ]
          },
          "metadata": {},
          "execution_count": 12
        }
      ]
    },
    {
      "cell_type": "markdown",
      "metadata": {
        "id": "xm28528ZqCv3"
      },
      "source": [
        "A função `describe` apresenta um resumo geral dos valores dos atributos numéricos (quantidade, média, desvio padrão, menor valor, maior valor, etc)"
      ]
    },
    {
      "cell_type": "code",
      "metadata": {
        "id": "3Qsm7aZulZZq",
        "colab": {
          "base_uri": "https://localhost:8080/",
          "height": 295
        },
        "outputId": "547326d6-22ad-4a5b-a073-146b81f9e902"
      },
      "source": [
        "filmes.describe()"
      ],
      "execution_count": null,
      "outputs": [
        {
          "output_type": "execute_result",
          "data": {
            "text/html": [
              "<div>\n",
              "<style scoped>\n",
              "    .dataframe tbody tr th:only-of-type {\n",
              "        vertical-align: middle;\n",
              "    }\n",
              "\n",
              "    .dataframe tbody tr th {\n",
              "        vertical-align: top;\n",
              "    }\n",
              "\n",
              "    .dataframe thead th {\n",
              "        text-align: right;\n",
              "    }\n",
              "</style>\n",
              "<table border=\"1\" class=\"dataframe\">\n",
              "  <thead>\n",
              "    <tr style=\"text-align: right;\">\n",
              "      <th></th>\n",
              "      <th>Ano</th>\n",
              "      <th>Duracao</th>\n",
              "      <th>Nota</th>\n",
              "    </tr>\n",
              "  </thead>\n",
              "  <tbody>\n",
              "    <tr>\n",
              "      <th>count</th>\n",
              "      <td>10.000000</td>\n",
              "      <td>10.00000</td>\n",
              "      <td>10.000000</td>\n",
              "    </tr>\n",
              "    <tr>\n",
              "      <th>mean</th>\n",
              "      <td>2000.700000</td>\n",
              "      <td>133.70000</td>\n",
              "      <td>82.600000</td>\n",
              "    </tr>\n",
              "    <tr>\n",
              "      <th>std</th>\n",
              "      <td>12.037442</td>\n",
              "      <td>22.49963</td>\n",
              "      <td>5.168279</td>\n",
              "    </tr>\n",
              "    <tr>\n",
              "      <th>min</th>\n",
              "      <td>1977.000000</td>\n",
              "      <td>104.00000</td>\n",
              "      <td>74.000000</td>\n",
              "    </tr>\n",
              "    <tr>\n",
              "      <th>25%</th>\n",
              "      <td>1999.250000</td>\n",
              "      <td>121.00000</td>\n",
              "      <td>80.250000</td>\n",
              "    </tr>\n",
              "    <tr>\n",
              "      <th>50%</th>\n",
              "      <td>2001.000000</td>\n",
              "      <td>131.50000</td>\n",
              "      <td>83.000000</td>\n",
              "    </tr>\n",
              "    <tr>\n",
              "      <th>75%</th>\n",
              "      <td>2009.750000</td>\n",
              "      <td>146.75000</td>\n",
              "      <td>87.000000</td>\n",
              "    </tr>\n",
              "    <tr>\n",
              "      <th>max</th>\n",
              "      <td>2014.000000</td>\n",
              "      <td>178.00000</td>\n",
              "      <td>88.000000</td>\n",
              "    </tr>\n",
              "  </tbody>\n",
              "</table>\n",
              "</div>"
            ],
            "text/plain": [
              "               Ano    Duracao       Nota\n",
              "count    10.000000   10.00000  10.000000\n",
              "mean   2000.700000  133.70000  82.600000\n",
              "std      12.037442   22.49963   5.168279\n",
              "min    1977.000000  104.00000  74.000000\n",
              "25%    1999.250000  121.00000  80.250000\n",
              "50%    2001.000000  131.50000  83.000000\n",
              "75%    2009.750000  146.75000  87.000000\n",
              "max    2014.000000  178.00000  88.000000"
            ]
          },
          "metadata": {},
          "execution_count": 13
        }
      ]
    },
    {
      "cell_type": "markdown",
      "metadata": {
        "id": "A1gWTdNnjT5j"
      },
      "source": [
        "## Pesquisas na Base de Dados\n",
        "\n",
        "Quando decidimos abrir um arquivo de dados, é porque possivelmente precisamos fazer consultas ou operações sobre esses dados.\n",
        "\n",
        "Poderíamos por exemplo, querer consultar quais o títulos de filme que constam na base de dados. Ou seja, ao invés de visualizar todos os dados (título, ano, duração e nota), queremos visualizar apenas o TÍTULO dos filmes.\n",
        "\n",
        "Dizemos, neste caso que queremos \"filtrar\" a base de dados, mostrando apenas a coluna (atributo) do TÍTULO.\n",
        "\n",
        "Vejamos como fazer isso com a biblioteca _pandas_."
      ]
    },
    {
      "cell_type": "code",
      "metadata": {
        "id": "SUM5QSP-jTJj",
        "colab": {
          "base_uri": "https://localhost:8080/",
          "height": 212
        },
        "outputId": "2f3d9320-8bf1-4137-ed7f-8dd8f09910e7"
      },
      "source": [
        "filmes[\"Titulo\"]"
      ],
      "execution_count": null,
      "outputs": [
        {
          "output_type": "execute_result",
          "data": {
            "text/plain": [
              "0                                  Star Wars\n",
              "1           Harry Potter e a Pedra Filosofal\n",
              "2    O Senhor dos Anéis: a Companhia do Anel\n",
              "3                              Os Vingadores\n",
              "4                                  Star Trek\n",
              "5                                      X-men\n",
              "6                    Os Guardiões da Galáxia\n",
              "7                                   A Origem\n",
              "8                                 The Matrix\n",
              "9                   O Exterminador do Futuro\n",
              "Name: Titulo, dtype: object"
            ]
          },
          "metadata": {
            "tags": []
          },
          "execution_count": 36
        }
      ]
    },
    {
      "cell_type": "markdown",
      "metadata": {
        "id": "bi5F8p6rlTyq"
      },
      "source": [
        "### Mostrando uma ou mais colunas\n",
        "Note que colocamos entre colchetes (e aspas) o nome do atributo que queremos visualizar.\n",
        "\n",
        "Caso queira uma visualização mais \"bonita\", como se fosse uma planilha, use um \"par de colchetes\" extra conforme abaixo."
      ]
    },
    {
      "cell_type": "code",
      "metadata": {
        "id": "eDZ5weYFo5KK",
        "colab": {
          "base_uri": "https://localhost:8080/",
          "height": 340
        },
        "outputId": "75ffb68b-6120-4cb2-9845-21aa97147bc3"
      },
      "source": [
        "filmes[[\"Titulo\"]]"
      ],
      "execution_count": null,
      "outputs": [
        {
          "output_type": "execute_result",
          "data": {
            "text/html": [
              "<div>\n",
              "<style scoped>\n",
              "    .dataframe tbody tr th:only-of-type {\n",
              "        vertical-align: middle;\n",
              "    }\n",
              "\n",
              "    .dataframe tbody tr th {\n",
              "        vertical-align: top;\n",
              "    }\n",
              "\n",
              "    .dataframe thead th {\n",
              "        text-align: right;\n",
              "    }\n",
              "</style>\n",
              "<table border=\"1\" class=\"dataframe\">\n",
              "  <thead>\n",
              "    <tr style=\"text-align: right;\">\n",
              "      <th></th>\n",
              "      <th>Titulo</th>\n",
              "    </tr>\n",
              "  </thead>\n",
              "  <tbody>\n",
              "    <tr>\n",
              "      <th>0</th>\n",
              "      <td>Star Wars</td>\n",
              "    </tr>\n",
              "    <tr>\n",
              "      <th>1</th>\n",
              "      <td>Harry Potter e a Pedra Filosofal</td>\n",
              "    </tr>\n",
              "    <tr>\n",
              "      <th>2</th>\n",
              "      <td>O Senhor dos Anéis: a Companhia do Anel</td>\n",
              "    </tr>\n",
              "    <tr>\n",
              "      <th>3</th>\n",
              "      <td>Os Vingadores</td>\n",
              "    </tr>\n",
              "    <tr>\n",
              "      <th>4</th>\n",
              "      <td>Star Trek</td>\n",
              "    </tr>\n",
              "    <tr>\n",
              "      <th>5</th>\n",
              "      <td>X-men</td>\n",
              "    </tr>\n",
              "    <tr>\n",
              "      <th>6</th>\n",
              "      <td>Os Guardiões da Galáxia</td>\n",
              "    </tr>\n",
              "    <tr>\n",
              "      <th>7</th>\n",
              "      <td>A Origem</td>\n",
              "    </tr>\n",
              "    <tr>\n",
              "      <th>8</th>\n",
              "      <td>The Matrix</td>\n",
              "    </tr>\n",
              "    <tr>\n",
              "      <th>9</th>\n",
              "      <td>O Exterminador do Futuro</td>\n",
              "    </tr>\n",
              "  </tbody>\n",
              "</table>\n",
              "</div>"
            ],
            "text/plain": [
              "                                    Titulo\n",
              "0                                Star Wars\n",
              "1         Harry Potter e a Pedra Filosofal\n",
              "2  O Senhor dos Anéis: a Companhia do Anel\n",
              "3                            Os Vingadores\n",
              "4                                Star Trek\n",
              "5                                    X-men\n",
              "6                  Os Guardiões da Galáxia\n",
              "7                                 A Origem\n",
              "8                               The Matrix\n",
              "9                 O Exterminador do Futuro"
            ]
          },
          "metadata": {
            "tags": []
          },
          "execution_count": 37
        }
      ]
    },
    {
      "cell_type": "markdown",
      "metadata": {
        "id": "AUjW9AP1pTjJ"
      },
      "source": [
        "Podemos listar mais de uma coluna. Para tal, basta separar com vírgula confome abaixo."
      ]
    },
    {
      "cell_type": "code",
      "metadata": {
        "id": "cxpva999qBPT",
        "colab": {
          "base_uri": "https://localhost:8080/",
          "height": 340
        },
        "outputId": "5e8f8c89-dc89-4fdb-87ec-e130f626797d"
      },
      "source": [
        "filmes[[\"Titulo\",\"Ano\"]]"
      ],
      "execution_count": null,
      "outputs": [
        {
          "output_type": "execute_result",
          "data": {
            "text/html": [
              "<div>\n",
              "<style scoped>\n",
              "    .dataframe tbody tr th:only-of-type {\n",
              "        vertical-align: middle;\n",
              "    }\n",
              "\n",
              "    .dataframe tbody tr th {\n",
              "        vertical-align: top;\n",
              "    }\n",
              "\n",
              "    .dataframe thead th {\n",
              "        text-align: right;\n",
              "    }\n",
              "</style>\n",
              "<table border=\"1\" class=\"dataframe\">\n",
              "  <thead>\n",
              "    <tr style=\"text-align: right;\">\n",
              "      <th></th>\n",
              "      <th>Titulo</th>\n",
              "      <th>Ano</th>\n",
              "    </tr>\n",
              "  </thead>\n",
              "  <tbody>\n",
              "    <tr>\n",
              "      <th>0</th>\n",
              "      <td>Star Wars</td>\n",
              "      <td>1977</td>\n",
              "    </tr>\n",
              "    <tr>\n",
              "      <th>1</th>\n",
              "      <td>Harry Potter e a Pedra Filosofal</td>\n",
              "      <td>2001</td>\n",
              "    </tr>\n",
              "    <tr>\n",
              "      <th>2</th>\n",
              "      <td>O Senhor dos Anéis: a Companhia do Anel</td>\n",
              "      <td>2001</td>\n",
              "    </tr>\n",
              "    <tr>\n",
              "      <th>3</th>\n",
              "      <td>Os Vingadores</td>\n",
              "      <td>2012</td>\n",
              "    </tr>\n",
              "    <tr>\n",
              "      <th>4</th>\n",
              "      <td>Star Trek</td>\n",
              "      <td>2009</td>\n",
              "    </tr>\n",
              "    <tr>\n",
              "      <th>5</th>\n",
              "      <td>X-men</td>\n",
              "      <td>2000</td>\n",
              "    </tr>\n",
              "    <tr>\n",
              "      <th>6</th>\n",
              "      <td>Os Guardiões da Galáxia</td>\n",
              "      <td>2014</td>\n",
              "    </tr>\n",
              "    <tr>\n",
              "      <th>7</th>\n",
              "      <td>A Origem</td>\n",
              "      <td>2010</td>\n",
              "    </tr>\n",
              "    <tr>\n",
              "      <th>8</th>\n",
              "      <td>The Matrix</td>\n",
              "      <td>1999</td>\n",
              "    </tr>\n",
              "    <tr>\n",
              "      <th>9</th>\n",
              "      <td>O Exterminador do Futuro</td>\n",
              "      <td>1984</td>\n",
              "    </tr>\n",
              "  </tbody>\n",
              "</table>\n",
              "</div>"
            ],
            "text/plain": [
              "                                    Titulo   Ano\n",
              "0                                Star Wars  1977\n",
              "1         Harry Potter e a Pedra Filosofal  2001\n",
              "2  O Senhor dos Anéis: a Companhia do Anel  2001\n",
              "3                            Os Vingadores  2012\n",
              "4                                Star Trek  2009\n",
              "5                                    X-men  2000\n",
              "6                  Os Guardiões da Galáxia  2014\n",
              "7                                 A Origem  2010\n",
              "8                               The Matrix  1999\n",
              "9                 O Exterminador do Futuro  1984"
            ]
          },
          "metadata": {
            "tags": []
          },
          "execution_count": 38
        }
      ]
    },
    {
      "cell_type": "markdown",
      "metadata": {
        "id": "_t0Est9msLUe"
      },
      "source": [
        "Podemos também usar o _print_ conforme abaixo."
      ]
    },
    {
      "cell_type": "code",
      "metadata": {
        "id": "wQ2nhtl2sGEC",
        "colab": {
          "base_uri": "https://localhost:8080/",
          "height": 212
        },
        "outputId": "9cf05c48-ab89-4cb7-a05e-e78c128fdeca"
      },
      "source": [
        "print(filmes[[\"Titulo\",\"Ano\"]])"
      ],
      "execution_count": null,
      "outputs": [
        {
          "output_type": "stream",
          "text": [
            "                                    Titulo   Ano\n",
            "0                                Star Wars  1977\n",
            "1         Harry Potter e a Pedra Filosofal  2001\n",
            "2  O Senhor dos Anéis: a Companhia do Anel  2001\n",
            "3                            Os Vingadores  2012\n",
            "4                                Star Trek  2009\n",
            "5                                    X-men  2000\n",
            "6                  Os Guardiões da Galáxia  2014\n",
            "7                                 A Origem  2010\n",
            "8                               The Matrix  1999\n",
            "9                 O Exterminador do Futuro  1984\n"
          ],
          "name": "stdout"
        }
      ]
    },
    {
      "cell_type": "markdown",
      "metadata": {
        "id": "bnXqsn77sWJG"
      },
      "source": [
        "### Mostrando algumas linhas \n",
        "Podemos também realizar filtros por linha, ou seja, visualizar apenas algumas linhas da tabela, de acordo com o \"valor\" de algum atributo.\n",
        "\n",
        "Por exemplo: Quais os filmes lançados no ano 2001?\n"
      ]
    },
    {
      "cell_type": "code",
      "metadata": {
        "id": "AUnBkXBC1-vx",
        "colab": {
          "base_uri": "https://localhost:8080/"
        },
        "outputId": "a0d86457-0223-42ac-a68d-4a19a81dc604"
      },
      "source": [
        "filmes[\"Ano\"] == 2001"
      ],
      "execution_count": null,
      "outputs": [
        {
          "output_type": "execute_result",
          "data": {
            "text/plain": [
              "0    False\n",
              "1     True\n",
              "2     True\n",
              "3    False\n",
              "4    False\n",
              "5    False\n",
              "6    False\n",
              "7    False\n",
              "8    False\n",
              "9    False\n",
              "Name: Ano, dtype: bool"
            ]
          },
          "metadata": {
            "tags": []
          },
          "execution_count": 14
        }
      ]
    },
    {
      "cell_type": "markdown",
      "metadata": {
        "id": "CunWHIHS2boT"
      },
      "source": [
        "Note que o resultado não foi bem o que esperávamos!\n",
        "\n",
        "Apareceu _True_ nas linhas em que a condição é verdadeira (Ano == 2000)  e _False_ nas linhas em que é falsa (Ano diferente de 2000). \n",
        "\n",
        "Para visualizar os DADOS para o qual esta condição é satisfeita (True) devemos escrever a instrução da seguinte maneira:"
      ]
    },
    {
      "cell_type": "code",
      "metadata": {
        "id": "yTnUSM0q25Ll",
        "colab": {
          "base_uri": "https://localhost:8080/",
          "height": 110
        },
        "outputId": "ece1a9a9-0516-4463-f93d-5c3b53b00cf9"
      },
      "source": [
        "filmes[filmes[\"Ano\"] == 2001]"
      ],
      "execution_count": null,
      "outputs": [
        {
          "output_type": "execute_result",
          "data": {
            "text/html": [
              "<div>\n",
              "<style scoped>\n",
              "    .dataframe tbody tr th:only-of-type {\n",
              "        vertical-align: middle;\n",
              "    }\n",
              "\n",
              "    .dataframe tbody tr th {\n",
              "        vertical-align: top;\n",
              "    }\n",
              "\n",
              "    .dataframe thead th {\n",
              "        text-align: right;\n",
              "    }\n",
              "</style>\n",
              "<table border=\"1\" class=\"dataframe\">\n",
              "  <thead>\n",
              "    <tr style=\"text-align: right;\">\n",
              "      <th></th>\n",
              "      <th>Titulo</th>\n",
              "      <th>Ano</th>\n",
              "      <th>Duracao</th>\n",
              "      <th>Nota</th>\n",
              "    </tr>\n",
              "  </thead>\n",
              "  <tbody>\n",
              "    <tr>\n",
              "      <th>1</th>\n",
              "      <td>Harry Potter e a Pedra Filosofal</td>\n",
              "      <td>2001</td>\n",
              "      <td>152</td>\n",
              "      <td>75</td>\n",
              "    </tr>\n",
              "    <tr>\n",
              "      <th>2</th>\n",
              "      <td>O Senhor dos Anéis: a Companhia do Anel</td>\n",
              "      <td>2001</td>\n",
              "      <td>178</td>\n",
              "      <td>88</td>\n",
              "    </tr>\n",
              "  </tbody>\n",
              "</table>\n",
              "</div>"
            ],
            "text/plain": [
              "                                    Titulo   Ano  Duracao  Nota\n",
              "1         Harry Potter e a Pedra Filosofal  2001      152    75\n",
              "2  O Senhor dos Anéis: a Companhia do Anel  2001      178    88"
            ]
          },
          "metadata": {
            "tags": []
          },
          "execution_count": 15
        }
      ]
    },
    {
      "cell_type": "markdown",
      "metadata": {
        "id": "lwvDAeyN_Fmq"
      },
      "source": [
        "### Outra Sintaxe\n",
        "\n",
        "Outra sintaxe para executar a mesma consulta está abaixo. Note que ao invés de usar `filmes[\"Ano\"]` foi usado `filmes.Ano`."
      ]
    },
    {
      "cell_type": "code",
      "metadata": {
        "id": "yNhCU3yp-nrC",
        "colab": {
          "base_uri": "https://localhost:8080/",
          "height": 106
        },
        "outputId": "bd535319-99fd-4868-e9b0-b44744be47f2"
      },
      "source": [
        "filmes[filmes.Ano==2001]"
      ],
      "execution_count": null,
      "outputs": [
        {
          "output_type": "execute_result",
          "data": {
            "text/html": [
              "<div>\n",
              "<style scoped>\n",
              "    .dataframe tbody tr th:only-of-type {\n",
              "        vertical-align: middle;\n",
              "    }\n",
              "\n",
              "    .dataframe tbody tr th {\n",
              "        vertical-align: top;\n",
              "    }\n",
              "\n",
              "    .dataframe thead th {\n",
              "        text-align: right;\n",
              "    }\n",
              "</style>\n",
              "<table border=\"1\" class=\"dataframe\">\n",
              "  <thead>\n",
              "    <tr style=\"text-align: right;\">\n",
              "      <th></th>\n",
              "      <th>Titulo</th>\n",
              "      <th>Ano</th>\n",
              "      <th>Duracao</th>\n",
              "      <th>Nota</th>\n",
              "    </tr>\n",
              "  </thead>\n",
              "  <tbody>\n",
              "    <tr>\n",
              "      <th>1</th>\n",
              "      <td>Harry Potter e a Pedra Filosofal</td>\n",
              "      <td>2001</td>\n",
              "      <td>152</td>\n",
              "      <td>75</td>\n",
              "    </tr>\n",
              "    <tr>\n",
              "      <th>2</th>\n",
              "      <td>O Senhor dos Anéis: a Companhia do Anel</td>\n",
              "      <td>2001</td>\n",
              "      <td>178</td>\n",
              "      <td>88</td>\n",
              "    </tr>\n",
              "  </tbody>\n",
              "</table>\n",
              "</div>"
            ],
            "text/plain": [
              "                                    Titulo   Ano  Duracao  Nota\n",
              "1         Harry Potter e a Pedra Filosofal  2001      152    75\n",
              "2  O Senhor dos Anéis: a Companhia do Anel  2001      178    88"
            ]
          },
          "metadata": {
            "tags": []
          },
          "execution_count": 43
        }
      ]
    },
    {
      "cell_type": "markdown",
      "metadata": {
        "id": "FA8oMQ4-Ave7"
      },
      "source": [
        "O problema agora é exibir apenas o Título e o Ano para os filmes lançados no ano 2001, ao invés de exibir todas as colunas.\n",
        "\n",
        "Veja a instrução a seguir."
      ]
    },
    {
      "cell_type": "code",
      "metadata": {
        "id": "hKRJQfB0ANmc",
        "colab": {
          "base_uri": "https://localhost:8080/",
          "height": 106
        },
        "outputId": "b406187d-75d5-4cb9-b1d6-b540badc3327"
      },
      "source": [
        "filmes[[\"Titulo\",\"Ano\"]][filmes.Ano==2001]"
      ],
      "execution_count": null,
      "outputs": [
        {
          "output_type": "execute_result",
          "data": {
            "text/html": [
              "<div>\n",
              "<style scoped>\n",
              "    .dataframe tbody tr th:only-of-type {\n",
              "        vertical-align: middle;\n",
              "    }\n",
              "\n",
              "    .dataframe tbody tr th {\n",
              "        vertical-align: top;\n",
              "    }\n",
              "\n",
              "    .dataframe thead th {\n",
              "        text-align: right;\n",
              "    }\n",
              "</style>\n",
              "<table border=\"1\" class=\"dataframe\">\n",
              "  <thead>\n",
              "    <tr style=\"text-align: right;\">\n",
              "      <th></th>\n",
              "      <th>Titulo</th>\n",
              "      <th>Ano</th>\n",
              "    </tr>\n",
              "  </thead>\n",
              "  <tbody>\n",
              "    <tr>\n",
              "      <th>1</th>\n",
              "      <td>Harry Potter e a Pedra Filosofal</td>\n",
              "      <td>2001</td>\n",
              "    </tr>\n",
              "    <tr>\n",
              "      <th>2</th>\n",
              "      <td>O Senhor dos Anéis: a Companhia do Anel</td>\n",
              "      <td>2001</td>\n",
              "    </tr>\n",
              "  </tbody>\n",
              "</table>\n",
              "</div>"
            ],
            "text/plain": [
              "                                    Titulo   Ano\n",
              "1         Harry Potter e a Pedra Filosofal  2001\n",
              "2  O Senhor dos Anéis: a Companhia do Anel  2001"
            ]
          },
          "metadata": {
            "tags": []
          },
          "execution_count": 44
        }
      ]
    },
    {
      "cell_type": "markdown",
      "metadata": {
        "id": "lAq-AABY6RGF"
      },
      "source": [
        "### Consultas usando o Query\n",
        "\n",
        "Existe uma outra forma \"mais simples\" de realizar a mesma  consulta, sem ter que ficar repetindo a variável `filmes` na instrução. Para tal, basta usar a função `query` conforme abaixo.\n",
        "\n",
        "Note que a sintaxe é um pouco diferente. _Parênteses_ ao invés de _colchetes_!"
      ]
    },
    {
      "cell_type": "code",
      "metadata": {
        "id": "DARmR-VI6pjE",
        "colab": {
          "base_uri": "https://localhost:8080/",
          "height": 110
        },
        "outputId": "9726495f-bda1-42d3-9502-0f203a9ef51b"
      },
      "source": [
        "filmes.query(\"Ano == 2001\")"
      ],
      "execution_count": null,
      "outputs": [
        {
          "output_type": "execute_result",
          "data": {
            "text/html": [
              "<div>\n",
              "<style scoped>\n",
              "    .dataframe tbody tr th:only-of-type {\n",
              "        vertical-align: middle;\n",
              "    }\n",
              "\n",
              "    .dataframe tbody tr th {\n",
              "        vertical-align: top;\n",
              "    }\n",
              "\n",
              "    .dataframe thead th {\n",
              "        text-align: right;\n",
              "    }\n",
              "</style>\n",
              "<table border=\"1\" class=\"dataframe\">\n",
              "  <thead>\n",
              "    <tr style=\"text-align: right;\">\n",
              "      <th></th>\n",
              "      <th>Titulo</th>\n",
              "      <th>Ano</th>\n",
              "      <th>Duracao</th>\n",
              "      <th>Nota</th>\n",
              "    </tr>\n",
              "  </thead>\n",
              "  <tbody>\n",
              "    <tr>\n",
              "      <th>1</th>\n",
              "      <td>Harry Potter e a Pedra Filosofal</td>\n",
              "      <td>2001</td>\n",
              "      <td>152</td>\n",
              "      <td>75</td>\n",
              "    </tr>\n",
              "    <tr>\n",
              "      <th>2</th>\n",
              "      <td>O Senhor dos Anéis: a Companhia do Anel</td>\n",
              "      <td>2001</td>\n",
              "      <td>178</td>\n",
              "      <td>88</td>\n",
              "    </tr>\n",
              "  </tbody>\n",
              "</table>\n",
              "</div>"
            ],
            "text/plain": [
              "                                    Titulo   Ano  Duracao  Nota\n",
              "1         Harry Potter e a Pedra Filosofal  2001      152    75\n",
              "2  O Senhor dos Anéis: a Companhia do Anel  2001      178    88"
            ]
          },
          "metadata": {
            "tags": []
          },
          "execution_count": 16
        }
      ]
    },
    {
      "cell_type": "markdown",
      "metadata": {
        "id": "q1506g8jwiSO"
      },
      "source": [
        "E se quisermos listar todos os filmes com DURAÇÃO abaixo de 125 minutos?\n",
        "\n",
        "Execute a instrução a seguir.\n"
      ]
    },
    {
      "cell_type": "code",
      "metadata": {
        "id": "flmt5D7uD_4R",
        "colab": {
          "base_uri": "https://localhost:8080/",
          "height": 171
        },
        "outputId": "4bbcca4a-0bbf-4713-946b-568c401b9975"
      },
      "source": [
        "filmes.query(\"Duracao < 125\")"
      ],
      "execution_count": null,
      "outputs": [
        {
          "output_type": "execute_result",
          "data": {
            "text/html": [
              "<div>\n",
              "<style scoped>\n",
              "    .dataframe tbody tr th:only-of-type {\n",
              "        vertical-align: middle;\n",
              "    }\n",
              "\n",
              "    .dataframe tbody tr th {\n",
              "        vertical-align: top;\n",
              "    }\n",
              "\n",
              "    .dataframe thead th {\n",
              "        text-align: right;\n",
              "    }\n",
              "</style>\n",
              "<table border=\"1\" class=\"dataframe\">\n",
              "  <thead>\n",
              "    <tr style=\"text-align: right;\">\n",
              "      <th></th>\n",
              "      <th>Titulo</th>\n",
              "      <th>Ano</th>\n",
              "      <th>Duracao</th>\n",
              "      <th>Nota</th>\n",
              "    </tr>\n",
              "  </thead>\n",
              "  <tbody>\n",
              "    <tr>\n",
              "      <th>0</th>\n",
              "      <td>Star Wars</td>\n",
              "      <td>1977</td>\n",
              "      <td>121</td>\n",
              "      <td>87</td>\n",
              "    </tr>\n",
              "    <tr>\n",
              "      <th>5</th>\n",
              "      <td>X-men</td>\n",
              "      <td>2000</td>\n",
              "      <td>104</td>\n",
              "      <td>74</td>\n",
              "    </tr>\n",
              "    <tr>\n",
              "      <th>6</th>\n",
              "      <td>Os Guardiões da Galáxia</td>\n",
              "      <td>2014</td>\n",
              "      <td>121</td>\n",
              "      <td>82</td>\n",
              "    </tr>\n",
              "    <tr>\n",
              "      <th>9</th>\n",
              "      <td>O Exterminador do Futuro</td>\n",
              "      <td>1984</td>\n",
              "      <td>107</td>\n",
              "      <td>81</td>\n",
              "    </tr>\n",
              "  </tbody>\n",
              "</table>\n",
              "</div>"
            ],
            "text/plain": [
              "                     Titulo   Ano  Duracao  Nota\n",
              "0                 Star Wars  1977      121    87\n",
              "5                     X-men  2000      104    74\n",
              "6   Os Guardiões da Galáxia  2014      121    82\n",
              "9  O Exterminador do Futuro  1984      107    81"
            ]
          },
          "metadata": {
            "tags": []
          },
          "execution_count": 17
        }
      ]
    },
    {
      "cell_type": "markdown",
      "metadata": {
        "id": "EAP9bVfA3n24"
      },
      "source": [
        "### Operadores Relacionais\n",
        "Note que podemos usar os diversos operadores relacionais\n",
        "* _==_ : igualdade\n",
        "* _>_ : maior que\n",
        "* _<_ : menor que\n",
        "* _>=_ : maior ou igual\n",
        "* _<=_ : menor ou igual\n",
        "* _!=_ : diferente\n"
      ]
    },
    {
      "cell_type": "markdown",
      "metadata": {
        "id": "eeZRnxs6xKg1"
      },
      "source": [
        "#### Exercício\n",
        "\n",
        "Escreva a instrução para exibir os dados dos filmes a partir do ano 2000.\n"
      ]
    },
    {
      "cell_type": "code",
      "metadata": {
        "id": "DvDzpQg0xjds"
      },
      "source": [
        "# Sua resposta\n"
      ],
      "execution_count": null,
      "outputs": []
    },
    {
      "cell_type": "markdown",
      "metadata": {
        "id": "7kDkJGIU5OXh"
      },
      "source": [
        "### Mostrando algumas linhas e algumas colunas\n",
        "\n",
        "O problema agora é exibir apenas o TÍTULO dos filmes lançados a partir do ano 2000 (inclusive o ano 2000.\n",
        "\n",
        "Veja a instrução a seguir."
      ]
    },
    {
      "cell_type": "code",
      "metadata": {
        "id": "xY0_Q7v85l-u",
        "colab": {
          "base_uri": "https://localhost:8080/",
          "height": 260
        },
        "outputId": "b5e0a1f6-e2e9-495e-aca4-3f9039c9cb06"
      },
      "source": [
        "filmes[[\"Titulo\",\"Ano\"]].query(\"Ano >= 2000\")"
      ],
      "execution_count": null,
      "outputs": [
        {
          "output_type": "execute_result",
          "data": {
            "text/html": [
              "<div>\n",
              "<style scoped>\n",
              "    .dataframe tbody tr th:only-of-type {\n",
              "        vertical-align: middle;\n",
              "    }\n",
              "\n",
              "    .dataframe tbody tr th {\n",
              "        vertical-align: top;\n",
              "    }\n",
              "\n",
              "    .dataframe thead th {\n",
              "        text-align: right;\n",
              "    }\n",
              "</style>\n",
              "<table border=\"1\" class=\"dataframe\">\n",
              "  <thead>\n",
              "    <tr style=\"text-align: right;\">\n",
              "      <th></th>\n",
              "      <th>Titulo</th>\n",
              "      <th>Ano</th>\n",
              "    </tr>\n",
              "  </thead>\n",
              "  <tbody>\n",
              "    <tr>\n",
              "      <th>1</th>\n",
              "      <td>Harry Potter e a Pedra Filosofal</td>\n",
              "      <td>2001</td>\n",
              "    </tr>\n",
              "    <tr>\n",
              "      <th>2</th>\n",
              "      <td>O Senhor dos Anéis: a Companhia do Anel</td>\n",
              "      <td>2001</td>\n",
              "    </tr>\n",
              "    <tr>\n",
              "      <th>3</th>\n",
              "      <td>Os Vingadores</td>\n",
              "      <td>2012</td>\n",
              "    </tr>\n",
              "    <tr>\n",
              "      <th>4</th>\n",
              "      <td>Star Trek</td>\n",
              "      <td>2009</td>\n",
              "    </tr>\n",
              "    <tr>\n",
              "      <th>5</th>\n",
              "      <td>X-men</td>\n",
              "      <td>2000</td>\n",
              "    </tr>\n",
              "    <tr>\n",
              "      <th>6</th>\n",
              "      <td>Os Guardiões da Galáxia</td>\n",
              "      <td>2014</td>\n",
              "    </tr>\n",
              "    <tr>\n",
              "      <th>7</th>\n",
              "      <td>A Origem</td>\n",
              "      <td>2010</td>\n",
              "    </tr>\n",
              "  </tbody>\n",
              "</table>\n",
              "</div>"
            ],
            "text/plain": [
              "                                    Titulo   Ano\n",
              "1         Harry Potter e a Pedra Filosofal  2001\n",
              "2  O Senhor dos Anéis: a Companhia do Anel  2001\n",
              "3                            Os Vingadores  2012\n",
              "4                                Star Trek  2009\n",
              "5                                    X-men  2000\n",
              "6                  Os Guardiões da Galáxia  2014\n",
              "7                                 A Origem  2010"
            ]
          },
          "metadata": {
            "tags": []
          },
          "execution_count": 4
        }
      ]
    },
    {
      "cell_type": "markdown",
      "metadata": {
        "id": "I4XjyAopo3kR"
      },
      "source": [
        "Note que a instrução acima tem duas partes. A primeira parte `>>filmes[[\"Titulo\",\"Ano\"]]<<`  seleciona as colunas a serem exibidas. A segunda parte >>query(\"Ano >= 2000\")<< aplica a condição do que deve ser exibido.\n"
      ]
    },
    {
      "cell_type": "markdown",
      "metadata": {
        "id": "yV1gPwLQKHiL"
      },
      "source": [
        "#### Quebrando a consulta em várias partes\n",
        "É possível também \"quebrar\" a consulta em duas partes. Vejamos."
      ]
    },
    {
      "cell_type": "markdown",
      "metadata": {
        "id": "VgV131UDpmNv"
      },
      "source": [
        "A instrução a seguir seleciona as LINHAS a serem exibidas (com a condição). Note que o resultado é atribuido para uma variável (`dfilmes1`), ou seja, é gerada uma cópia (dfilmes1 é outra variável)."
      ]
    },
    {
      "cell_type": "code",
      "metadata": {
        "id": "1i97FdEiqRdh",
        "colab": {
          "base_uri": "https://localhost:8080/",
          "height": 87
        },
        "outputId": "d5a2f0d0-981e-46dc-9e58-874f2f4dcc67"
      },
      "source": [
        "dfilmes1 = filmes.query(\"Ano >= 2010\")\n",
        "print(dfilmes1)"
      ],
      "execution_count": null,
      "outputs": [
        {
          "output_type": "stream",
          "text": [
            "                    Titulo   Ano  Duracao  Nota\n",
            "3            Os Vingadores  2012      143    84\n",
            "6  Os Guardiões da Galáxia  2014      121    82\n",
            "7                 A Origem  2010      148    88\n"
          ],
          "name": "stdout"
        }
      ]
    },
    {
      "cell_type": "markdown",
      "metadata": {
        "id": "pZdbryBlqa9s"
      },
      "source": [
        "Na instrução a seguir, mostramos apenas as colunas TÍTULO e ANO."
      ]
    },
    {
      "cell_type": "code",
      "metadata": {
        "id": "x3B9-KiHqspD",
        "colab": {
          "base_uri": "https://localhost:8080/",
          "height": 87
        },
        "outputId": "1b0578c8-a4d3-4d36-9248-c2bc8539785f"
      },
      "source": [
        "print(dfilmes1[[\"Titulo\",\"Ano\"]])\n"
      ],
      "execution_count": null,
      "outputs": [
        {
          "output_type": "stream",
          "text": [
            "                    Titulo   Ano\n",
            "3            Os Vingadores  2012\n",
            "6  Os Guardiões da Galáxia  2014\n",
            "7                 A Origem  2010\n"
          ],
          "name": "stdout"
        }
      ]
    },
    {
      "cell_type": "markdown",
      "metadata": {
        "id": "Op8mFbXU9SDQ"
      },
      "source": [
        "Outra forma de realizar a consulta **sem usar** o _query_."
      ]
    },
    {
      "cell_type": "code",
      "metadata": {
        "id": "6TVigEE_BG0e",
        "colab": {
          "base_uri": "https://localhost:8080/",
          "height": 263
        },
        "outputId": "47e76508-aa43-4d5a-d344-0c2db6a6d15d"
      },
      "source": [
        "filmes[[\"Titulo\",\"Ano\"]][filmes.Ano>=2000]"
      ],
      "execution_count": null,
      "outputs": [
        {
          "output_type": "execute_result",
          "data": {
            "text/html": [
              "<div>\n",
              "<style scoped>\n",
              "    .dataframe tbody tr th:only-of-type {\n",
              "        vertical-align: middle;\n",
              "    }\n",
              "\n",
              "    .dataframe tbody tr th {\n",
              "        vertical-align: top;\n",
              "    }\n",
              "\n",
              "    .dataframe thead th {\n",
              "        text-align: right;\n",
              "    }\n",
              "</style>\n",
              "<table border=\"1\" class=\"dataframe\">\n",
              "  <thead>\n",
              "    <tr style=\"text-align: right;\">\n",
              "      <th></th>\n",
              "      <th>Titulo</th>\n",
              "      <th>Ano</th>\n",
              "    </tr>\n",
              "  </thead>\n",
              "  <tbody>\n",
              "    <tr>\n",
              "      <th>1</th>\n",
              "      <td>Harry Potter e a Pedra Filosofal</td>\n",
              "      <td>2001</td>\n",
              "    </tr>\n",
              "    <tr>\n",
              "      <th>2</th>\n",
              "      <td>O Senhor dos Anéis: a Companhia do Anel</td>\n",
              "      <td>2001</td>\n",
              "    </tr>\n",
              "    <tr>\n",
              "      <th>3</th>\n",
              "      <td>Os Vingadores</td>\n",
              "      <td>2012</td>\n",
              "    </tr>\n",
              "    <tr>\n",
              "      <th>4</th>\n",
              "      <td>Star Trek</td>\n",
              "      <td>2009</td>\n",
              "    </tr>\n",
              "    <tr>\n",
              "      <th>5</th>\n",
              "      <td>X-men</td>\n",
              "      <td>2000</td>\n",
              "    </tr>\n",
              "    <tr>\n",
              "      <th>6</th>\n",
              "      <td>Os Guardiões da Galáxia</td>\n",
              "      <td>2014</td>\n",
              "    </tr>\n",
              "    <tr>\n",
              "      <th>7</th>\n",
              "      <td>A Origem</td>\n",
              "      <td>2010</td>\n",
              "    </tr>\n",
              "  </tbody>\n",
              "</table>\n",
              "</div>"
            ],
            "text/plain": [
              "                                    Titulo   Ano\n",
              "1         Harry Potter e a Pedra Filosofal  2001\n",
              "2  O Senhor dos Anéis: a Companhia do Anel  2001\n",
              "3                            Os Vingadores  2012\n",
              "4                                Star Trek  2009\n",
              "5                                    X-men  2000\n",
              "6                  Os Guardiões da Galáxia  2014\n",
              "7                                 A Origem  2010"
            ]
          },
          "metadata": {
            "tags": []
          },
          "execution_count": 18
        }
      ]
    },
    {
      "cell_type": "markdown",
      "metadata": {
        "id": "m0aiXMiFqi-p"
      },
      "source": [
        "### Operadores Lógicos"
      ]
    },
    {
      "cell_type": "markdown",
      "metadata": {
        "id": "uIRTHtySxj1q"
      },
      "source": [
        "E se quisermos listar os filmes com menos de 125 minutos de duração e que foram lançados a partir do ano 2000?\n",
        "\n",
        "Temos duas condições: `duração < 125`  e  `Ano >=200`\n",
        "\n",
        "Para isso, precisamos combinar as duas condições usando um operador lógico `E`.\n",
        "\n",
        "O operador lógico `E` é necessário pois as duas condições precisam ser satisfeitas, ou seja, serem avaliadas como verdadeiras (_True_).\n",
        "\n",
        "Em Python, o operador lógico `E` é representado pelo caracter ``&``.\n",
        "\n",
        "Vejamos a instrução completa usando o _query_."
      ]
    },
    {
      "cell_type": "markdown",
      "metadata": {
        "id": "wqCidrzPspKk"
      },
      "source": [
        "A seguir os operadores lógicos em Python.\n",
        "\n",
        "* & : E (AND)\n",
        "* | : OU (OR)\n",
        "* ~ : não (NOT)"
      ]
    },
    {
      "cell_type": "code",
      "metadata": {
        "id": "rcGgCkw1rk59",
        "colab": {
          "base_uri": "https://localhost:8080/",
          "height": 110
        },
        "outputId": "e327fbfe-4dac-401e-b8ce-237ca04f2c06"
      },
      "source": [
        "filmes.query(\"Duracao < 125 & Ano >= 2000\")"
      ],
      "execution_count": null,
      "outputs": [
        {
          "output_type": "execute_result",
          "data": {
            "text/html": [
              "<div>\n",
              "<style scoped>\n",
              "    .dataframe tbody tr th:only-of-type {\n",
              "        vertical-align: middle;\n",
              "    }\n",
              "\n",
              "    .dataframe tbody tr th {\n",
              "        vertical-align: top;\n",
              "    }\n",
              "\n",
              "    .dataframe thead th {\n",
              "        text-align: right;\n",
              "    }\n",
              "</style>\n",
              "<table border=\"1\" class=\"dataframe\">\n",
              "  <thead>\n",
              "    <tr style=\"text-align: right;\">\n",
              "      <th></th>\n",
              "      <th>Titulo</th>\n",
              "      <th>Ano</th>\n",
              "      <th>Duracao</th>\n",
              "      <th>Nota</th>\n",
              "    </tr>\n",
              "  </thead>\n",
              "  <tbody>\n",
              "    <tr>\n",
              "      <th>5</th>\n",
              "      <td>X-men</td>\n",
              "      <td>2000</td>\n",
              "      <td>104</td>\n",
              "      <td>74</td>\n",
              "    </tr>\n",
              "    <tr>\n",
              "      <th>6</th>\n",
              "      <td>Os Guardiões da Galáxia</td>\n",
              "      <td>2014</td>\n",
              "      <td>121</td>\n",
              "      <td>82</td>\n",
              "    </tr>\n",
              "  </tbody>\n",
              "</table>\n",
              "</div>"
            ],
            "text/plain": [
              "                    Titulo   Ano  Duracao  Nota\n",
              "5                    X-men  2000      104    74\n",
              "6  Os Guardiões da Galáxia  2014      121    82"
            ]
          },
          "metadata": {
            "tags": []
          },
          "execution_count": 19
        }
      ]
    },
    {
      "cell_type": "markdown",
      "metadata": {
        "id": "KbO4HXyAyZTD"
      },
      "source": [
        "### Outro Exemplo com operadores lógicos\n",
        "\n",
        "Listar os filmes lançados depois do ano de 2010 ou que tenham duração menor que 120 minutos.\n",
        "\n",
        "Temos duas condições: Ano >2010 ou duração < 120\n",
        "\n",
        "Para isso, precisamos combinar as duas condições usando um operador lógico `OU`.\n",
        "\n",
        "O operador lógico `E` é necessário pois apenas uma condição precisa ser satisfeita, ou seja, ser avaliada como verdadeira (True).\n",
        "\n",
        "Em Python, o operador lógico `OU` é representado pelo caracter `|`.\n",
        "\n",
        "Vejamos a instrução completa usando o query.\n"
      ]
    },
    {
      "cell_type": "code",
      "metadata": {
        "id": "VtFybYhzFAAU",
        "colab": {
          "base_uri": "https://localhost:8080/",
          "height": 171
        },
        "outputId": "a808e55e-122c-4029-ea7d-e9c52d654aae"
      },
      "source": [
        "filmes.query(\"Ano > 2010 | Duracao < 120\")"
      ],
      "execution_count": null,
      "outputs": [
        {
          "output_type": "execute_result",
          "data": {
            "text/html": [
              "<div>\n",
              "<style scoped>\n",
              "    .dataframe tbody tr th:only-of-type {\n",
              "        vertical-align: middle;\n",
              "    }\n",
              "\n",
              "    .dataframe tbody tr th {\n",
              "        vertical-align: top;\n",
              "    }\n",
              "\n",
              "    .dataframe thead th {\n",
              "        text-align: right;\n",
              "    }\n",
              "</style>\n",
              "<table border=\"1\" class=\"dataframe\">\n",
              "  <thead>\n",
              "    <tr style=\"text-align: right;\">\n",
              "      <th></th>\n",
              "      <th>Titulo</th>\n",
              "      <th>Ano</th>\n",
              "      <th>Duracao</th>\n",
              "      <th>Nota</th>\n",
              "    </tr>\n",
              "  </thead>\n",
              "  <tbody>\n",
              "    <tr>\n",
              "      <th>3</th>\n",
              "      <td>Os Vingadores</td>\n",
              "      <td>2012</td>\n",
              "      <td>143</td>\n",
              "      <td>84</td>\n",
              "    </tr>\n",
              "    <tr>\n",
              "      <th>5</th>\n",
              "      <td>X-men</td>\n",
              "      <td>2000</td>\n",
              "      <td>104</td>\n",
              "      <td>74</td>\n",
              "    </tr>\n",
              "    <tr>\n",
              "      <th>6</th>\n",
              "      <td>Os Guardiões da Galáxia</td>\n",
              "      <td>2014</td>\n",
              "      <td>121</td>\n",
              "      <td>82</td>\n",
              "    </tr>\n",
              "    <tr>\n",
              "      <th>9</th>\n",
              "      <td>O Exterminador do Futuro</td>\n",
              "      <td>1984</td>\n",
              "      <td>107</td>\n",
              "      <td>81</td>\n",
              "    </tr>\n",
              "  </tbody>\n",
              "</table>\n",
              "</div>"
            ],
            "text/plain": [
              "                     Titulo   Ano  Duracao  Nota\n",
              "3             Os Vingadores  2012      143    84\n",
              "5                     X-men  2000      104    74\n",
              "6   Os Guardiões da Galáxia  2014      121    82\n",
              "9  O Exterminador do Futuro  1984      107    81"
            ]
          },
          "metadata": {
            "tags": []
          },
          "execution_count": 20
        }
      ]
    },
    {
      "cell_type": "markdown",
      "metadata": {
        "id": "gb0xi4-hEM2_"
      },
      "source": [
        "### Operadores Lógicos - Sem o Query"
      ]
    },
    {
      "cell_type": "code",
      "metadata": {
        "id": "uLmTMiQSF3s2",
        "colab": {
          "base_uri": "https://localhost:8080/",
          "height": 171
        },
        "outputId": "5bf8a3ec-55e6-41ad-f178-4cbe0a94bcb8"
      },
      "source": [
        "# Dados dos filmes acima de 2010 e Duração < 120 minutos\n",
        "filmes[(filmes[\"Ano\"] > 2010) | (filmes[\"Duracao\"] < 120)]"
      ],
      "execution_count": null,
      "outputs": [
        {
          "output_type": "execute_result",
          "data": {
            "text/html": [
              "<div>\n",
              "<style scoped>\n",
              "    .dataframe tbody tr th:only-of-type {\n",
              "        vertical-align: middle;\n",
              "    }\n",
              "\n",
              "    .dataframe tbody tr th {\n",
              "        vertical-align: top;\n",
              "    }\n",
              "\n",
              "    .dataframe thead th {\n",
              "        text-align: right;\n",
              "    }\n",
              "</style>\n",
              "<table border=\"1\" class=\"dataframe\">\n",
              "  <thead>\n",
              "    <tr style=\"text-align: right;\">\n",
              "      <th></th>\n",
              "      <th>Titulo</th>\n",
              "      <th>Ano</th>\n",
              "      <th>Duracao</th>\n",
              "      <th>Nota</th>\n",
              "    </tr>\n",
              "  </thead>\n",
              "  <tbody>\n",
              "    <tr>\n",
              "      <th>3</th>\n",
              "      <td>Os Vingadores</td>\n",
              "      <td>2012</td>\n",
              "      <td>143</td>\n",
              "      <td>84</td>\n",
              "    </tr>\n",
              "    <tr>\n",
              "      <th>5</th>\n",
              "      <td>X-men</td>\n",
              "      <td>2000</td>\n",
              "      <td>104</td>\n",
              "      <td>74</td>\n",
              "    </tr>\n",
              "    <tr>\n",
              "      <th>6</th>\n",
              "      <td>Os Guardiões da Galáxia</td>\n",
              "      <td>2014</td>\n",
              "      <td>121</td>\n",
              "      <td>82</td>\n",
              "    </tr>\n",
              "    <tr>\n",
              "      <th>9</th>\n",
              "      <td>O Exterminador do Futuro</td>\n",
              "      <td>1984</td>\n",
              "      <td>107</td>\n",
              "      <td>81</td>\n",
              "    </tr>\n",
              "  </tbody>\n",
              "</table>\n",
              "</div>"
            ],
            "text/plain": [
              "                     Titulo   Ano  Duracao  Nota\n",
              "3             Os Vingadores  2012      143    84\n",
              "5                     X-men  2000      104    74\n",
              "6   Os Guardiões da Galáxia  2014      121    82\n",
              "9  O Exterminador do Futuro  1984      107    81"
            ]
          },
          "metadata": {
            "tags": []
          },
          "execution_count": 21
        }
      ]
    },
    {
      "cell_type": "code",
      "metadata": {
        "id": "EbzgG8ecHGJB",
        "colab": {
          "base_uri": "https://localhost:8080/",
          "height": 171
        },
        "outputId": "22164f10-482f-4e5e-8eca-e65732403f19"
      },
      "source": [
        "# Dados (Titulo, Ano e Duração) dos filmes acima de 2010 e Duração < 120 minutos\n",
        "filmes[[\"Titulo\",\"Ano\",\"Duracao\"]][(filmes[\"Ano\"] > 2010) | (filmes[\"Duracao\"] < 120)]"
      ],
      "execution_count": null,
      "outputs": [
        {
          "output_type": "execute_result",
          "data": {
            "text/html": [
              "<div>\n",
              "<style scoped>\n",
              "    .dataframe tbody tr th:only-of-type {\n",
              "        vertical-align: middle;\n",
              "    }\n",
              "\n",
              "    .dataframe tbody tr th {\n",
              "        vertical-align: top;\n",
              "    }\n",
              "\n",
              "    .dataframe thead th {\n",
              "        text-align: right;\n",
              "    }\n",
              "</style>\n",
              "<table border=\"1\" class=\"dataframe\">\n",
              "  <thead>\n",
              "    <tr style=\"text-align: right;\">\n",
              "      <th></th>\n",
              "      <th>Titulo</th>\n",
              "      <th>Ano</th>\n",
              "      <th>Duracao</th>\n",
              "    </tr>\n",
              "  </thead>\n",
              "  <tbody>\n",
              "    <tr>\n",
              "      <th>3</th>\n",
              "      <td>Os Vingadores</td>\n",
              "      <td>2012</td>\n",
              "      <td>143</td>\n",
              "    </tr>\n",
              "    <tr>\n",
              "      <th>5</th>\n",
              "      <td>X-men</td>\n",
              "      <td>2000</td>\n",
              "      <td>104</td>\n",
              "    </tr>\n",
              "    <tr>\n",
              "      <th>6</th>\n",
              "      <td>Os Guardiões da Galáxia</td>\n",
              "      <td>2014</td>\n",
              "      <td>121</td>\n",
              "    </tr>\n",
              "    <tr>\n",
              "      <th>9</th>\n",
              "      <td>O Exterminador do Futuro</td>\n",
              "      <td>1984</td>\n",
              "      <td>107</td>\n",
              "    </tr>\n",
              "  </tbody>\n",
              "</table>\n",
              "</div>"
            ],
            "text/plain": [
              "                     Titulo   Ano  Duracao\n",
              "3             Os Vingadores  2012      143\n",
              "5                     X-men  2000      104\n",
              "6   Os Guardiões da Galáxia  2014      121\n",
              "9  O Exterminador do Futuro  1984      107"
            ]
          },
          "metadata": {
            "tags": []
          },
          "execution_count": 24
        }
      ]
    },
    {
      "cell_type": "markdown",
      "metadata": {
        "id": "IyQczhT3z5DI"
      },
      "source": [
        "#### Exercício\n",
        "\n",
        "Escreva uma instrução para listar apenas os filmes do ano 2001.\n",
        "\n",
        "Observação: Para fazer uma condição de igualdade, use ``==`` e não ``=``"
      ]
    },
    {
      "cell_type": "code",
      "metadata": {
        "id": "QaqPteelsco2"
      },
      "source": [
        "# Sua resposta\n"
      ],
      "execution_count": null,
      "outputs": []
    },
    {
      "cell_type": "markdown",
      "metadata": {
        "id": "pkyrjq-hzaLV"
      },
      "source": [
        "#### Exercício\n",
        "\n",
        "Escreva uma instrução para listar apenas os filmes com Nota pelo menos 80 e que foram lançadas antes do ano 2003."
      ]
    },
    {
      "cell_type": "code",
      "metadata": {
        "id": "fCZ5cd4t0iBp"
      },
      "source": [
        "# Sua resposta\n"
      ],
      "execution_count": null,
      "outputs": []
    },
    {
      "cell_type": "markdown",
      "metadata": {
        "id": "CEQiQvBZvsa3"
      },
      "source": [
        "### Consultas com atributos não numéricos\n",
        "\n",
        "Listar os dados do filme \"Star Wars\"."
      ]
    },
    {
      "cell_type": "code",
      "metadata": {
        "id": "xMfUTJKFv2Lq",
        "colab": {
          "base_uri": "https://localhost:8080/",
          "height": 76
        },
        "outputId": "7ec0ccf8-0b65-4c55-e86c-2728bc81d057"
      },
      "source": [
        "filmes.query(\"Titulo == 'Star Wars'\")"
      ],
      "execution_count": null,
      "outputs": [
        {
          "output_type": "execute_result",
          "data": {
            "text/html": [
              "<div>\n",
              "<style scoped>\n",
              "    .dataframe tbody tr th:only-of-type {\n",
              "        vertical-align: middle;\n",
              "    }\n",
              "\n",
              "    .dataframe tbody tr th {\n",
              "        vertical-align: top;\n",
              "    }\n",
              "\n",
              "    .dataframe thead th {\n",
              "        text-align: right;\n",
              "    }\n",
              "</style>\n",
              "<table border=\"1\" class=\"dataframe\">\n",
              "  <thead>\n",
              "    <tr style=\"text-align: right;\">\n",
              "      <th></th>\n",
              "      <th>Titulo</th>\n",
              "      <th>Ano</th>\n",
              "      <th>Duracao</th>\n",
              "      <th>Nota</th>\n",
              "    </tr>\n",
              "  </thead>\n",
              "  <tbody>\n",
              "    <tr>\n",
              "      <th>0</th>\n",
              "      <td>Star Wars</td>\n",
              "      <td>1977</td>\n",
              "      <td>121</td>\n",
              "      <td>87</td>\n",
              "    </tr>\n",
              "  </tbody>\n",
              "</table>\n",
              "</div>"
            ],
            "text/plain": [
              "      Titulo   Ano  Duracao  Nota\n",
              "0  Star Wars  1977      121    87"
            ]
          },
          "metadata": {
            "tags": []
          },
          "execution_count": 51
        }
      ]
    },
    {
      "cell_type": "markdown",
      "metadata": {
        "id": "CAVvWQn4jGmz"
      },
      "source": [
        "#### A necessidade de usar ASPAS\n",
        "**ATENÇÃO**: Note que para fazer a comparação com o valor `Star Wars` foi necessário usar **ASPAS (simples)** para delimitar `Star Wars`.  Para comparar valores numéricos as **ASPAS (simples)** NÃO são necessárias. Mas elas são **OBRIGATÓRIAS** para comparar com valores não numéricos (como nomes, etc.). Por isso, na consulta acima usamos `'Star Wars'`."
      ]
    },
    {
      "cell_type": "markdown",
      "metadata": {
        "id": "2lEWYIzLxc6k"
      },
      "source": [
        "O operador `==` **funciona para consulta exata**.\n",
        "Mas e se quisermos listar os filmes que tenham o termo \"Star\" no título (em qualquer parte do título) ?"
      ]
    },
    {
      "cell_type": "code",
      "metadata": {
        "id": "_1YI38TgJ8-H"
      },
      "source": [
        ""
      ],
      "execution_count": null,
      "outputs": []
    },
    {
      "cell_type": "code",
      "metadata": {
        "id": "MGEFOq63xqDa",
        "colab": {
          "base_uri": "https://localhost:8080/",
          "height": 47
        },
        "outputId": "c605d728-d972-4e82-d916-20321b88e5b7"
      },
      "source": [
        "filmes.query(\"Titulo == 'Star'\")"
      ],
      "execution_count": null,
      "outputs": [
        {
          "output_type": "execute_result",
          "data": {
            "text/html": [
              "<div>\n",
              "<style scoped>\n",
              "    .dataframe tbody tr th:only-of-type {\n",
              "        vertical-align: middle;\n",
              "    }\n",
              "\n",
              "    .dataframe tbody tr th {\n",
              "        vertical-align: top;\n",
              "    }\n",
              "\n",
              "    .dataframe thead th {\n",
              "        text-align: right;\n",
              "    }\n",
              "</style>\n",
              "<table border=\"1\" class=\"dataframe\">\n",
              "  <thead>\n",
              "    <tr style=\"text-align: right;\">\n",
              "      <th></th>\n",
              "      <th>Titulo</th>\n",
              "      <th>Ano</th>\n",
              "      <th>Duracao</th>\n",
              "      <th>Nota</th>\n",
              "    </tr>\n",
              "  </thead>\n",
              "  <tbody>\n",
              "  </tbody>\n",
              "</table>\n",
              "</div>"
            ],
            "text/plain": [
              "Empty DataFrame\n",
              "Columns: [Titulo, Ano, Duracao, Nota]\n",
              "Index: []"
            ]
          },
          "metadata": {
            "tags": []
          },
          "execution_count": 52
        }
      ]
    },
    {
      "cell_type": "markdown",
      "metadata": {
        "id": "Z2x8GjlTxwCm"
      },
      "source": [
        "Note que a consulta acima não retornou nada.\n",
        "Para este tipo de consulta podemos fazer uso da função _str.contains_ conforme instrução a seguir. Note que o parâmetro `engine = 'python'` é necessário."
      ]
    },
    {
      "cell_type": "code",
      "metadata": {
        "id": "4TwO3A60xXAc",
        "colab": {
          "base_uri": "https://localhost:8080/",
          "height": 106
        },
        "outputId": "3229221e-2ab0-4699-db48-9a4ac0585f88"
      },
      "source": [
        "filmes.query('Titulo.str.contains(\"Star\")', engine='python')"
      ],
      "execution_count": null,
      "outputs": [
        {
          "output_type": "execute_result",
          "data": {
            "text/html": [
              "<div>\n",
              "<style scoped>\n",
              "    .dataframe tbody tr th:only-of-type {\n",
              "        vertical-align: middle;\n",
              "    }\n",
              "\n",
              "    .dataframe tbody tr th {\n",
              "        vertical-align: top;\n",
              "    }\n",
              "\n",
              "    .dataframe thead th {\n",
              "        text-align: right;\n",
              "    }\n",
              "</style>\n",
              "<table border=\"1\" class=\"dataframe\">\n",
              "  <thead>\n",
              "    <tr style=\"text-align: right;\">\n",
              "      <th></th>\n",
              "      <th>Titulo</th>\n",
              "      <th>Ano</th>\n",
              "      <th>Duracao</th>\n",
              "      <th>Nota</th>\n",
              "    </tr>\n",
              "  </thead>\n",
              "  <tbody>\n",
              "    <tr>\n",
              "      <th>0</th>\n",
              "      <td>Star Wars</td>\n",
              "      <td>1977</td>\n",
              "      <td>121</td>\n",
              "      <td>87</td>\n",
              "    </tr>\n",
              "    <tr>\n",
              "      <th>4</th>\n",
              "      <td>Star Trek</td>\n",
              "      <td>2009</td>\n",
              "      <td>127</td>\n",
              "      <td>80</td>\n",
              "    </tr>\n",
              "  </tbody>\n",
              "</table>\n",
              "</div>"
            ],
            "text/plain": [
              "      Titulo   Ano  Duracao  Nota\n",
              "0  Star Wars  1977      121    87\n",
              "4  Star Trek  2009      127    80"
            ]
          },
          "metadata": {
            "tags": []
          },
          "execution_count": 53
        }
      ]
    },
    {
      "cell_type": "markdown",
      "metadata": {
        "id": "w5dwd4uTzthx"
      },
      "source": [
        "Se precisar listar filmes cujo título apenas **começam** com 'Star' a opção é usar `str.starswith` conforme exemplo a seguir. Mas note que essa opção não faz parte do `query`."
      ]
    },
    {
      "cell_type": "code",
      "metadata": {
        "id": "8sJtKa8ZzU6z",
        "colab": {
          "base_uri": "https://localhost:8080/",
          "height": 106
        },
        "outputId": "2584f06d-2d63-47a9-de87-9f7a8b8b9b63"
      },
      "source": [
        "filmes[filmes.Titulo.str.startswith('Star')]"
      ],
      "execution_count": null,
      "outputs": [
        {
          "output_type": "execute_result",
          "data": {
            "text/html": [
              "<div>\n",
              "<style scoped>\n",
              "    .dataframe tbody tr th:only-of-type {\n",
              "        vertical-align: middle;\n",
              "    }\n",
              "\n",
              "    .dataframe tbody tr th {\n",
              "        vertical-align: top;\n",
              "    }\n",
              "\n",
              "    .dataframe thead th {\n",
              "        text-align: right;\n",
              "    }\n",
              "</style>\n",
              "<table border=\"1\" class=\"dataframe\">\n",
              "  <thead>\n",
              "    <tr style=\"text-align: right;\">\n",
              "      <th></th>\n",
              "      <th>Titulo</th>\n",
              "      <th>Ano</th>\n",
              "      <th>Duracao</th>\n",
              "      <th>Nota</th>\n",
              "    </tr>\n",
              "  </thead>\n",
              "  <tbody>\n",
              "    <tr>\n",
              "      <th>0</th>\n",
              "      <td>Star Wars</td>\n",
              "      <td>1977</td>\n",
              "      <td>121</td>\n",
              "      <td>87</td>\n",
              "    </tr>\n",
              "    <tr>\n",
              "      <th>4</th>\n",
              "      <td>Star Trek</td>\n",
              "      <td>2009</td>\n",
              "      <td>127</td>\n",
              "      <td>80</td>\n",
              "    </tr>\n",
              "  </tbody>\n",
              "</table>\n",
              "</div>"
            ],
            "text/plain": [
              "      Titulo   Ano  Duracao  Nota\n",
              "0  Star Wars  1977      121    87\n",
              "4  Star Trek  2009      127    80"
            ]
          },
          "metadata": {
            "tags": []
          },
          "execution_count": 54
        }
      ]
    },
    {
      "cell_type": "markdown",
      "metadata": {
        "id": "0iOpLI5o1RiH"
      },
      "source": [
        "#### Exercício\n",
        "\n",
        "Escreva uma instrução para listar os filmes que contenham o termo \"Potter\"."
      ]
    },
    {
      "cell_type": "code",
      "metadata": {
        "id": "4VBgeVjb1Zc_"
      },
      "source": [
        "# Sua resposta"
      ],
      "execution_count": null,
      "outputs": []
    },
    {
      "cell_type": "markdown",
      "metadata": {
        "id": "1G3ENntrxhYK"
      },
      "source": [
        "### Verificando os valores de um atributo (unique)\n",
        "\n",
        "Dependendo da característica do atributo ele pode assumir um único valor, uma faixa de valores, uma lista de valores, ou mesmo qualquer valor.\n",
        "\n",
        "Para analisar os valores de um determinado atributo podemos usar a função `unique()`. Esta função retorna quais os valores \"únicos\" que existem num determinado atributo.\n",
        "\n",
        "Vejamos a instrução a seguir."
      ]
    },
    {
      "cell_type": "code",
      "metadata": {
        "id": "rk8hEhFayQnA",
        "colab": {
          "base_uri": "https://localhost:8080/",
          "height": 35
        },
        "outputId": "8ba76df3-52f2-4687-cb72-eda95bb21da5"
      },
      "source": [
        "# Listar as diferentes notas atribuídas.\n",
        "filmes[\"Nota\"].unique()"
      ],
      "execution_count": null,
      "outputs": [
        {
          "output_type": "execute_result",
          "data": {
            "text/plain": [
              "array([87, 75, 88, 84, 80, 74, 82, 81])"
            ]
          },
          "metadata": {
            "tags": []
          },
          "execution_count": 5
        }
      ]
    },
    {
      "cell_type": "markdown",
      "metadata": {
        "id": "4wDiKqFIy6MB"
      },
      "source": [
        "#### Exercício\n",
        "\n",
        "Escreva uma instrução para listar os diferentes valores para o atributo `Ano`."
      ]
    },
    {
      "cell_type": "code",
      "metadata": {
        "id": "QzHAO01WyyFz"
      },
      "source": [
        "# Sua resposta"
      ],
      "execution_count": null,
      "outputs": []
    }
  ]
}