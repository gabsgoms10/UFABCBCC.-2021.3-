{
  "nbformat": 4,
  "nbformat_minor": 0,
  "metadata": {
    "colab": {
      "name": "GabrielCiprianoATV2.ipynb",
      "provenance": [],
      "collapsed_sections": []
    },
    "kernelspec": {
      "name": "python3",
      "display_name": "Python 3"
    },
    "language_info": {
      "name": "python"
    }
  },
  "cells": [
    {
      "cell_type": "code",
      "metadata": {
        "id": "5nHsKfviBeA1"
      },
      "source": [
        " # EXERCICIO 1\n",
        " # Pede-se:\n",
        " # 1 - Leia a Tabela do arquivo CSV para o seu notebook\n",
        " import pandas as pd\n",
        " x = pd.read_csv(r\"https://drive.google.com/u/3/uc?id=1LEfgutKJxFomzEVMjdFdSJIp4A5qq8oB&export=download\")\n",
        " print(x)"
      ],
      "execution_count": 95,
      "outputs": []
    },
    {
      "cell_type": "code",
      "metadata": {
        "colab": {
          "base_uri": "https://localhost:8080/"
        },
        "id": "VzQmnbJhUY-d",
        "outputId": "f3afb372-075d-4639-8354-db11d0318a98"
      },
      "source": [
        " # EXERCICIO 1\n",
        " # 2 – Crie uma instrução para visualizar as primeiras 5 linhas da tabela\n",
        " import pandas as pd\n",
        " df = pd.read_csv(\"https://drive.google.com/u/3/uc?id=1LEfgutKJxFomzEVMjdFdSJIp4A5qq8oB&export=download\")\n",
        " print(df.head(5))"
      ],
      "execution_count": 90,
      "outputs": [
        {
          "output_type": "stream",
          "name": "stdout",
          "text": [
            "  Confederation                   Stadium    City  ...  Country  IOC Population\n",
            "0          UEFA       Stadiumi Besëlidhja   Lezhë  ...  Albania  ALB    2876591\n",
            "1          UEFA       Stadiumi Flamurtari   Vlorë  ...  Albania  ALB    2876591\n",
            "2          UEFA             Stadiumi Laçi    Laçi  ...  Albania  ALB    2876591\n",
            "3          UEFA      Stadiumi Niko Dovana  Durrës  ...  Albania  ALB    2876591\n",
            "4          UEFA  Stadiumi Selman Stërmasi  Tirana  ...  Albania  ALB    2876591\n",
            "\n",
            "[5 rows x 8 columns]\n"
          ]
        }
      ]
    },
    {
      "cell_type": "code",
      "metadata": {
        "colab": {
          "base_uri": "https://localhost:8080/"
        },
        "id": "4CkmXxYsUwUK",
        "outputId": "c408eb69-2546-4c0f-cf7d-2817a381b296"
      },
      "source": [
        " # EXERCICIO 1\n",
        " # 3 - Crie uma instrução para visualizar as últimas 8 linhas da tabela\n",
        " import pandas as pd\n",
        " x = pd.read_csv(\"https://drive.google.com/u/3/uc?id=1LEfgutKJxFomzEVMjdFdSJIp4A5qq8oB&export=download\")\n",
        " print(x.tail(8))"
      ],
      "execution_count": 94,
      "outputs": [
        {
          "output_type": "stream",
          "name": "stdout",
          "text": [
            "     Confederation                    Stadium  ...  IOC Population\n",
            "2016           AFC         Thong Nhat Stadium  ...  VIE   94569072\n",
            "2017          UEFA  Bangor University Stadium  ...  WAL    3125000\n",
            "2018          UEFA       Cardiff City Stadium  ...  WAL    3125000\n",
            "2019          UEFA            Liberty Stadium  ...  WAL    3125000\n",
            "2020          UEFA            Parc y Scarlets  ...  WAL    3125000\n",
            "2021          UEFA                Park Avenue  ...  WAL    3125000\n",
            "2022          UEFA       Principality Stadium  ...  WAL    3125000\n",
            "2023          UEFA          Racecourse Ground  ...  WAL    3125000\n",
            "\n",
            "[8 rows x 8 columns]\n"
          ]
        }
      ]
    },
    {
      "cell_type": "code",
      "metadata": {
        "id": "IUCPmeiX-z4k",
        "colab": {
          "base_uri": "https://localhost:8080/"
        },
        "outputId": "7af64b33-4bb6-428a-aa0f-07c01d69b14f"
      },
      "source": [
        " # EXERCICIO 1\n",
        " # 4 - Crie uma instrução para visualizar as 10 primeiras linhas dos atributos: Stadium, Country e Population\n",
        " import pandas as pd\n",
        " x = pd.read_csv(\"https://drive.google.com/u/3/uc?id=1LEfgutKJxFomzEVMjdFdSJIp4A5qq8oB&export=download\")\n",
        " print(x[[\"Stadium\",\"Country\",\"Population\"]].head(10))"
      ],
      "execution_count": 98,
      "outputs": [
        {
          "output_type": "stream",
          "name": "stdout",
          "text": [
            "                       Stadium  Country  Population\n",
            "0          Stadiumi Besëlidhja  Albania     2876591\n",
            "1          Stadiumi Flamurtari  Albania     2876591\n",
            "2                Stadiumi Laçi  Albania     2876591\n",
            "3         Stadiumi Niko Dovana  Albania     2876591\n",
            "4     Stadiumi Selman Stërmasi  Albania     2876591\n",
            "5          Stadiumi Skënderbeu  Albania     2876591\n",
            "6      Stade 1er Novembre 1954  Algeria    42200000\n",
            "7           Stade Ahmed Zabana  Algeria    42200000\n",
            "8           Stade Amar Hareche  Algeria    42200000\n",
            "9  Stade de l'Unité Maghrébine  Algeria    42200000\n"
          ]
        }
      ]
    },
    {
      "cell_type": "code",
      "metadata": {
        "colab": {
          "base_uri": "https://localhost:8080/"
        },
        "id": "J8E2x9woWVON",
        "outputId": "f89c5b6a-a54e-4f4e-bc2a-2b5b06a3e9fb"
      },
      "source": [
        " # EXERCICIO 1\n",
        " # 5 - Crie uma instrução para visualizar a coluna: HomeTeams import pandas as pd\n",
        " x = pd.read_csv(\"https://drive.google.com/u/3/uc?id=1LEfgutKJxFomzEVMjdFdSJIp4A5qq8oB&export=download\")\n",
        " print(x[\"HomeTeams\"])"
      ],
      "execution_count": 100,
      "outputs": [
        {
          "output_type": "stream",
          "name": "stdout",
          "text": [
            "0                         Besëlidhja\n",
            "1                   Flamurtari Vlorë\n",
            "2                            KF Laçi\n",
            "3                              Teuta\n",
            "4       KF Tirana, Dinamo, Partizani\n",
            "                    ...             \n",
            "2019                    Swansea City\n",
            "2020          Scarlets, Llanelli RFC\n",
            "2021                Aberystwyth Town\n",
            "2022                               -\n",
            "2023                     Wrexham AFC\n",
            "Name: HomeTeams, Length: 2024, dtype: object\n"
          ]
        }
      ]
    },
    {
      "cell_type": "code",
      "metadata": {
        "colab": {
          "base_uri": "https://localhost:8080/"
        },
        "id": "pghRm8DiYAYF",
        "outputId": "520e024e-b100-4fb4-d7e3-7277809ebe3e"
      },
      "source": [
        " # EXERCICIO 2\n",
        " import pandas as pd\n",
        " x = pd.read_csv(\"https://drive.google.com/u/3/uc?id=12a2A9SC33lRM29KGw6cRxTWTDXWXrYVb&export=download\", sep = \",\")\n",
        " print(x.query(\"Escolaridade == 'Superior'\"))"
      ],
      "execution_count": 132,
      "outputs": [
        {
          "output_type": "stream",
          "name": "stdout",
          "text": [
            "   Codigo Escolaridade Genero  Idade_Anos  Tempo_Meses  Salario\n",
            "2       4     Superior      M          54           89     8260\n",
            "9      11     Superior      F          72           58    14020\n"
          ]
        }
      ]
    },
    {
      "cell_type": "code",
      "metadata": {
        "colab": {
          "base_uri": "https://localhost:8080/"
        },
        "id": "pig-FRCMaJnU",
        "outputId": "71982f8f-0d3a-43af-8348-bb1a3463bc2b"
      },
      "source": [
        " # EXERCICIO 3\n",
        " import pandas as pd\n",
        " x = pd.read_csv(\"https://drive.google.com/u/3/uc?id=12a2A9SC33lRM29KGw6cRxTWTDXWXrYVb&export=download\", sep = \",\")\n",
        " print(x.query(\"Idade_Anos > 50 & Genero =='M'\"))"
      ],
      "execution_count": 166,
      "outputs": [
        {
          "output_type": "stream",
          "name": "stdout",
          "text": [
            "    Codigo Escolaridade Genero  Idade_Anos  Tempo_Meses  Salario\n",
            "2        4     Superior      M          54           89     8260\n",
            "7        9      1o Grau      M          65           99     1980\n",
            "10      12      2o Grau      M          58           72     1890\n",
            "12      14      1o Grau      M          65           80    13760\n",
            "13      15      2o Grau      M          58           61    11530\n",
            "15      17      1o Grau      M          52           25    18420\n"
          ]
        }
      ]
    },
    {
      "cell_type": "code",
      "metadata": {
        "colab": {
          "base_uri": "https://localhost:8080/"
        },
        "id": "oPjOYqbPaJ71",
        "outputId": "7fea51b7-da40-4456-c6a9-0d4204773393"
      },
      "source": [
        " # EXERCICIO 4\n",
        " import pandas as pd\n",
        " x = pd.read_csv(\"https://drive.google.com/u/3/uc?id=12a2A9SC33lRM29KGw6cRxTWTDXWXrYVb&export=download\", sep = \",\")\n",
        " print(x.groupby(\"Escolaridade\")[\"Codigo\"].count())"
      ],
      "execution_count": 140,
      "outputs": [
        {
          "output_type": "stream",
          "name": "stdout",
          "text": [
            "Escolaridade\n",
            "1o Grau     12\n",
            "2o Grau      6\n",
            "Superior     2\n",
            "Name: Codigo, dtype: int64\n"
          ]
        }
      ]
    },
    {
      "cell_type": "code",
      "metadata": {
        "colab": {
          "base_uri": "https://localhost:8080/"
        },
        "id": "ZNOxe-M9cDQd",
        "outputId": "5b184532-0358-411b-bf9c-3563b0489a1d"
      },
      "source": [
        " # Exercício 5: Considere a base de dados de filmes (funciona.csv) contendo os atributos Codigo, Escolaridade, Genero, Idade_Anos, Tempo_Meses, Salario.\n",
        " # Escreva instruções para exibir o maior salário por Escolaridade\n",
        " import pandas as pd\n",
        " x = pd.read_csv(\"https://drive.google.com/u/3/uc?id=12a2A9SC33lRM29KGw6cRxTWTDXWXrYVb&export=download\", sep = \",\")\n",
        " print(x.groupby(\"Escolaridade\")[\"Salario\"].max())\n"
      ],
      "execution_count": 165,
      "outputs": [
        {
          "output_type": "stream",
          "name": "stdout",
          "text": [
            "Escolaridade\n",
            "1o Grau     19910\n",
            "2o Grau     16350\n",
            "Superior    14020\n",
            "Name: Salario, dtype: int64\n"
          ]
        }
      ]
    }
  ]
}