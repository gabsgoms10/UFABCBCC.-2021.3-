{
  "nbformat": 4,
  "nbformat_minor": 0,
  "metadata": {
    "colab": {
      "name": "ExercíciosdeEstatísticaGabrielC.ipynb",
      "provenance": [],
      "authorship_tag": "ABX9TyPWONfmZMF/exSEGJL6epBF",
      "include_colab_link": true
    },
    "kernelspec": {
      "name": "python3",
      "display_name": "Python 3"
    },
    "language_info": {
      "name": "python"
    }
  },
  "cells": [
    {
      "cell_type": "markdown",
      "metadata": {
        "id": "view-in-github",
        "colab_type": "text"
      },
      "source": [
        "<a href=\"https://colab.research.google.com/github/gabsgoms10/UFABCBCC.-2021.3-/blob/main/Exerc%C3%ADciosdeEstat%C3%ADsticaGabrielC.ipynb\" target=\"_parent\"><img src=\"https://colab.research.google.com/assets/colab-badge.svg\" alt=\"Open In Colab\"/></a>"
      ]
    },
    {
      "cell_type": "code",
      "metadata": {
        "id": "OsJ_tuBVZUIr"
      },
      "source": [
        " # Importando bibliotecas\n",
        " import pandas as pd\n",
        " import seaborn as sns \n",
        " import matplotlib.pyplot as plt\n",
        " import numpy as np\n",
        " %matplotlib inline\n"
      ],
      "execution_count": 72,
      "outputs": []
    },
    {
      "cell_type": "code",
      "metadata": {
        "colab": {
          "base_uri": "https://localhost:8080/"
        },
        "id": "515ReCjfZelj",
        "outputId": "49729a4b-6b4e-41cf-eb3b-1c1cb68f27ec"
      },
      "source": [
        " # Importando e exibindo o dataframe\n",
        " file = pd.read_csv(\"https://drive.google.com/u/3/uc?id=1UFYSgK1hm9hJuP9nSibpD3cwFd0Bv4Y2&export=download\")\n",
        " print(file)\n"
      ],
      "execution_count": 67,
      "outputs": [
        {
          "output_type": "stream",
          "name": "stdout",
          "text": [
            "    Prova 1  Prova 2  Trabalho\n",
            "0        49       75       100\n",
            "1        57       74        78\n",
            "2        39       64        41\n",
            "3        32       58        60\n",
            "4        65       92        81\n",
            "..      ...      ...       ...\n",
            "95       54       76        58\n",
            "96       61       81       100\n",
            "97       32       50        57\n",
            "98       50       77        80\n",
            "99       28       46        26\n",
            "\n",
            "[100 rows x 3 columns]\n"
          ]
        }
      ]
    },
    {
      "cell_type": "code",
      "metadata": {
        "colab": {
          "base_uri": "https://localhost:8080/"
        },
        "id": "3PsxnDfsZsge",
        "outputId": "353cb475-e523-4e7a-f406-c4d12b389561"
      },
      "source": [
        " \"\"\"Leia a planilha e calcule o coeficiente de correlação entre\n",
        "• Prova 1 e Prova 2\n",
        "• Prova 1 e Trabalho\n",
        "• Prova 2 e Trabalho\n",
        "Imprime os resultados com 2 casas decimais.\n",
        "Qual é o par mais fortemente correlacionado?\n",
        ".\"\"\"\n",
        "# Calculando o coeficiente de correlação\n",
        " c1 = file[\"Prova 1\"].corr(file[\"Prova 2\"]) \n",
        " c2 = file[\"Prova 1\"].corr(file[\"Trabalho\"]) \n",
        " c3 = file[\"Prova 2\"].corr(file[\"Trabalho\"]) \n",
        " print(\"Coeficiente de correlação prova 1/prova 2:\", \"%.2f\" %c1)\n",
        " print(\"Coeficiente de correlação prova 1/trabalho:\", \"%.2f\" %c2)\n",
        " print(\"Coeficiente de correlação prova 2/trabalho:\",\"%.2f\" % c3)\n",
        " print(\"O par mais fortemente relacionado é o composto por pelas colunas Prova 1 e Prova 2\")"
      ],
      "execution_count": 75,
      "outputs": [
        {
          "output_type": "stream",
          "name": "stdout",
          "text": [
            "Coeficiente de correlação prova 1/prova 2: 0.91\n",
            "Coeficiente de correlação prova 1/trabalho: 0.39\n",
            "Coeficiente de correlação prova 2/trabalho: 0.44\n",
            "O par mais fortemente relacionado é o composto por pelas colunas Prova 1 e Prova 2\n"
          ]
        }
      ]
    },
    {
      "cell_type": "code",
      "metadata": {
        "colab": {
          "base_uri": "https://localhost:8080/"
        },
        "id": "FzFMPthQfDUR",
        "outputId": "7163cc02-c62c-47f1-a0f8-af3b5cc4b4c8"
      },
      "source": [
        " \"\"\"Escreva instruções para ler a planilha e uma das colunas \"Prova 1\" ou \"Prova\n",
        " 2\", calcular e imprimir o coeficiente de correlação da coluna Trabalho com a\n",
        " coluna lida. Imprime o resultado com 2 casas decimais.\n",
        " O que podemos concluir a partir deste valor obtido?\"\"\"\n",
        " print(file [[\"Prova 2\"]])\n",
        " xz = \"%.2f\" % c3\n",
        " print('Coeficiente entre Prova 2 e Trabalho:', xz)\n",
        " #Definindo o que pode ser concluido com o valor obtido\n",
        " if '0.69' >= xz >= '0.40':\n",
        "   print('O valor obtido mostra que existe uma correlação moderada')"
      ],
      "execution_count": 98,
      "outputs": [
        {
          "output_type": "stream",
          "name": "stdout",
          "text": [
            "    Prova 2\n",
            "0        75\n",
            "1        74\n",
            "2        64\n",
            "3        58\n",
            "4        92\n",
            "..      ...\n",
            "95       76\n",
            "96       81\n",
            "97       50\n",
            "98       77\n",
            "99       46\n",
            "\n",
            "[100 rows x 1 columns]\n",
            "Coeficiente entre Prova 2 e Trabalho: 0.44\n",
            "O valor obtido mostra que existe uma correlação moderada\n"
          ]
        }
      ]
    },
    {
      "cell_type": "code",
      "metadata": {
        "colab": {
          "base_uri": "https://localhost:8080/"
        },
        "id": "tXdBgJ-yvq7x",
        "outputId": "2253d7e3-300f-47e7-8103-2e657d80ead4"
      },
      "source": [
        " \"\"\"• Quais são os valores de 𝑎 e 𝑏 para a reta 𝑎𝑥+𝑏 de regressão linear\n",
        " com a Prova 1 no eixo 𝑥 e a Prova 2 no eixo 𝑦?\"\"\"\n",
        " (a, b) = np.polyfit(x=file[\"Prova 1\"], y=file[\"Prova 2\"], deg = 1)\n",
        " print(a,b)\n",
        " (aa,ab) = round(a, 2),round(b, 3)\n",
        " print(\"Com três casas decimais:\",aa,ab)"
      ],
      "execution_count": 128,
      "outputs": [
        {
          "output_type": "stream",
          "name": "stdout",
          "text": [
            "1.0101010101010106 19.33252525252527\n",
            "Com três casas decimais: 1.01 19.333\n"
          ]
        }
      ]
    },
    {
      "cell_type": "code",
      "metadata": {
        "colab": {
          "base_uri": "https://localhost:8080/",
          "height": 282
        },
        "id": "VW_YIkDBx-KA",
        "outputId": "2e36089e-9bdc-4808-ebc0-92908defb523"
      },
      "source": [
        "\"\"\"• Imprime a reta de regressão no formato 𝑦=𝑎𝑥+𝑏, com 𝑎 e 𝑏 os\n",
        "valores obtidos no passo acima,agora com 3 casas decimais (note que\n",
        "não há espaço em branco entre 𝑎 e 𝑥 nesta formatação).\"\"\"\n",
        "x = np.arange(0,51)\n",
        "y = aa*x+ab\n",
        "plt.plot(x,y,'r')"
      ],
      "execution_count": 129,
      "outputs": [
        {
          "output_type": "execute_result",
          "data": {
            "text/plain": [
              "[<matplotlib.lines.Line2D at 0x7f595e98d650>]"
            ]
          },
          "metadata": {},
          "execution_count": 129
        },
        {
          "output_type": "display_data",
          "data": {
            "image/png": "[encoded data removed]",
            "text/plain": [
              "<Figure size 432x288 with 1 Axes>"
            ]
          },
          "metadata": {
            "needs_background": "light"
          }
        }
      ]
    },
    {
      "cell_type": "code",
      "metadata": {
        "colab": {
          "base_uri": "https://localhost:8080/"
        },
        "id": "m1e30RYjyGpX",
        "outputId": "20b75e3e-9371-4ffa-cbd0-c2cb1e36ec86"
      },
      "source": [
        "\"\"\"Qual seria a predição baseada nessa reta para a nota na Prova 2 se a\n",
        "nota na Prova 1 for 65?\"\"\"\n",
        "print(a*65+b)"
      ],
      "execution_count": 101,
      "outputs": [
        {
          "output_type": "stream",
          "name": "stdout",
          "text": [
            "84.98909090909096\n"
          ]
        }
      ]
    },
    {
      "cell_type": "code",
      "metadata": {
        "colab": {
          "base_uri": "https://localhost:8080/"
        },
        "id": "8ICf5IPU4-l5",
        "outputId": "799f023c-3c41-4553-e4e4-f7b8cc5b8c8b"
      },
      "source": [
        "\"\"\"Leia um número n (número real no intervalo de 0 a 100)\"\"\"\n",
        "while True:\n",
        "    try:\n",
        "        n = int(input(\"Digite um número real no intervalo de 1 a 100: \"))\n",
        "        if not 1 <= n <= 100:\n",
        "            raise ValueError('Valor fora do intervalo permitido')\n",
        "        break\n",
        "    except ValueError as error:\n",
        "        print(error)"
      ],
      "execution_count": 131,
      "outputs": [
        {
          "name": "stdout",
          "output_type": "stream",
          "text": [
            "Digite um número real 'n' no intervalo de 1 a 100: 54\n"
          ]
        }
      ]
    }
  ]
}