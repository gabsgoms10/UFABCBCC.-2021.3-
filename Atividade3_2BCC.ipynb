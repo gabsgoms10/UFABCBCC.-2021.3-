{
  "nbformat": 4,
  "nbformat_minor": 0,
  "metadata": {
    "colab": {
      "name": "Atividade3.2BCC.ipynb",
      "provenance": [],
      "collapsed_sections": [],
      "authorship_tag": "ABX9TyNyzNAdtET7sKL7YH240u+O",
      "include_colab_link": true
    },
    "kernelspec": {
      "name": "python3",
      "display_name": "Python 3"
    },
    "language_info": {
      "name": "python"
    }
  },
  "cells": [
    {
      "cell_type": "markdown",
      "metadata": {
        "id": "view-in-github",
        "colab_type": "text"
      },
      "source": [
        "<a href=\"https://colab.research.google.com/github/gabsgoms10/UFABCBCC.-2021.3-/blob/main/Atividade3_2BCC.ipynb\" target=\"_parent\"><img src=\"https://colab.research.google.com/assets/colab-badge.svg\" alt=\"Open In Colab\"/></a>"
      ]
    },
    {
      "cell_type": "code",
      "metadata": {
        "colab": {
          "base_uri": "https://localhost:8080/"
        },
        "id": "M2WoBKmiUA8S",
        "outputId": "440220cd-77e8-469d-9bd1-8eb7b8c42588"
      },
      "source": [
        " # Exercício 1\n",
        " import pandas as pd\n",
        " tab = pd.read_csv(\"https://drive.google.com/u/1/uc?id=182_Z-bL7n9itkupECYhIOEGuIjfQbF0Z&export=download\")\n",
        " print(tab.columns)\n",
        " tab.sort_values(by=\"temperatura\")\n",
        " # Media:\n",
        " print(\"A média de temperatura é:\", tab['temperatura'].mean())\n",
        " # Mediana:\n",
        " print(\"A mediana das temperaturas é:\", tab['temperatura'].median())\n",
        " # Moda:\n",
        " print(\"A moda das temperaturas é:\", tab['temperatura'].mode())"
      ],
      "execution_count": 28,
      "outputs": [
        {
          "output_type": "stream",
          "name": "stdout",
          "text": [
            "Index(['periodo', 'temperatura'], dtype='object')\n",
            "A média de temperatura é: 17.966666666666665\n",
            "A mediana das temperaturas é: 17.5\n",
            "A moda das temperaturas é: 0    15\n",
            "1    17\n",
            "dtype: int64\n"
          ]
        }
      ]
    },
    {
      "cell_type": "code",
      "metadata": {
        "colab": {
          "base_uri": "https://localhost:8080/"
        },
        "id": "FE26xsWez4c2",
        "outputId": "302528ea-4c23-444a-dc88-ba7ef8f6f72d"
      },
      "source": [
        " # Exercicio 2: Calcule os percentis: 25ᵒ, 55ᵒ, 75ᵒ.\n",
        " import numpy as np\n",
        " tab = pd.read_csv(\"https://drive.google.com/u/1/uc?id=182_Z-bL7n9itkupECYhIOEGuIjfQbF0Z&export=download\")\n",
        "  # 25ᵒ\n",
        " print(\"25ᵒ=\", np.percentile(tab['temperatura'], q=25))\n",
        "  # 55ᵒ\n",
        " print(\"55ᵒ=\", np.percentile(tab['temperatura'], q=55))\n",
        "  # 75ᵒ\n",
        " print(\"75ᵒ=\", np.percentile(tab['temperatura'], q=75))"
      ],
      "execution_count": 38,
      "outputs": [
        {
          "output_type": "stream",
          "name": "stdout",
          "text": [
            "25ᵒ= 15.0\n",
            "55ᵒ= 18.0\n",
            "75ᵒ= 20.0\n"
          ]
        }
      ]
    },
    {
      "cell_type": "code",
      "metadata": {
        "colab": {
          "base_uri": "https://localhost:8080/"
        },
        "id": "ERSrB7NS0BpO",
        "outputId": "4b5b8a40-29fb-4344-9a9b-5fb0244f79e4"
      },
      "source": [
        " # Exercicio 3: Calcule a(s) moda(s) de temperatura. Calcule e imprima a menor moda.\n",
        " print(tab[\"temperatura\"].mode().min())"
      ],
      "execution_count": 71,
      "outputs": [
        {
          "output_type": "stream",
          "name": "stdout",
          "text": [
            "15\n"
          ]
        }
      ]
    },
    {
      "cell_type": "code",
      "metadata": {
        "colab": {
          "base_uri": "https://localhost:8080/"
        },
        "id": "TOT_7gjN0Sdd",
        "outputId": "b36be2d0-c06c-4300-98d1-5a1b9a15431e"
      },
      "source": [
        "# Exercício 4: Escreva instruções para ler o nome de uma coluna da tabela (período ou temperatura), obter e imprimir a(s) moda(s) no conjunto de dados da coluna lida.\n",
        "print(tab['periodo'].mode())\n"
      ],
      "execution_count": 42,
      "outputs": [
        {
          "output_type": "stream",
          "name": "stdout",
          "text": [
            "0      1\n",
            "1      2\n",
            "2      3\n",
            "3      4\n",
            "4      5\n",
            "5      6\n",
            "6      7\n",
            "7      8\n",
            "8      9\n",
            "9     10\n",
            "10    11\n",
            "11    12\n",
            "12    13\n",
            "13    14\n",
            "14    15\n",
            "15    16\n",
            "16    17\n",
            "17    18\n",
            "18    19\n",
            "19    20\n",
            "20    21\n",
            "21    22\n",
            "22    23\n",
            "23    24\n",
            "24    25\n",
            "25    26\n",
            "26    27\n",
            "27    28\n",
            "28    29\n",
            "29    30\n",
            "dtype: int64\n"
          ]
        }
      ]
    },
    {
      "cell_type": "code",
      "metadata": {
        "colab": {
          "base_uri": "https://localhost:8080/"
        },
        "id": "OEq9kyPr0jVJ",
        "outputId": "f292f3cc-8d3b-4f7b-e79b-c13823055d8e"
      },
      "source": [
        " # Exercício 5: Calcule e imprima a(s) moda(s) de temperatura, mas considere esse cálculo apenas para temperatura > 16.\n",
        " x = (tab.query('temperatura > 16'))\n",
        " print(x['temperatura'].mode())"
      ],
      "execution_count": 45,
      "outputs": [
        {
          "output_type": "stream",
          "name": "stdout",
          "text": [
            "0    17\n",
            "dtype: int64\n"
          ]
        }
      ]
    },
    {
      "cell_type": "code",
      "metadata": {
        "colab": {
          "base_uri": "https://localhost:8080/"
        },
        "id": "45PWb2460u_j",
        "outputId": "bf354b91-4189-4d8b-d21d-0136f26e439c"
      },
      "source": [
        " # Exercicio 6: Calcule e imprime para a temperatura as seguintes medidas:\n",
        " # • mínimo\n",
        " print(tab['temperatura'].min())\n",
        " # • máximo\n",
        " print(tab['temperatura'].max())\n",
        " # • amplitude\n",
        " print(tab['temperatura'].max()- tab['temperatura'].min())\n",
        " # • variância - imprimir com 3 casas decimais\n",
        " print(\"%.3f\" % tab['temperatura'].var())\n",
        " # • desvio padrão - imprimir com 3 casas decimais\n",
        " print(\"%.3f\" % tab['temperatura'].std())\n"
      ],
      "execution_count": 70,
      "outputs": [
        {
          "output_type": "stream",
          "name": "stdout",
          "text": [
            "12\n",
            "26\n",
            "14\n",
            "13.620\n",
            "3.690\n"
          ]
        }
      ]
    },
    {
      "cell_type": "code",
      "metadata": {
        "colab": {
          "base_uri": "https://localhost:8080/"
        },
        "id": "SBCy8CtE1Iwi",
        "outputId": "e406997d-c97c-4ce7-883a-77b58cd39819"
      },
      "source": [
        " \"\"\" Exercício 7: Crie a nova coluna com nome \"razao\" para qual o valor para cada período é a temperatura dividida pelo período. Imprime a tabela com esta nova coluna. \n",
        " Calcule a variância de valores na coluna \"razao\".\"\"\"\n",
        "tab['razão'] = tab['periodo']/tab['temperatura']\n",
        "print(tab)\n",
        "print('A variância da coluna razão é:', tab['razão'].var())"
      ],
      "execution_count": 73,
      "outputs": [
        {
          "output_type": "stream",
          "name": "stdout",
          "text": [
            "    periodo  temperatura     razão\n",
            "0         1           25  0.040000\n",
            "1         2           24  0.083333\n",
            "2         3           24  0.125000\n",
            "3         4           26  0.153846\n",
            "4         5           22  0.227273\n",
            "5         6           20  0.300000\n",
            "6         7           14  0.500000\n",
            "7         8           13  0.615385\n",
            "8         9           14  0.642857\n",
            "9        10           12  0.833333\n",
            "10       11           15  0.733333\n",
            "11       12           17  0.705882\n",
            "12       13           21  0.619048\n",
            "13       14           20  0.700000\n",
            "14       15           19  0.789474\n",
            "15       16           20  0.800000\n",
            "16       17           20  0.850000\n",
            "17       18           17  1.058824\n",
            "18       19           18  1.055556\n",
            "19       20           18  1.111111\n",
            "20       21           15  1.400000\n",
            "21       22           17  1.294118\n",
            "22       23           13  1.769231\n",
            "23       24           15  1.600000\n",
            "24       25           15  1.666667\n",
            "25       26           17  1.529412\n",
            "26       27           15  1.800000\n",
            "27       28           18  1.555556\n",
            "28       29           17  1.705882\n",
            "29       30           18  1.666667\n",
            "A variância da coluna razão é: 0.31289703748070286\n"
          ]
        }
      ]
    }
  ]
}